{
 "cells": [
  {
   "cell_type": "code",
   "execution_count": 4,
   "metadata": {},
   "outputs": [
    {
     "name": "stdout",
     "output_type": "stream",
     "text": [
      "{'Local_feature_2': {24: 1, 23: 1, 8: 330, 14: 238, 22: 18, 15: 259, 17: 253, 11: 40, 16: 925, 20: 12, 19: 572, 7: 736, 18: 122, 4: 70, 13: 221, 6: 44, 21: 54, 10: 329, 3: 31, 2: 198, 5: 31, 9: 22, 0: 7, 1: 1, 12: 1}, 'Local_feature_5': {8: 17, 1: 3315, 2: 293, 0: 677, 4: 145, 7: 36, 6: 20, 5: 13}, 'Local_feature_18': {3: 127, 5: 301, 6: 849, 4: 156, 1: 694, 2: 58, 8: 962, 7: 878, 13: 224, 12: 80, 18: 75, 16: 45, 17: 17, 14: 24, 11: 10, 15: 12, 9: 1, 10: 3}, 'Local_feature_41': {0: 2480, 10: 453, 9: 440, 8: 276, 3: 77, 6: 74, 16: 315, 21: 82, 15: 10, 2: 35, 14: 51, 1: 90, 11: 22, 7: 11, 5: 51, 17: 22, 18: 3, 12: 10, 13: 8, 19: 2, 20: 4}, 'Local_feature_47': {1: 2591, 13: 196, 8: 164, 7: 444, 10: 151, 2: 120, 12: 27, 15: 315, 18: 82, 5: 101, 9: 16, 14: 252, 4: 21, 17: 3, 11: 11, 16: 22}, 'Local_feature_52': {4: 1578, 9: 268, 1: 955, 5: 141, 27: 34, 20: 224, 7: 154, 11: 36, 6: 186, 14: 145, 12: 180, 26: 71, 21: 22, 30: 7, 16: 102, 13: 104, 2: 25, 29: 50, 23: 85, 10: 41, 22: 24, 15: 8, 3: 9, 8: 13, 18: 13, 19: 3, 28: 35, 24: 1, 17: 1, 25: 1}, 'Local_feature_53': {4: 481, 13: 144, 6: 278, 0: 912, 25: 47, 3: 126, 2: 1288, 17: 269, 8: 92, 11: 145, 12: 102, 22: 30, 24: 72, 28: 9, 10: 96, 9: 195, 7: 33, 27: 70, 15: 27, 16: 14, 5: 11, 14: 9, 1: 8, 18: 7, 26: 35, 21: 3, 23: 5, 19: 7, 20: 1}, 'Local_feature_55': {6: 498, 13: 194, 8: 285, 1: 940, 24: 35, 5: 165, 2: 449, 20: 318, 4: 398, 3: 393, 9: 109, 12: 121, 23: 73, 19: 150, 27: 8, 11: 178, 17: 39, 18: 50, 10: 4, 26: 50, 15: 2, 7: 12, 14: 4, 25: 35, 16: 4, 21: 1, 22: 1}, 'Local_feature_58': {1: 314, 7: 723, 9: 344, 11: 890, 14: 482, 8: 362, 21: 141, 4: 146, 10: 18, 2: 26, 12: 256, 5: 82, 3: 273, 19: 26, 6: 38, 22: 45, 13: 28, 16: 90, 24: 12, 23: 17, 20: 88, 18: 11, 17: 62, 15: 17, 25: 25}, 'Local_feature_59': {11: 438, 14: 11, 2: 1931, 1: 774, 8: 488, 17: 25, 18: 119, 6: 140, 16: 12, 10: 203, 0: 107, 15: 52, 22: 42, 9: 3, 13: 4, 7: 89, 5: 63, 3: 3, 20: 7, 19: 2, 4: 1, 12: 1, 21: 1}, 'Local_feature_61': {4: 1835, 6: 259, 3: 675, 11: 284, 13: 603, 2: 238, 22: 6, 24: 90, 16: 15, 17: 3, 1: 44, 20: 6, 15: 48, 12: 4, 14: 22, 9: 83, 21: 9, 27: 48, 19: 5, 26: 18, 25: 4, 10: 88, 7: 48, 8: 62, 5: 17, 18: 1, 23: 1}, 'Local_feature_64': {0: 88, 1: 257, 6: 371, 8: 496, 9: 594, 5: 308, 15: 27, 7: 222, 24: 141, 3: 150, 16: 191, 11: 408, 14: 20, 13: 108, 10: 138, 2: 304, 4: 137, 17: 135, 22: 26, 25: 45, 12: 28, 19: 90, 27: 12, 26: 17, 23: 88, 21: 11, 20: 62, 18: 17, 28: 25}, 'Local_feature_67': {3: 1837, 5: 300, 2: 670, 8: 84, 12: 609, 1: 241, 21: 6, 23: 90, 10: 283, 15: 15, 16: 3, 0: 45, 19: 6, 14: 54, 11: 4, 13: 10, 20: 9, 26: 48, 18: 5, 25: 18, 24: 4, 9: 88, 6: 6, 7: 62, 4: 17, 17: 1, 22: 1}, 'Local_feature_76': {0: 2820, 5: 174, 7: 257, 9: 237, 8: 82, 2: 439, 10: 115, 3: 313, 4: 67, 11: 12}, 'Local_feature_77': {15: 26, 12: 13, 2: 576, 9: 1452, 11: 234, 6: 144, 13: 48, 0: 938, 10: 29, 19: 320, 20: 38, 24: 72, 26: 11, 17: 126, 25: 2, 3: 263, 16: 27, 14: 13, 21: 3, 5: 5, 7: 91, 18: 8, 22: 3, 4: 65, 23: 9}, 'Local_feature_79': {11: 912, 2: 648, 3: 443, 5: 172, 10: 428, 1: 940, 14: 102, 17: 321, 18: 6, 24: 72, 26: 23, 16: 176, 25: 6, 15: 48, 7: 89, 8: 1, 21: 3, 19: 22, 9: 1, 22: 2, 20: 24, 4: 67, 23: 5, 13: 4, 12: 1}, 'Local_feature_83': {5: 2028, 6: 15, 4: 270, 1: 266, 0: 1129, 8: 319, 7: 210, 11: 72, 13: 11, 12: 2, 2: 153, 10: 3, 9: 38}, 'Local_feature_85': {9: 1208, 6: 185, 8: 651, 1: 1429, 2: 96, 13: 316, 12: 11, 18: 72, 20: 23, 19: 2, 0: 23, 10: 223, 5: 100, 3: 100, 17: 3, 7: 11, 16: 26, 11: 29, 15: 4, 14: 4}, 'Local_feature_88': {10: 487, 9: 359, 11: 401, 1: 1018, 15: 250, 6: 299, 4: 943, 12: 351, 8: 102, 13: 94, 2: 131, 3: 43, 14: 19, 18: 13, 16: 5, 17: 1}, 'Local_feature_89': {26: 52, 16: 617, 18: 1809, 22: 159, 14: 728, 17: 99, 19: 70, 20: 72, 23: 26, 24: 28, 21: 34, 15: 6, 25: 38, 9: 99, 6: 39, 5: 92, 1: 74, 13: 121, 3: 36, 11: 79, 12: 47, 8: 25, 2: 112, 0: 37, 7: 17}, 'Local_feature_90': {7: 1189, 5: 720, 1: 1383, 2: 361, 8: 307, 9: 14, 10: 27, 6: 320, 11: 33, 13: 84, 15: 27, 14: 32, 12: 13, 4: 4, 3: 2}, 'Local_feature_91': {24: 140, 17: 937, 18: 1155, 25: 151, 14: 903, 19: 330, 15: 2, 23: 41, 26: 71, 21: 1, 16: 80, 22: 20, 28: 13, 10: 92, 7: 86, 4: 54, 2: 86, 9: 39, 1: 47, 13: 39, 8: 23, 27: 13, 20: 14, 3: 93, 6: 52, 12: 8, 5: 8, 0: 18}, 'Aggregate_feature_43': {6: 1157, 2: 58, 4: 871, 3: 660, 11: 10, 8: 635, 9: 228, 1: 838, 10: 52, 12: 4, 0: 3}, 'Aggregate_feature_44': {17: 172, 14: 2048, 16: 50, 15: 56, 4: 86, 3: 436, 6: 83, 12: 103, 2: 229, 10: 316, 5: 509, 1: 72, 13: 214, 11: 29, 8: 15, 7: 68, 9: 20, 0: 10}, 'Aggregate_feature_49': {0: 75, 11: 397, 8: 246, 14: 64, 9: 890, 5: 119, 6: 1360, 15: 281, 12: 203, 24: 7, 13: 70, 4: 69, 1: 199, 2: 62, 23: 17, 7: 227, 10: 9, 18: 19, 22: 29, 16: 61, 3: 13, 17: 35, 20: 1, 19: 62, 21: 1}, 'Aggregate_feature_52': {19: 120, 7: 799, 16: 241, 18: 143, 15: 222, 5: 1048, 9: 155, 21: 131, 29: 4, 26: 12, 4: 279, 3: 330, 24: 107, 11: 149, 0: 272, 22: 132, 10: 125, 13: 13, 6: 43, 23: 4, 1: 30, 12: 10, 27: 3, 25: 1, 17: 51, 14: 22, 8: 8, 20: 62}, 'fees': {24: 1, 23: 1, 8: 323, 14: 238, 22: 18, 15: 259, 17: 253, 11: 34, 16: 925, 20: 12, 19: 133, 7: 743, 18: 561, 4: 70, 12: 149, 6: 42, 21: 54, 10: 329, 3: 25, 13: 79, 2: 204, 5: 33, 9: 22, 0: 7, 1: 1}, 'size': {21: 1, 20: 1, 6: 789, 7: 194, 19: 16, 3: 235, 15: 74, 5: 807, 8: 129, 10: 232, 16: 212, 4: 594, 18: 73, 9: 635, 13: 363, 17: 35, 14: 26, 12: 43, 11: 7, 1: 25, 0: 25}, 'num_output_addresses': {8: 17, 2: 3315, 3: 293, 1: 677, 4: 145, 7: 42, 6: 21, 5: 6}}\n"
     ]
    }
   ],
   "source": [
    "import pandas as pd\n",
    "from helpers import read_csv, load_pickled_data, pickle_data\n",
    "import os\n",
    "import matplotlib.pyplot as plt \n",
    "import plotly\n",
    "from helpers import create_nx_graph\n",
    "import plotly.graph_objects as go\n",
    "import os, sys\n",
    "\n",
    "from helpers import bfs, get_class_pairs, choose_node_based_on_neighbors, load_pickled_data\n",
    "import numpy as np\n",
    "import networkx as nx\n",
    "\n",
    "importances_dict:dict = load_pickled_data(\"feature_importances.pkl\")\n",
    "feat_occurences:dict = load_pickled_data('frequencies.pkl')\n",
    "print(feat_occurences)\n",
    "importances = {}\n",
    "names = []\n",
    "i = 0\n",
    "for key, value in importances_dict.items():\n",
    "    importances[i] = value\n",
    "    names.append(key)\n",
    "\n",
    "\n",
    "keep_cols = [\"txId\", 'Time step'] + names\n",
    "TIMESTEPS =[13]#, 42, 35, 32, 29, 22, 9 ,20]\n",
    "\n",
    "DATASET_BASE = \"dataset\"\n",
    "PICKLED_TIMESTEPS = os.path.join(\"exports\", \"split_on_timestep.pkl\")\n",
    "txs_features:pd.DataFrame =  read_csv(os.path.join(DATASET_BASE, \"elliptic_txs_features.csv\"), ret_Dataframe=True)[keep_cols]\n",
    "\n"
   ]
  },
  {
   "cell_type": "code",
   "execution_count": 2,
   "metadata": {},
   "outputs": [
    {
     "name": "stdout",
     "output_type": "stream",
     "text": [
      "Total Nodes df shape: (203769, 31)\n",
      "total edges df shape: (234355, 2)\n",
      "4528\n"
     ]
    }
   ],
   "source": [
    "txs_features = txs_features[keep_cols]\n",
    "txs_classes:pd.DataFrame = read_csv(os.path.join(DATASET_BASE, \"elliptic_txs_classes.csv\"), ret_Dataframe=True)\n",
    "txs_edgelist:pd.DataFrame = read_csv(os.path.join(DATASET_BASE, \"elliptic_txs_edgelist.csv\"), ret_Dataframe=True)\n",
    "\n",
    "\n",
    "merge_feats_class = pd.merge(txs_features, txs_classes, on='txId')\n",
    "merge_feats_class.shape\n",
    "print(f\"Total Nodes df shape: {txs_features.shape}\")\n",
    "print(f\"total edges df shape: {txs_edgelist.shape}\")\n",
    "#timestep_graphs = load_pickled_data(PICKLED_TIMESTEPS)\n",
    "timestep_dataframe = merge_feats_class.loc[merge_feats_class['Time step'].isin(TIMESTEPS)].reset_index(drop=True)\n",
    "timestep_edges = txs_edgelist[txs_edgelist['txId1'].isin(timestep_dataframe['txId'])].reset_index(drop=True)\n",
    "\n",
    "timestep_cols = timestep_dataframe.columns\n",
    "timestep_list = timestep_dataframe.values.tolist()\n",
    "\n",
    "edge_list = timestep_edges.values.tolist()\n",
    "\n",
    "from Graph import Graph, Node\n",
    "from visualizations import visualize_graph_from_list, visualize_graph_df\n",
    "\n",
    "graph_of_interest = Graph()\n",
    "graph_of_interest.create_from_lists(timestep_cols, timestep_list, edge_list)\n",
    "graph_of_interest.feature_importances =  importances_dict\n",
    "graph_of_interest.feature_occurences = feat_occurences\n",
    "print(graph_of_interest.get_total_nodes())\n",
    "# g:nx.DiGraph = create_nx_graph(timestep_dataframe, timestep_edges)"
   ]
  },
  {
   "cell_type": "code",
   "execution_count": 3,
   "metadata": {},
   "outputs": [
    {
     "data": {
      "text/plain": [
       "{'Local_feature_2': -0.0811274402055945,\n",
       " 'Local_feature_5': -0.0438745479173489,\n",
       " 'Local_feature_18': -0.1675006949093293,\n",
       " 'Local_feature_41': -0.2391100312616901,\n",
       " 'Local_feature_47': -0.2429567810530164,\n",
       " 'Local_feature_52': -0.4054599665405819,\n",
       " 'Local_feature_53': -0.4812331632235455,\n",
       " 'Local_feature_55': -0.4593546461076475,\n",
       " 'Local_feature_58': -0.0391400909526916,\n",
       " 'Local_feature_59': -0.1722614489252711,\n",
       " 'Local_feature_61': -0.1602992537987804,\n",
       " 'Local_feature_64': -0.0391353732241185,\n",
       " 'Local_feature_67': -0.1602925725258396,\n",
       " 'Local_feature_76': -0.0932367299827904,\n",
       " 'Local_feature_77': -0.1715611318397765,\n",
       " 'Local_feature_79': -0.1698252264375856,\n",
       " 'Local_feature_83': -0.2482629689897027,\n",
       " 'Local_feature_85': -0.2445544587123969,\n",
       " 'Local_feature_88': -0.2778453174038287,\n",
       " 'Local_feature_89': 1.8157469001820088,\n",
       " 'Local_feature_90': 2.416015230057812,\n",
       " 'Local_feature_91': 1.5833170395205067,\n",
       " 'Aggregate_feature_43': -0.6492046263757234,\n",
       " 'Aggregate_feature_44': -0.5334313382633699,\n",
       " 'Aggregate_feature_49': -0.1274278532002991,\n",
       " 'Aggregate_feature_52': -0.1486291691724428,\n",
       " 'fees': 0.0005,\n",
       " 'size': 336.0,\n",
       " 'num_output_addresses': 2.0}"
      ]
     },
     "execution_count": 3,
     "metadata": {},
     "output_type": "execute_result"
    }
   ],
   "source": []
  }
 ],
 "metadata": {
  "kernelspec": {
   "display_name": "venv",
   "language": "python",
   "name": "python3"
  },
  "language_info": {
   "codemirror_mode": {
    "name": "ipython",
    "version": 3
   },
   "file_extension": ".py",
   "mimetype": "text/x-python",
   "name": "python",
   "nbconvert_exporter": "python",
   "pygments_lexer": "ipython3",
   "version": "3.10.11"
  }
 },
 "nbformat": 4,
 "nbformat_minor": 2
}
