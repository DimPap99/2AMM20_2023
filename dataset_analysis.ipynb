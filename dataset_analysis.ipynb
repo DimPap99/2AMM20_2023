{
 "cells": [
  {
   "cell_type": "markdown",
   "metadata": {},
   "source": [
    "Merge the three different datasets based on the txId in order to have the features, class and neighbor for each transaction in one dataframe."
   ]
  },
  {
   "cell_type": "code",
   "execution_count": 1,
   "metadata": {},
   "outputs": [
    {
     "data": {
      "text/html": [
       "<div>\n",
       "<style scoped>\n",
       "    .dataframe tbody tr th:only-of-type {\n",
       "        vertical-align: middle;\n",
       "    }\n",
       "\n",
       "    .dataframe tbody tr th {\n",
       "        vertical-align: top;\n",
       "    }\n",
       "\n",
       "    .dataframe thead th {\n",
       "        text-align: right;\n",
       "    }\n",
       "</style>\n",
       "<table border=\"1\" class=\"dataframe\">\n",
       "  <thead>\n",
       "    <tr style=\"text-align: right;\">\n",
       "      <th></th>\n",
       "      <th>txId</th>\n",
       "      <th>Time step</th>\n",
       "      <th>Local_feature_1</th>\n",
       "      <th>Local_feature_2</th>\n",
       "      <th>Local_feature_3</th>\n",
       "      <th>Local_feature_4</th>\n",
       "      <th>Local_feature_5</th>\n",
       "      <th>Local_feature_6</th>\n",
       "      <th>Local_feature_7</th>\n",
       "      <th>Local_feature_8</th>\n",
       "      <th>...</th>\n",
       "      <th>in_BTC_max</th>\n",
       "      <th>in_BTC_mean</th>\n",
       "      <th>in_BTC_median</th>\n",
       "      <th>in_BTC_total</th>\n",
       "      <th>out_BTC_min</th>\n",
       "      <th>out_BTC_max</th>\n",
       "      <th>out_BTC_mean</th>\n",
       "      <th>out_BTC_median</th>\n",
       "      <th>out_BTC_total</th>\n",
       "      <th>class</th>\n",
       "    </tr>\n",
       "  </thead>\n",
       "  <tbody>\n",
       "    <tr>\n",
       "      <th>0</th>\n",
       "      <td>3321</td>\n",
       "      <td>1</td>\n",
       "      <td>-0.169615</td>\n",
       "      <td>-0.184668</td>\n",
       "      <td>-1.201369</td>\n",
       "      <td>-0.121970</td>\n",
       "      <td>-0.043875</td>\n",
       "      <td>-0.113002</td>\n",
       "      <td>-0.061584</td>\n",
       "      <td>-0.160199</td>\n",
       "      <td>...</td>\n",
       "      <td>0.534072</td>\n",
       "      <td>0.534072</td>\n",
       "      <td>0.534072</td>\n",
       "      <td>0.534072</td>\n",
       "      <td>1.668990e-01</td>\n",
       "      <td>0.367074</td>\n",
       "      <td>0.266986</td>\n",
       "      <td>0.266986</td>\n",
       "      <td>0.533972</td>\n",
       "      <td>3</td>\n",
       "    </tr>\n",
       "    <tr>\n",
       "      <th>1</th>\n",
       "      <td>11108</td>\n",
       "      <td>1</td>\n",
       "      <td>-0.137586</td>\n",
       "      <td>-0.184668</td>\n",
       "      <td>-1.201369</td>\n",
       "      <td>-0.121970</td>\n",
       "      <td>-0.043875</td>\n",
       "      <td>-0.113002</td>\n",
       "      <td>-0.061584</td>\n",
       "      <td>-0.127429</td>\n",
       "      <td>...</td>\n",
       "      <td>5.611878</td>\n",
       "      <td>5.611878</td>\n",
       "      <td>5.611878</td>\n",
       "      <td>5.611878</td>\n",
       "      <td>5.861940e-01</td>\n",
       "      <td>5.025584</td>\n",
       "      <td>2.805889</td>\n",
       "      <td>2.805889</td>\n",
       "      <td>5.611778</td>\n",
       "      <td>3</td>\n",
       "    </tr>\n",
       "    <tr>\n",
       "      <th>2</th>\n",
       "      <td>51816</td>\n",
       "      <td>1</td>\n",
       "      <td>-0.170103</td>\n",
       "      <td>-0.184668</td>\n",
       "      <td>-1.201369</td>\n",
       "      <td>-0.121970</td>\n",
       "      <td>-0.043875</td>\n",
       "      <td>-0.113002</td>\n",
       "      <td>-0.061584</td>\n",
       "      <td>-0.160699</td>\n",
       "      <td>...</td>\n",
       "      <td>0.456608</td>\n",
       "      <td>0.456608</td>\n",
       "      <td>0.456608</td>\n",
       "      <td>0.456608</td>\n",
       "      <td>2.279902e-01</td>\n",
       "      <td>0.228518</td>\n",
       "      <td>0.228254</td>\n",
       "      <td>0.228254</td>\n",
       "      <td>0.456508</td>\n",
       "      <td>3</td>\n",
       "    </tr>\n",
       "    <tr>\n",
       "      <th>3</th>\n",
       "      <td>68869</td>\n",
       "      <td>1</td>\n",
       "      <td>-0.114267</td>\n",
       "      <td>-0.184668</td>\n",
       "      <td>-1.201369</td>\n",
       "      <td>0.028105</td>\n",
       "      <td>-0.043875</td>\n",
       "      <td>-0.113002</td>\n",
       "      <td>0.547008</td>\n",
       "      <td>-0.161652</td>\n",
       "      <td>...</td>\n",
       "      <td>8.000000</td>\n",
       "      <td>3.102967</td>\n",
       "      <td>1.000000</td>\n",
       "      <td>9.308900</td>\n",
       "      <td>1.229000e+00</td>\n",
       "      <td>8.079800</td>\n",
       "      <td>4.654400</td>\n",
       "      <td>4.654400</td>\n",
       "      <td>9.308800</td>\n",
       "      <td>2</td>\n",
       "    </tr>\n",
       "    <tr>\n",
       "      <th>4</th>\n",
       "      <td>89273</td>\n",
       "      <td>1</td>\n",
       "      <td>5.202107</td>\n",
       "      <td>-0.210553</td>\n",
       "      <td>-1.756361</td>\n",
       "      <td>-0.121970</td>\n",
       "      <td>260.090707</td>\n",
       "      <td>-0.113002</td>\n",
       "      <td>-0.061584</td>\n",
       "      <td>5.335864</td>\n",
       "      <td>...</td>\n",
       "      <td>852.164680</td>\n",
       "      <td>852.164680</td>\n",
       "      <td>852.164680</td>\n",
       "      <td>852.164680</td>\n",
       "      <td>1.300000e-07</td>\n",
       "      <td>41.264036</td>\n",
       "      <td>0.065016</td>\n",
       "      <td>0.000441</td>\n",
       "      <td>852.164680</td>\n",
       "      <td>2</td>\n",
       "    </tr>\n",
       "    <tr>\n",
       "      <th>...</th>\n",
       "      <td>...</td>\n",
       "      <td>...</td>\n",
       "      <td>...</td>\n",
       "      <td>...</td>\n",
       "      <td>...</td>\n",
       "      <td>...</td>\n",
       "      <td>...</td>\n",
       "      <td>...</td>\n",
       "      <td>...</td>\n",
       "      <td>...</td>\n",
       "      <td>...</td>\n",
       "      <td>...</td>\n",
       "      <td>...</td>\n",
       "      <td>...</td>\n",
       "      <td>...</td>\n",
       "      <td>...</td>\n",
       "      <td>...</td>\n",
       "      <td>...</td>\n",
       "      <td>...</td>\n",
       "      <td>...</td>\n",
       "      <td>...</td>\n",
       "    </tr>\n",
       "    <tr>\n",
       "      <th>202799</th>\n",
       "      <td>194747812</td>\n",
       "      <td>49</td>\n",
       "      <td>0.558398</td>\n",
       "      <td>-0.198956</td>\n",
       "      <td>-0.091383</td>\n",
       "      <td>-0.121970</td>\n",
       "      <td>-0.043875</td>\n",
       "      <td>-0.113002</td>\n",
       "      <td>-0.061584</td>\n",
       "      <td>0.584665</td>\n",
       "      <td>...</td>\n",
       "      <td>115.952889</td>\n",
       "      <td>115.952889</td>\n",
       "      <td>115.952889</td>\n",
       "      <td>115.952889</td>\n",
       "      <td>1.653300e+00</td>\n",
       "      <td>114.299544</td>\n",
       "      <td>57.976422</td>\n",
       "      <td>57.976422</td>\n",
       "      <td>115.952844</td>\n",
       "      <td>3</td>\n",
       "    </tr>\n",
       "    <tr>\n",
       "      <th>202800</th>\n",
       "      <td>194747925</td>\n",
       "      <td>49</td>\n",
       "      <td>0.547658</td>\n",
       "      <td>-0.198956</td>\n",
       "      <td>-0.091383</td>\n",
       "      <td>-0.121970</td>\n",
       "      <td>-0.043875</td>\n",
       "      <td>-0.113002</td>\n",
       "      <td>-0.061584</td>\n",
       "      <td>0.573676</td>\n",
       "      <td>...</td>\n",
       "      <td>114.250098</td>\n",
       "      <td>114.250098</td>\n",
       "      <td>114.250098</td>\n",
       "      <td>114.250098</td>\n",
       "      <td>2.035300e-02</td>\n",
       "      <td>114.229700</td>\n",
       "      <td>57.125027</td>\n",
       "      <td>57.125027</td>\n",
       "      <td>114.250053</td>\n",
       "      <td>3</td>\n",
       "    </tr>\n",
       "    <tr>\n",
       "      <th>202801</th>\n",
       "      <td>194748063</td>\n",
       "      <td>49</td>\n",
       "      <td>0.543600</td>\n",
       "      <td>-0.198853</td>\n",
       "      <td>-0.091383</td>\n",
       "      <td>-0.121970</td>\n",
       "      <td>-0.043875</td>\n",
       "      <td>-0.113002</td>\n",
       "      <td>-0.061584</td>\n",
       "      <td>0.569524</td>\n",
       "      <td>...</td>\n",
       "      <td>113.606771</td>\n",
       "      <td>113.606771</td>\n",
       "      <td>113.606771</td>\n",
       "      <td>113.606771</td>\n",
       "      <td>9.257490e-01</td>\n",
       "      <td>112.680977</td>\n",
       "      <td>56.803363</td>\n",
       "      <td>56.803363</td>\n",
       "      <td>113.606726</td>\n",
       "      <td>3</td>\n",
       "    </tr>\n",
       "    <tr>\n",
       "      <th>202802</th>\n",
       "      <td>194748070</td>\n",
       "      <td>49</td>\n",
       "      <td>0.537760</td>\n",
       "      <td>-0.198853</td>\n",
       "      <td>-0.091383</td>\n",
       "      <td>-0.121970</td>\n",
       "      <td>-0.043875</td>\n",
       "      <td>-0.113002</td>\n",
       "      <td>-0.061584</td>\n",
       "      <td>0.563549</td>\n",
       "      <td>...</td>\n",
       "      <td>112.680977</td>\n",
       "      <td>112.680977</td>\n",
       "      <td>112.680977</td>\n",
       "      <td>112.680977</td>\n",
       "      <td>3.026970e-01</td>\n",
       "      <td>112.378235</td>\n",
       "      <td>56.340466</td>\n",
       "      <td>56.340466</td>\n",
       "      <td>112.680932</td>\n",
       "      <td>3</td>\n",
       "    </tr>\n",
       "    <tr>\n",
       "      <th>202803</th>\n",
       "      <td>194835939</td>\n",
       "      <td>49</td>\n",
       "      <td>-0.170463</td>\n",
       "      <td>-0.152788</td>\n",
       "      <td>1.018602</td>\n",
       "      <td>-0.121970</td>\n",
       "      <td>-0.063725</td>\n",
       "      <td>-0.113002</td>\n",
       "      <td>-0.061584</td>\n",
       "      <td>-0.161066</td>\n",
       "      <td>...</td>\n",
       "      <td>0.399769</td>\n",
       "      <td>0.399769</td>\n",
       "      <td>0.399769</td>\n",
       "      <td>0.399769</td>\n",
       "      <td>3.995460e-01</td>\n",
       "      <td>0.399546</td>\n",
       "      <td>0.399546</td>\n",
       "      <td>0.399546</td>\n",
       "      <td>0.399546</td>\n",
       "      <td>3</td>\n",
       "    </tr>\n",
       "  </tbody>\n",
       "</table>\n",
       "<p>202804 rows × 185 columns</p>\n",
       "</div>"
      ],
      "text/plain": [
       "             txId  Time step  Local_feature_1  Local_feature_2  \\\n",
       "0            3321          1        -0.169615        -0.184668   \n",
       "1           11108          1        -0.137586        -0.184668   \n",
       "2           51816          1        -0.170103        -0.184668   \n",
       "3           68869          1        -0.114267        -0.184668   \n",
       "4           89273          1         5.202107        -0.210553   \n",
       "...           ...        ...              ...              ...   \n",
       "202799  194747812         49         0.558398        -0.198956   \n",
       "202800  194747925         49         0.547658        -0.198956   \n",
       "202801  194748063         49         0.543600        -0.198853   \n",
       "202802  194748070         49         0.537760        -0.198853   \n",
       "202803  194835939         49        -0.170463        -0.152788   \n",
       "\n",
       "        Local_feature_3  Local_feature_4  Local_feature_5  Local_feature_6  \\\n",
       "0             -1.201369        -0.121970        -0.043875        -0.113002   \n",
       "1             -1.201369        -0.121970        -0.043875        -0.113002   \n",
       "2             -1.201369        -0.121970        -0.043875        -0.113002   \n",
       "3             -1.201369         0.028105        -0.043875        -0.113002   \n",
       "4             -1.756361        -0.121970       260.090707        -0.113002   \n",
       "...                 ...              ...              ...              ...   \n",
       "202799        -0.091383        -0.121970        -0.043875        -0.113002   \n",
       "202800        -0.091383        -0.121970        -0.043875        -0.113002   \n",
       "202801        -0.091383        -0.121970        -0.043875        -0.113002   \n",
       "202802        -0.091383        -0.121970        -0.043875        -0.113002   \n",
       "202803         1.018602        -0.121970        -0.063725        -0.113002   \n",
       "\n",
       "        Local_feature_7  Local_feature_8  ...  in_BTC_max  in_BTC_mean  \\\n",
       "0             -0.061584        -0.160199  ...    0.534072     0.534072   \n",
       "1             -0.061584        -0.127429  ...    5.611878     5.611878   \n",
       "2             -0.061584        -0.160699  ...    0.456608     0.456608   \n",
       "3              0.547008        -0.161652  ...    8.000000     3.102967   \n",
       "4             -0.061584         5.335864  ...  852.164680   852.164680   \n",
       "...                 ...              ...  ...         ...          ...   \n",
       "202799        -0.061584         0.584665  ...  115.952889   115.952889   \n",
       "202800        -0.061584         0.573676  ...  114.250098   114.250098   \n",
       "202801        -0.061584         0.569524  ...  113.606771   113.606771   \n",
       "202802        -0.061584         0.563549  ...  112.680977   112.680977   \n",
       "202803        -0.061584        -0.161066  ...    0.399769     0.399769   \n",
       "\n",
       "        in_BTC_median  in_BTC_total   out_BTC_min  out_BTC_max  out_BTC_mean  \\\n",
       "0            0.534072      0.534072  1.668990e-01     0.367074      0.266986   \n",
       "1            5.611878      5.611878  5.861940e-01     5.025584      2.805889   \n",
       "2            0.456608      0.456608  2.279902e-01     0.228518      0.228254   \n",
       "3            1.000000      9.308900  1.229000e+00     8.079800      4.654400   \n",
       "4          852.164680    852.164680  1.300000e-07    41.264036      0.065016   \n",
       "...               ...           ...           ...          ...           ...   \n",
       "202799     115.952889    115.952889  1.653300e+00   114.299544     57.976422   \n",
       "202800     114.250098    114.250098  2.035300e-02   114.229700     57.125027   \n",
       "202801     113.606771    113.606771  9.257490e-01   112.680977     56.803363   \n",
       "202802     112.680977    112.680977  3.026970e-01   112.378235     56.340466   \n",
       "202803       0.399769      0.399769  3.995460e-01     0.399546      0.399546   \n",
       "\n",
       "        out_BTC_median  out_BTC_total  class  \n",
       "0             0.266986       0.533972      3  \n",
       "1             2.805889       5.611778      3  \n",
       "2             0.228254       0.456508      3  \n",
       "3             4.654400       9.308800      2  \n",
       "4             0.000441     852.164680      2  \n",
       "...                ...            ...    ...  \n",
       "202799       57.976422     115.952844      3  \n",
       "202800       57.125027     114.250053      3  \n",
       "202801       56.803363     113.606726      3  \n",
       "202802       56.340466     112.680932      3  \n",
       "202803        0.399546       0.399546      3  \n",
       "\n",
       "[202804 rows x 185 columns]"
      ]
     },
     "execution_count": 1,
     "metadata": {},
     "output_type": "execute_result"
    }
   ],
   "source": [
    "import pandas as pd\n",
    "from helpers import read_csv, load_pickled_data, pickle_data\n",
    "import os\n",
    "import matplotlib.pyplot as plt \n",
    "import plotly\n",
    "import chart_studio.plotly as py\n",
    "import plotly.graph_objects as go\n",
    "\n",
    "DATASET_BASE = \"dataset\"\n",
    "PICKLED_OBJS = \"pickled_objs\"\n",
    "\n",
    "txs_classes:pd.DataFrame = read_csv(os.path.join(DATASET_BASE, \"elliptic_txs_classes.csv\"), ret_Dataframe=True)\n",
    "txs_edgelist:pd.DataFrame = read_csv(os.path.join(DATASET_BASE, \"elliptic_txs_edgelist.csv\"), ret_Dataframe=True)\n",
    "txs_features:pd.DataFrame =  read_csv(os.path.join(DATASET_BASE, \"elliptic_txs_features.csv\"), ret_Dataframe=True)\n",
    "\n",
    "\n",
    "merge_feats_class = pd.merge(txs_features, txs_classes, on='txId').dropna()\n",
    "merge_feats_class"
   ]
  },
  {
   "cell_type": "code",
   "execution_count": 2,
   "metadata": {},
   "outputs": [
    {
     "data": {
      "text/plain": [
       "['txId',\n",
       " 'Time step',\n",
       " 'Local_feature_1',\n",
       " 'Local_feature_2',\n",
       " 'Local_feature_3',\n",
       " 'Local_feature_4',\n",
       " 'Local_feature_5',\n",
       " 'Local_feature_6',\n",
       " 'Local_feature_7',\n",
       " 'Local_feature_8',\n",
       " 'Local_feature_9',\n",
       " 'Local_feature_10',\n",
       " 'Local_feature_11',\n",
       " 'Local_feature_12',\n",
       " 'Local_feature_13',\n",
       " 'Local_feature_14',\n",
       " 'Local_feature_15',\n",
       " 'Local_feature_16',\n",
       " 'Local_feature_17',\n",
       " 'Local_feature_18',\n",
       " 'Local_feature_19',\n",
       " 'Local_feature_20',\n",
       " 'Local_feature_21',\n",
       " 'Local_feature_22',\n",
       " 'Local_feature_23',\n",
       " 'Local_feature_24',\n",
       " 'Local_feature_25',\n",
       " 'Local_feature_26',\n",
       " 'Local_feature_27',\n",
       " 'Local_feature_28',\n",
       " 'Local_feature_29',\n",
       " 'Local_feature_30',\n",
       " 'Local_feature_31',\n",
       " 'Local_feature_32',\n",
       " 'Local_feature_33',\n",
       " 'Local_feature_34',\n",
       " 'Local_feature_35',\n",
       " 'Local_feature_36',\n",
       " 'Local_feature_37',\n",
       " 'Local_feature_38',\n",
       " 'Local_feature_39',\n",
       " 'Local_feature_40',\n",
       " 'Local_feature_41',\n",
       " 'Local_feature_42',\n",
       " 'Local_feature_43',\n",
       " 'Local_feature_44',\n",
       " 'Local_feature_45',\n",
       " 'Local_feature_46',\n",
       " 'Local_feature_47',\n",
       " 'Local_feature_48',\n",
       " 'Local_feature_49',\n",
       " 'Local_feature_50',\n",
       " 'Local_feature_51',\n",
       " 'Local_feature_52',\n",
       " 'Local_feature_53',\n",
       " 'Local_feature_54',\n",
       " 'Local_feature_55',\n",
       " 'Local_feature_56',\n",
       " 'Local_feature_57',\n",
       " 'Local_feature_58',\n",
       " 'Local_feature_59',\n",
       " 'Local_feature_60',\n",
       " 'Local_feature_61',\n",
       " 'Local_feature_62',\n",
       " 'Local_feature_63',\n",
       " 'Local_feature_64',\n",
       " 'Local_feature_65',\n",
       " 'Local_feature_66',\n",
       " 'Local_feature_67',\n",
       " 'Local_feature_68',\n",
       " 'Local_feature_69',\n",
       " 'Local_feature_70',\n",
       " 'Local_feature_71',\n",
       " 'Local_feature_72',\n",
       " 'Local_feature_73',\n",
       " 'Local_feature_74',\n",
       " 'Local_feature_75',\n",
       " 'Local_feature_76',\n",
       " 'Local_feature_77',\n",
       " 'Local_feature_78',\n",
       " 'Local_feature_79',\n",
       " 'Local_feature_80',\n",
       " 'Local_feature_81',\n",
       " 'Local_feature_82',\n",
       " 'Local_feature_83',\n",
       " 'Local_feature_84',\n",
       " 'Local_feature_85',\n",
       " 'Local_feature_86',\n",
       " 'Local_feature_87',\n",
       " 'Local_feature_88',\n",
       " 'Local_feature_89',\n",
       " 'Local_feature_90',\n",
       " 'Local_feature_91',\n",
       " 'Local_feature_92',\n",
       " 'Local_feature_93',\n",
       " 'Aggregate_feature_1',\n",
       " 'Aggregate_feature_2',\n",
       " 'Aggregate_feature_3',\n",
       " 'Aggregate_feature_4',\n",
       " 'Aggregate_feature_5',\n",
       " 'Aggregate_feature_6',\n",
       " 'Aggregate_feature_7',\n",
       " 'Aggregate_feature_8',\n",
       " 'Aggregate_feature_9',\n",
       " 'Aggregate_feature_10',\n",
       " 'Aggregate_feature_11',\n",
       " 'Aggregate_feature_12',\n",
       " 'Aggregate_feature_13',\n",
       " 'Aggregate_feature_14',\n",
       " 'Aggregate_feature_15',\n",
       " 'Aggregate_feature_16',\n",
       " 'Aggregate_feature_17',\n",
       " 'Aggregate_feature_18',\n",
       " 'Aggregate_feature_19',\n",
       " 'Aggregate_feature_20',\n",
       " 'Aggregate_feature_21',\n",
       " 'Aggregate_feature_22',\n",
       " 'Aggregate_feature_23',\n",
       " 'Aggregate_feature_24',\n",
       " 'Aggregate_feature_25',\n",
       " 'Aggregate_feature_26',\n",
       " 'Aggregate_feature_27',\n",
       " 'Aggregate_feature_28',\n",
       " 'Aggregate_feature_29',\n",
       " 'Aggregate_feature_30',\n",
       " 'Aggregate_feature_31',\n",
       " 'Aggregate_feature_32',\n",
       " 'Aggregate_feature_33',\n",
       " 'Aggregate_feature_34',\n",
       " 'Aggregate_feature_35',\n",
       " 'Aggregate_feature_36',\n",
       " 'Aggregate_feature_37',\n",
       " 'Aggregate_feature_38',\n",
       " 'Aggregate_feature_39',\n",
       " 'Aggregate_feature_40',\n",
       " 'Aggregate_feature_41',\n",
       " 'Aggregate_feature_42',\n",
       " 'Aggregate_feature_43',\n",
       " 'Aggregate_feature_44',\n",
       " 'Aggregate_feature_45',\n",
       " 'Aggregate_feature_46',\n",
       " 'Aggregate_feature_47',\n",
       " 'Aggregate_feature_48',\n",
       " 'Aggregate_feature_49',\n",
       " 'Aggregate_feature_50',\n",
       " 'Aggregate_feature_51',\n",
       " 'Aggregate_feature_52',\n",
       " 'Aggregate_feature_53',\n",
       " 'Aggregate_feature_54',\n",
       " 'Aggregate_feature_55',\n",
       " 'Aggregate_feature_56',\n",
       " 'Aggregate_feature_57',\n",
       " 'Aggregate_feature_58',\n",
       " 'Aggregate_feature_59',\n",
       " 'Aggregate_feature_60',\n",
       " 'Aggregate_feature_61',\n",
       " 'Aggregate_feature_62',\n",
       " 'Aggregate_feature_63',\n",
       " 'Aggregate_feature_64',\n",
       " 'Aggregate_feature_65',\n",
       " 'Aggregate_feature_66',\n",
       " 'Aggregate_feature_67',\n",
       " 'Aggregate_feature_68',\n",
       " 'Aggregate_feature_69',\n",
       " 'Aggregate_feature_70',\n",
       " 'Aggregate_feature_71',\n",
       " 'Aggregate_feature_72',\n",
       " 'in_txs_degree',\n",
       " 'out_txs_degree',\n",
       " 'total_BTC',\n",
       " 'fees',\n",
       " 'size',\n",
       " 'num_input_addresses',\n",
       " 'num_output_addresses',\n",
       " 'in_BTC_min',\n",
       " 'in_BTC_max',\n",
       " 'in_BTC_mean',\n",
       " 'in_BTC_median',\n",
       " 'in_BTC_total',\n",
       " 'out_BTC_min',\n",
       " 'out_BTC_max',\n",
       " 'out_BTC_mean',\n",
       " 'out_BTC_median',\n",
       " 'out_BTC_total',\n",
       " 'class']"
      ]
     },
     "execution_count": 2,
     "metadata": {},
     "output_type": "execute_result"
    }
   ],
   "source": [
    "list(merge_feats_class.columns)"
   ]
  },
  {
   "cell_type": "markdown",
   "metadata": {},
   "source": [
    "Classes and the corresponding amount of transactions"
   ]
  },
  {
   "cell_type": "code",
   "execution_count": 3,
   "metadata": {},
   "outputs": [
    {
     "data": {
      "application/vnd.plotly.v1+json": {
       "config": {
        "linkText": "Export to plot.ly",
        "plotlyServerURL": "https://plot.ly",
        "showLink": false
       },
       "data": [
        {
         "type": "bar",
         "x": [
          "Illicit",
          "Licit",
          "Unknown"
         ],
         "y": [
          4545,
          41500,
          156759
         ]
        }
       ],
       "layout": {
        "template": {
         "data": {
          "bar": [
           {
            "error_x": {
             "color": "#2a3f5f"
            },
            "error_y": {
             "color": "#2a3f5f"
            },
            "marker": {
             "line": {
              "color": "#E5ECF6",
              "width": 0.5
             },
             "pattern": {
              "fillmode": "overlay",
              "size": 10,
              "solidity": 0.2
             }
            },
            "type": "bar"
           }
          ],
          "barpolar": [
           {
            "marker": {
             "line": {
              "color": "#E5ECF6",
              "width": 0.5
             },
             "pattern": {
              "fillmode": "overlay",
              "size": 10,
              "solidity": 0.2
             }
            },
            "type": "barpolar"
           }
          ],
          "carpet": [
           {
            "aaxis": {
             "endlinecolor": "#2a3f5f",
             "gridcolor": "white",
             "linecolor": "white",
             "minorgridcolor": "white",
             "startlinecolor": "#2a3f5f"
            },
            "baxis": {
             "endlinecolor": "#2a3f5f",
             "gridcolor": "white",
             "linecolor": "white",
             "minorgridcolor": "white",
             "startlinecolor": "#2a3f5f"
            },
            "type": "carpet"
           }
          ],
          "choropleth": [
           {
            "colorbar": {
             "outlinewidth": 0,
             "ticks": ""
            },
            "type": "choropleth"
           }
          ],
          "contour": [
           {
            "colorbar": {
             "outlinewidth": 0,
             "ticks": ""
            },
            "colorscale": [
             [
              0,
              "#0d0887"
             ],
             [
              0.1111111111111111,
              "#46039f"
             ],
             [
              0.2222222222222222,
              "#7201a8"
             ],
             [
              0.3333333333333333,
              "#9c179e"
             ],
             [
              0.4444444444444444,
              "#bd3786"
             ],
             [
              0.5555555555555556,
              "#d8576b"
             ],
             [
              0.6666666666666666,
              "#ed7953"
             ],
             [
              0.7777777777777778,
              "#fb9f3a"
             ],
             [
              0.8888888888888888,
              "#fdca26"
             ],
             [
              1,
              "#f0f921"
             ]
            ],
            "type": "contour"
           }
          ],
          "contourcarpet": [
           {
            "colorbar": {
             "outlinewidth": 0,
             "ticks": ""
            },
            "type": "contourcarpet"
           }
          ],
          "heatmap": [
           {
            "colorbar": {
             "outlinewidth": 0,
             "ticks": ""
            },
            "colorscale": [
             [
              0,
              "#0d0887"
             ],
             [
              0.1111111111111111,
              "#46039f"
             ],
             [
              0.2222222222222222,
              "#7201a8"
             ],
             [
              0.3333333333333333,
              "#9c179e"
             ],
             [
              0.4444444444444444,
              "#bd3786"
             ],
             [
              0.5555555555555556,
              "#d8576b"
             ],
             [
              0.6666666666666666,
              "#ed7953"
             ],
             [
              0.7777777777777778,
              "#fb9f3a"
             ],
             [
              0.8888888888888888,
              "#fdca26"
             ],
             [
              1,
              "#f0f921"
             ]
            ],
            "type": "heatmap"
           }
          ],
          "heatmapgl": [
           {
            "colorbar": {
             "outlinewidth": 0,
             "ticks": ""
            },
            "colorscale": [
             [
              0,
              "#0d0887"
             ],
             [
              0.1111111111111111,
              "#46039f"
             ],
             [
              0.2222222222222222,
              "#7201a8"
             ],
             [
              0.3333333333333333,
              "#9c179e"
             ],
             [
              0.4444444444444444,
              "#bd3786"
             ],
             [
              0.5555555555555556,
              "#d8576b"
             ],
             [
              0.6666666666666666,
              "#ed7953"
             ],
             [
              0.7777777777777778,
              "#fb9f3a"
             ],
             [
              0.8888888888888888,
              "#fdca26"
             ],
             [
              1,
              "#f0f921"
             ]
            ],
            "type": "heatmapgl"
           }
          ],
          "histogram": [
           {
            "marker": {
             "pattern": {
              "fillmode": "overlay",
              "size": 10,
              "solidity": 0.2
             }
            },
            "type": "histogram"
           }
          ],
          "histogram2d": [
           {
            "colorbar": {
             "outlinewidth": 0,
             "ticks": ""
            },
            "colorscale": [
             [
              0,
              "#0d0887"
             ],
             [
              0.1111111111111111,
              "#46039f"
             ],
             [
              0.2222222222222222,
              "#7201a8"
             ],
             [
              0.3333333333333333,
              "#9c179e"
             ],
             [
              0.4444444444444444,
              "#bd3786"
             ],
             [
              0.5555555555555556,
              "#d8576b"
             ],
             [
              0.6666666666666666,
              "#ed7953"
             ],
             [
              0.7777777777777778,
              "#fb9f3a"
             ],
             [
              0.8888888888888888,
              "#fdca26"
             ],
             [
              1,
              "#f0f921"
             ]
            ],
            "type": "histogram2d"
           }
          ],
          "histogram2dcontour": [
           {
            "colorbar": {
             "outlinewidth": 0,
             "ticks": ""
            },
            "colorscale": [
             [
              0,
              "#0d0887"
             ],
             [
              0.1111111111111111,
              "#46039f"
             ],
             [
              0.2222222222222222,
              "#7201a8"
             ],
             [
              0.3333333333333333,
              "#9c179e"
             ],
             [
              0.4444444444444444,
              "#bd3786"
             ],
             [
              0.5555555555555556,
              "#d8576b"
             ],
             [
              0.6666666666666666,
              "#ed7953"
             ],
             [
              0.7777777777777778,
              "#fb9f3a"
             ],
             [
              0.8888888888888888,
              "#fdca26"
             ],
             [
              1,
              "#f0f921"
             ]
            ],
            "type": "histogram2dcontour"
           }
          ],
          "mesh3d": [
           {
            "colorbar": {
             "outlinewidth": 0,
             "ticks": ""
            },
            "type": "mesh3d"
           }
          ],
          "parcoords": [
           {
            "line": {
             "colorbar": {
              "outlinewidth": 0,
              "ticks": ""
             }
            },
            "type": "parcoords"
           }
          ],
          "pie": [
           {
            "automargin": true,
            "type": "pie"
           }
          ],
          "scatter": [
           {
            "fillpattern": {
             "fillmode": "overlay",
             "size": 10,
             "solidity": 0.2
            },
            "type": "scatter"
           }
          ],
          "scatter3d": [
           {
            "line": {
             "colorbar": {
              "outlinewidth": 0,
              "ticks": ""
             }
            },
            "marker": {
             "colorbar": {
              "outlinewidth": 0,
              "ticks": ""
             }
            },
            "type": "scatter3d"
           }
          ],
          "scattercarpet": [
           {
            "marker": {
             "colorbar": {
              "outlinewidth": 0,
              "ticks": ""
             }
            },
            "type": "scattercarpet"
           }
          ],
          "scattergeo": [
           {
            "marker": {
             "colorbar": {
              "outlinewidth": 0,
              "ticks": ""
             }
            },
            "type": "scattergeo"
           }
          ],
          "scattergl": [
           {
            "marker": {
             "colorbar": {
              "outlinewidth": 0,
              "ticks": ""
             }
            },
            "type": "scattergl"
           }
          ],
          "scattermapbox": [
           {
            "marker": {
             "colorbar": {
              "outlinewidth": 0,
              "ticks": ""
             }
            },
            "type": "scattermapbox"
           }
          ],
          "scatterpolar": [
           {
            "marker": {
             "colorbar": {
              "outlinewidth": 0,
              "ticks": ""
             }
            },
            "type": "scatterpolar"
           }
          ],
          "scatterpolargl": [
           {
            "marker": {
             "colorbar": {
              "outlinewidth": 0,
              "ticks": ""
             }
            },
            "type": "scatterpolargl"
           }
          ],
          "scatterternary": [
           {
            "marker": {
             "colorbar": {
              "outlinewidth": 0,
              "ticks": ""
             }
            },
            "type": "scatterternary"
           }
          ],
          "surface": [
           {
            "colorbar": {
             "outlinewidth": 0,
             "ticks": ""
            },
            "colorscale": [
             [
              0,
              "#0d0887"
             ],
             [
              0.1111111111111111,
              "#46039f"
             ],
             [
              0.2222222222222222,
              "#7201a8"
             ],
             [
              0.3333333333333333,
              "#9c179e"
             ],
             [
              0.4444444444444444,
              "#bd3786"
             ],
             [
              0.5555555555555556,
              "#d8576b"
             ],
             [
              0.6666666666666666,
              "#ed7953"
             ],
             [
              0.7777777777777778,
              "#fb9f3a"
             ],
             [
              0.8888888888888888,
              "#fdca26"
             ],
             [
              1,
              "#f0f921"
             ]
            ],
            "type": "surface"
           }
          ],
          "table": [
           {
            "cells": {
             "fill": {
              "color": "#EBF0F8"
             },
             "line": {
              "color": "white"
             }
            },
            "header": {
             "fill": {
              "color": "#C8D4E3"
             },
             "line": {
              "color": "white"
             }
            },
            "type": "table"
           }
          ]
         },
         "layout": {
          "annotationdefaults": {
           "arrowcolor": "#2a3f5f",
           "arrowhead": 0,
           "arrowwidth": 1
          },
          "autotypenumbers": "strict",
          "coloraxis": {
           "colorbar": {
            "outlinewidth": 0,
            "ticks": ""
           }
          },
          "colorscale": {
           "diverging": [
            [
             0,
             "#8e0152"
            ],
            [
             0.1,
             "#c51b7d"
            ],
            [
             0.2,
             "#de77ae"
            ],
            [
             0.3,
             "#f1b6da"
            ],
            [
             0.4,
             "#fde0ef"
            ],
            [
             0.5,
             "#f7f7f7"
            ],
            [
             0.6,
             "#e6f5d0"
            ],
            [
             0.7,
             "#b8e186"
            ],
            [
             0.8,
             "#7fbc41"
            ],
            [
             0.9,
             "#4d9221"
            ],
            [
             1,
             "#276419"
            ]
           ],
           "sequential": [
            [
             0,
             "#0d0887"
            ],
            [
             0.1111111111111111,
             "#46039f"
            ],
            [
             0.2222222222222222,
             "#7201a8"
            ],
            [
             0.3333333333333333,
             "#9c179e"
            ],
            [
             0.4444444444444444,
             "#bd3786"
            ],
            [
             0.5555555555555556,
             "#d8576b"
            ],
            [
             0.6666666666666666,
             "#ed7953"
            ],
            [
             0.7777777777777778,
             "#fb9f3a"
            ],
            [
             0.8888888888888888,
             "#fdca26"
            ],
            [
             1,
             "#f0f921"
            ]
           ],
           "sequentialminus": [
            [
             0,
             "#0d0887"
            ],
            [
             0.1111111111111111,
             "#46039f"
            ],
            [
             0.2222222222222222,
             "#7201a8"
            ],
            [
             0.3333333333333333,
             "#9c179e"
            ],
            [
             0.4444444444444444,
             "#bd3786"
            ],
            [
             0.5555555555555556,
             "#d8576b"
            ],
            [
             0.6666666666666666,
             "#ed7953"
            ],
            [
             0.7777777777777778,
             "#fb9f3a"
            ],
            [
             0.8888888888888888,
             "#fdca26"
            ],
            [
             1,
             "#f0f921"
            ]
           ]
          },
          "colorway": [
           "#636efa",
           "#EF553B",
           "#00cc96",
           "#ab63fa",
           "#FFA15A",
           "#19d3f3",
           "#FF6692",
           "#B6E880",
           "#FF97FF",
           "#FECB52"
          ],
          "font": {
           "color": "#2a3f5f"
          },
          "geo": {
           "bgcolor": "white",
           "lakecolor": "white",
           "landcolor": "#E5ECF6",
           "showlakes": true,
           "showland": true,
           "subunitcolor": "white"
          },
          "hoverlabel": {
           "align": "left"
          },
          "hovermode": "closest",
          "mapbox": {
           "style": "light"
          },
          "paper_bgcolor": "white",
          "plot_bgcolor": "#E5ECF6",
          "polar": {
           "angularaxis": {
            "gridcolor": "white",
            "linecolor": "white",
            "ticks": ""
           },
           "bgcolor": "#E5ECF6",
           "radialaxis": {
            "gridcolor": "white",
            "linecolor": "white",
            "ticks": ""
           }
          },
          "scene": {
           "xaxis": {
            "backgroundcolor": "#E5ECF6",
            "gridcolor": "white",
            "gridwidth": 2,
            "linecolor": "white",
            "showbackground": true,
            "ticks": "",
            "zerolinecolor": "white"
           },
           "yaxis": {
            "backgroundcolor": "#E5ECF6",
            "gridcolor": "white",
            "gridwidth": 2,
            "linecolor": "white",
            "showbackground": true,
            "ticks": "",
            "zerolinecolor": "white"
           },
           "zaxis": {
            "backgroundcolor": "#E5ECF6",
            "gridcolor": "white",
            "gridwidth": 2,
            "linecolor": "white",
            "showbackground": true,
            "ticks": "",
            "zerolinecolor": "white"
           }
          },
          "shapedefaults": {
           "line": {
            "color": "#2a3f5f"
           }
          },
          "ternary": {
           "aaxis": {
            "gridcolor": "white",
            "linecolor": "white",
            "ticks": ""
           },
           "baxis": {
            "gridcolor": "white",
            "linecolor": "white",
            "ticks": ""
           },
           "bgcolor": "#E5ECF6",
           "caxis": {
            "gridcolor": "white",
            "linecolor": "white",
            "ticks": ""
           }
          },
          "title": {
           "x": 0.05
          },
          "xaxis": {
           "automargin": true,
           "gridcolor": "white",
           "linecolor": "white",
           "ticks": "",
           "title": {
            "standoff": 15
           },
           "zerolinecolor": "white",
           "zerolinewidth": 2
          },
          "yaxis": {
           "automargin": true,
           "gridcolor": "white",
           "linecolor": "white",
           "ticks": "",
           "title": {
            "standoff": 15
           },
           "zerolinecolor": "white",
           "zerolinewidth": 2
          }
         }
        }
       }
      }
     },
     "metadata": {},
     "output_type": "display_data"
    }
   ],
   "source": [
    "txs_by_class = merge_feats_class.groupby('class').count()\n",
    "txs_by_class\n",
    "_x = [\"Illicit\", \"Licit\", \"Unknown\"]\n",
    "\n",
    "d = {\n",
    "    \"Illicit\":'blue',\n",
    "    \"Licit\": 'red',\n",
    "    \"Unknown\":'yellow'\n",
    "}\n",
    "\n",
    "merge_feats_class['class'].value_counts()\n",
    "\n",
    "#plt.bar(['Ilicit', 'Licit', 'Unknown'], txs_by_class['txId'].values, color=['blue', 'red', 'yellow'] )\n",
    "data = [go.Bar(x=_x,\n",
    "            y=txs_by_class['txId'].values)]\n",
    "\n",
    "plotly.offline.iplot(data, filename='jupyter-txs_per_class')\n"
   ]
  },
  {
   "cell_type": "code",
   "execution_count": 4,
   "metadata": {},
   "outputs": [
    {
     "name": "stdout",
     "output_type": "stream",
     "text": [
      "               txId     Time step  Local_feature_1  Local_feature_2  \\\n",
      "count  4.150000e+04  41500.000000     41500.000000     41500.000000   \n",
      "mean   1.715688e+08     24.468602        -0.039009         0.180928   \n",
      "std    1.101834e+08     15.526605         0.742949         1.563702   \n",
      "min    2.534000e+03      1.000000        -0.172982        -0.210553   \n",
      "25%    8.500541e+07      8.000000        -0.172664        -0.169302   \n",
      "50%    1.585747e+08     24.000000        -0.169944        -0.107012   \n",
      "75%    2.454261e+08     40.000000        -0.132140         0.021241   \n",
      "max    4.031232e+08     49.000000        39.786756        69.469535   \n",
      "\n",
      "       Local_feature_3  Local_feature_4  Local_feature_5  Local_feature_6  \\\n",
      "count     41500.000000     41500.000000     41500.000000     41500.000000   \n",
      "mean          0.138691         0.193141         0.038930         0.204183   \n",
      "std           1.066700         1.622307         1.831936         1.592211   \n",
      "min          -1.756361        -0.121970        -0.063725        -0.113002   \n",
      "25%          -1.201369        -0.121970        -0.043875        -0.113002   \n",
      "50%           0.463609        -0.046932        -0.043875        -0.113002   \n",
      "75%           1.018602         0.028105        -0.043875         0.054722   \n",
      "max           2.683580        49.027598       260.090707        54.565178   \n",
      "\n",
      "       Local_feature_7  Local_feature_8  ...    in_BTC_max   in_BTC_mean  \\\n",
      "count     41500.000000     41500.000000  ...  41500.000000  41500.000000   \n",
      "mean         -0.009941        -0.067962  ...     19.232069     16.077112   \n",
      "std           0.611288         0.622901  ...    111.011582     97.705588   \n",
      "min          -0.061584        -0.163646  ...      0.000129      0.000109   \n",
      "25%          -0.061584        -0.163621  ...      0.037460      0.026223   \n",
      "50%          -0.061584        -0.163435  ...      0.371023      0.202709   \n",
      "75%          -0.061584        -0.157300  ...      5.000000      2.584109   \n",
      "max          44.365651        40.721063  ...   6335.202183   6335.202183   \n",
      "\n",
      "       in_BTC_median  in_BTC_total   out_BTC_min   out_BTC_max  out_BTC_mean  \\\n",
      "count   41500.000000  41500.000000  41500.000000  41500.000000  41500.000000   \n",
      "mean       15.800822     21.241678      1.299291     19.559865      6.727923   \n",
      "std        97.656907    117.787238     21.299594    110.685152     33.235243   \n",
      "min         0.000018      0.000169      0.000000      0.000027      0.000014   \n",
      "25%         0.015916      0.052608      0.001778      0.040000      0.023203   \n",
      "50%         0.125710      0.482399      0.010377      0.370000      0.188453   \n",
      "75%         2.000000      6.477151      0.087597      5.300000      2.441071   \n",
      "max      6335.202183   6335.202183   2010.466695   6292.795766   2010.466695   \n",
      "\n",
      "       out_BTC_median  out_BTC_total    class  \n",
      "count    41500.000000   41500.000000  41500.0  \n",
      "mean         5.989511      21.240166      2.0  \n",
      "std         32.168479     117.786807      0.0  \n",
      "min          0.000012       0.000027      2.0  \n",
      "25%          0.015609       0.050568      2.0  \n",
      "50%          0.119571       0.481791      2.0  \n",
      "75%          1.355962       6.475154      2.0  \n",
      "max       2010.466695    6335.201666      2.0  \n",
      "\n",
      "[8 rows x 185 columns]\n",
      "               txId    Time step  Local_feature_1  Local_feature_2  \\\n",
      "count  4.545000e+03  4545.000000      4545.000000      4545.000000   \n",
      "mean   2.019776e+08    25.078768        -0.165745        -0.030698   \n",
      "std    1.169372e+08    11.357543         0.025423         1.410232   \n",
      "min    1.879066e+06     1.000000        -0.172979        -0.200199   \n",
      "25%    9.465426e+07    15.000000        -0.172739        -0.158783   \n",
      "50%    2.059217e+08    25.000000        -0.172205        -0.150103   \n",
      "75%    3.103970e+08    33.000000        -0.170061        -0.107012   \n",
      "max    4.029113e+08    49.000000         0.544156        73.595052   \n",
      "\n",
      "       Local_feature_3  Local_feature_4  Local_feature_5  Local_feature_6  \\\n",
      "count      4545.000000      4545.000000      4545.000000      4545.000000   \n",
      "mean          0.212061         0.010803        -0.056724         0.033743   \n",
      "std           1.052829         1.478979         0.009747         1.642366   \n",
      "min          -1.201369        -0.121970        -0.063725        -0.113002   \n",
      "25%          -1.201369        -0.121970        -0.063725        -0.113002   \n",
      "50%           1.018602        -0.121970        -0.063725        -0.113002   \n",
      "75%           1.018602        -0.121970        -0.043875        -0.113002   \n",
      "max           2.683580        37.321747         0.095076        41.734255   \n",
      "\n",
      "       Local_feature_7  Local_feature_8  ...   in_BTC_max  in_BTC_mean  \\\n",
      "count      4545.000000      4545.000000  ...  4545.000000  4545.000000   \n",
      "mean         -0.059910        -0.157009  ...     1.073702     1.045645   \n",
      "std           0.029554         0.023243  ...     3.639389     3.608136   \n",
      "min          -0.061584        -0.163646  ...     0.001011     0.001011   \n",
      "25%          -0.061584        -0.163488  ...     0.035088     0.031379   \n",
      "50%          -0.061584        -0.163012  ...     0.115000     0.107415   \n",
      "75%          -0.061584        -0.161252  ...     0.430000     0.400000   \n",
      "max           1.155601         0.570094  ...   113.695106   113.695106   \n",
      "\n",
      "       in_BTC_median  in_BTC_total  out_BTC_min  out_BTC_max  out_BTC_mean  \\\n",
      "count    4545.000000   4545.000000  4545.000000  4545.000000   4545.000000   \n",
      "mean        1.042202      1.148121     0.195815     1.104376      0.648984   \n",
      "std         3.607401      4.030745     0.573378     3.867800      1.995765   \n",
      "min         0.000100      0.001011     0.000087     0.000611      0.000611   \n",
      "25%         0.030000      0.039059     0.011066     0.036188      0.032110   \n",
      "50%         0.105948      0.123566     0.048085     0.117405      0.102050   \n",
      "75%         0.392100      0.463505     0.169825     0.432144      0.369250   \n",
      "max       113.695106    113.695106    17.000000   111.852842     56.847447   \n",
      "\n",
      "       out_BTC_median  out_BTC_total   class  \n",
      "count     4545.000000    4545.000000  4545.0  \n",
      "mean         0.647219       1.147426     1.0  \n",
      "std          1.978643       4.030536     0.0  \n",
      "min          0.000611       0.000611     1.0  \n",
      "25%          0.032110       0.038694     1.0  \n",
      "50%          0.101757       0.123366     1.0  \n",
      "75%          0.369116       0.463218     1.0  \n",
      "max         56.847447     113.694893     1.0  \n",
      "\n",
      "[8 rows x 185 columns]\n"
     ]
    }
   ],
   "source": [
    "illicit_df = merge_feats_class.loc[merge_feats_class['class'] == 1]\n",
    "llicit_df = merge_feats_class.loc[merge_feats_class['class'] == 2]\n",
    "unknown_df = merge_feats_class.loc[merge_feats_class['class'] == 3]\n",
    "\n",
    "print(llicit_df.describe())\n",
    "print(illicit_df.describe())\n"
   ]
  },
  {
   "cell_type": "code",
   "execution_count": 5,
   "metadata": {},
   "outputs": [
    {
     "name": "stdout",
     "output_type": "stream",
     "text": [
      "['Local_feature_1', 'Local_feature_40', 'Local_feature_46', 'Local_feature_48', 'Local_feature_51', 'Local_feature_52', 'Local_feature_54', 'Local_feature_58', 'Local_feature_60', 'Local_feature_64', 'Local_feature_66', 'Local_feature_76', 'Local_feature_78', 'Local_feature_88', 'total_BTC']\n"
     ]
    },
    {
     "data": {
      "text/html": [
       "<div>\n",
       "<style scoped>\n",
       "    .dataframe tbody tr th:only-of-type {\n",
       "        vertical-align: middle;\n",
       "    }\n",
       "\n",
       "    .dataframe tbody tr th {\n",
       "        vertical-align: top;\n",
       "    }\n",
       "\n",
       "    .dataframe thead th {\n",
       "        text-align: right;\n",
       "    }\n",
       "</style>\n",
       "<table border=\"1\" class=\"dataframe\">\n",
       "  <thead>\n",
       "    <tr style=\"text-align: right;\">\n",
       "      <th></th>\n",
       "      <th>Local_feature_1</th>\n",
       "      <th>Local_feature_40</th>\n",
       "      <th>Local_feature_46</th>\n",
       "      <th>Local_feature_48</th>\n",
       "      <th>Local_feature_51</th>\n",
       "      <th>Local_feature_52</th>\n",
       "      <th>Local_feature_54</th>\n",
       "      <th>Local_feature_58</th>\n",
       "      <th>Local_feature_60</th>\n",
       "      <th>Local_feature_64</th>\n",
       "      <th>Local_feature_66</th>\n",
       "      <th>Local_feature_76</th>\n",
       "      <th>Local_feature_78</th>\n",
       "      <th>Local_feature_88</th>\n",
       "      <th>total_BTC</th>\n",
       "    </tr>\n",
       "  </thead>\n",
       "  <tbody>\n",
       "    <tr>\n",
       "      <th>count</th>\n",
       "      <td>4287.000000</td>\n",
       "      <td>4287.000000</td>\n",
       "      <td>4287.000000</td>\n",
       "      <td>4287.000000</td>\n",
       "      <td>4287.000000</td>\n",
       "      <td>4287.000000</td>\n",
       "      <td>4287.000000</td>\n",
       "      <td>4287.000000</td>\n",
       "      <td>4287.000000</td>\n",
       "      <td>4287.000000</td>\n",
       "      <td>4287.000000</td>\n",
       "      <td>4287.000000</td>\n",
       "      <td>4287.000000</td>\n",
       "      <td>4287.000000</td>\n",
       "      <td>4287.000000</td>\n",
       "    </tr>\n",
       "    <tr>\n",
       "      <th>mean</th>\n",
       "      <td>-0.124447</td>\n",
       "      <td>0.138608</td>\n",
       "      <td>0.139327</td>\n",
       "      <td>-0.080535</td>\n",
       "      <td>-0.017636</td>\n",
       "      <td>0.006499</td>\n",
       "      <td>-0.059368</td>\n",
       "      <td>-0.008526</td>\n",
       "      <td>-0.133888</td>\n",
       "      <td>-0.008522</td>\n",
       "      <td>-0.133879</td>\n",
       "      <td>0.041525</td>\n",
       "      <td>0.082117</td>\n",
       "      <td>0.136832</td>\n",
       "      <td>7.694795</td>\n",
       "    </tr>\n",
       "    <tr>\n",
       "      <th>std</th>\n",
       "      <td>0.172430</td>\n",
       "      <td>1.102694</td>\n",
       "      <td>1.103075</td>\n",
       "      <td>0.513906</td>\n",
       "      <td>0.921356</td>\n",
       "      <td>0.961409</td>\n",
       "      <td>0.699984</td>\n",
       "      <td>0.288060</td>\n",
       "      <td>0.219928</td>\n",
       "      <td>0.288069</td>\n",
       "      <td>0.219924</td>\n",
       "      <td>1.034889</td>\n",
       "      <td>0.974949</td>\n",
       "      <td>1.284322</td>\n",
       "      <td>27.336919</td>\n",
       "    </tr>\n",
       "    <tr>\n",
       "      <th>min</th>\n",
       "      <td>-0.172983</td>\n",
       "      <td>-0.227215</td>\n",
       "      <td>-0.227203</td>\n",
       "      <td>-0.097895</td>\n",
       "      <td>-3.745387</td>\n",
       "      <td>-0.414036</td>\n",
       "      <td>-0.232553</td>\n",
       "      <td>-0.039151</td>\n",
       "      <td>-0.163126</td>\n",
       "      <td>-0.039146</td>\n",
       "      <td>-0.163115</td>\n",
       "      <td>-0.095403</td>\n",
       "      <td>-0.250574</td>\n",
       "      <td>-0.293905</td>\n",
       "      <td>0.000024</td>\n",
       "    </tr>\n",
       "    <tr>\n",
       "      <th>25%</th>\n",
       "      <td>-0.172600</td>\n",
       "      <td>-0.227215</td>\n",
       "      <td>-0.227203</td>\n",
       "      <td>-0.097895</td>\n",
       "      <td>0.042345</td>\n",
       "      <td>-0.414003</td>\n",
       "      <td>-0.232553</td>\n",
       "      <td>-0.039151</td>\n",
       "      <td>-0.163126</td>\n",
       "      <td>-0.039146</td>\n",
       "      <td>-0.163115</td>\n",
       "      <td>-0.095403</td>\n",
       "      <td>-0.250574</td>\n",
       "      <td>-0.293848</td>\n",
       "      <td>0.060598</td>\n",
       "    </tr>\n",
       "    <tr>\n",
       "      <th>50%</th>\n",
       "      <td>-0.170397</td>\n",
       "      <td>-0.227215</td>\n",
       "      <td>-0.227203</td>\n",
       "      <td>-0.097895</td>\n",
       "      <td>0.042345</td>\n",
       "      <td>-0.413883</td>\n",
       "      <td>-0.232553</td>\n",
       "      <td>-0.039150</td>\n",
       "      <td>-0.163122</td>\n",
       "      <td>-0.039145</td>\n",
       "      <td>-0.163111</td>\n",
       "      <td>-0.095403</td>\n",
       "      <td>-0.250540</td>\n",
       "      <td>-0.293732</td>\n",
       "      <td>0.409876</td>\n",
       "    </tr>\n",
       "    <tr>\n",
       "      <th>75%</th>\n",
       "      <td>-0.149563</td>\n",
       "      <td>-0.225692</td>\n",
       "      <td>-0.226199</td>\n",
       "      <td>-0.097895</td>\n",
       "      <td>0.042345</td>\n",
       "      <td>-0.192723</td>\n",
       "      <td>-0.232553</td>\n",
       "      <td>-0.039136</td>\n",
       "      <td>-0.162944</td>\n",
       "      <td>-0.039131</td>\n",
       "      <td>-0.162933</td>\n",
       "      <td>-0.094506</td>\n",
       "      <td>-0.243493</td>\n",
       "      <td>-0.207635</td>\n",
       "      <td>3.712957</td>\n",
       "    </tr>\n",
       "    <tr>\n",
       "      <th>max</th>\n",
       "      <td>2.618428</td>\n",
       "      <td>9.437938</td>\n",
       "      <td>9.081401</td>\n",
       "      <td>31.951632</td>\n",
       "      <td>3.830078</td>\n",
       "      <td>6.774753</td>\n",
       "      <td>8.076359</td>\n",
       "      <td>8.301668</td>\n",
       "      <td>4.952576</td>\n",
       "      <td>8.303391</td>\n",
       "      <td>4.952638</td>\n",
       "      <td>25.820300</td>\n",
       "      <td>8.315241</td>\n",
       "      <td>8.933291</td>\n",
       "      <td>442.549141</td>\n",
       "    </tr>\n",
       "  </tbody>\n",
       "</table>\n",
       "</div>"
      ],
      "text/plain": [
       "       Local_feature_1  Local_feature_40  Local_feature_46  Local_feature_48  \\\n",
       "count      4287.000000       4287.000000       4287.000000       4287.000000   \n",
       "mean         -0.124447          0.138608          0.139327         -0.080535   \n",
       "std           0.172430          1.102694          1.103075          0.513906   \n",
       "min          -0.172983         -0.227215         -0.227203         -0.097895   \n",
       "25%          -0.172600         -0.227215         -0.227203         -0.097895   \n",
       "50%          -0.170397         -0.227215         -0.227203         -0.097895   \n",
       "75%          -0.149563         -0.225692         -0.226199         -0.097895   \n",
       "max           2.618428          9.437938          9.081401         31.951632   \n",
       "\n",
       "       Local_feature_51  Local_feature_52  Local_feature_54  Local_feature_58  \\\n",
       "count       4287.000000       4287.000000       4287.000000       4287.000000   \n",
       "mean          -0.017636          0.006499         -0.059368         -0.008526   \n",
       "std            0.921356          0.961409          0.699984          0.288060   \n",
       "min           -3.745387         -0.414036         -0.232553         -0.039151   \n",
       "25%            0.042345         -0.414003         -0.232553         -0.039151   \n",
       "50%            0.042345         -0.413883         -0.232553         -0.039150   \n",
       "75%            0.042345         -0.192723         -0.232553         -0.039136   \n",
       "max            3.830078          6.774753          8.076359          8.301668   \n",
       "\n",
       "       Local_feature_60  Local_feature_64  Local_feature_66  Local_feature_76  \\\n",
       "count       4287.000000       4287.000000       4287.000000       4287.000000   \n",
       "mean          -0.133888         -0.008522         -0.133879          0.041525   \n",
       "std            0.219928          0.288069          0.219924          1.034889   \n",
       "min           -0.163126         -0.039146         -0.163115         -0.095403   \n",
       "25%           -0.163126         -0.039146         -0.163115         -0.095403   \n",
       "50%           -0.163122         -0.039145         -0.163111         -0.095403   \n",
       "75%           -0.162944         -0.039131         -0.162933         -0.094506   \n",
       "max            4.952576          8.303391          4.952638         25.820300   \n",
       "\n",
       "       Local_feature_78  Local_feature_88    total_BTC  \n",
       "count       4287.000000       4287.000000  4287.000000  \n",
       "mean           0.082117          0.136832     7.694795  \n",
       "std            0.974949          1.284322    27.336919  \n",
       "min           -0.250574         -0.293905     0.000024  \n",
       "25%           -0.250574         -0.293848     0.060598  \n",
       "50%           -0.250540         -0.293732     0.409876  \n",
       "75%           -0.243493         -0.207635     3.712957  \n",
       "max            8.315241          8.933291   442.549141  "
      ]
     },
     "execution_count": 5,
     "metadata": {},
     "output_type": "execute_result"
    }
   ],
   "source": [
    "from sklearn.feature_selection import SelectKBest, chi2, mutual_info_classif, f_classif\n",
    "selector = SelectKBest(mutual_info_classif, k=15)\n",
    "timestep_dataframe = merge_feats_class.loc[merge_feats_class['Time step'] == 20].reset_index(drop=True)\n",
    "\n",
    "selector.fit(timestep_dataframe.drop([\"class\", \"txId\"], axis=1), timestep_dataframe[\"class\"])\n",
    "# Get columns to keep and create new dataframe with those only\n",
    "cols_idxs = selector.get_support(indices=True)\n",
    "timestep_dataframe_kfeats = timestep_dataframe.iloc[:,cols_idxs]\n",
    "\n",
    "print(list(timestep_dataframe_kfeats.columns))\n",
    "timestep_dataframe_kfeats.describe()"
   ]
  },
  {
   "cell_type": "code",
   "execution_count": 6,
   "metadata": {},
   "outputs": [
    {
     "name": "stdout",
     "output_type": "stream",
     "text": [
      "(<scipy.stats._continuous_distns.tukeylambda_gen object at 0x0000027154798490>, (-0.2620507300597205, 0.0036899089115382637, 0.07135046509464746), 0.014670582601692109)\n"
     ]
    },
    {
     "data": {
      "text/plain": [
       "{}"
      ]
     },
     "execution_count": 6,
     "metadata": {},
     "output_type": "execute_result"
    },
    {
     "data": {
      "image/png": "[encoded data removed]",
      "text/plain": [
       "<Figure size 640x480 with 1 Axes>"
      ]
     },
     "metadata": {},
     "output_type": "display_data"
    }
   ],
   "source": [
    "from helpers import best_fit_distribution, make_pdf, find_best_fitted_dist_for_features\n",
    "import matplotlib\n",
    "examined_feature = \"total_BTC\"\n",
    "_bins = 100\n",
    "ax = timestep_dataframe[examined_feature].plot(kind='hist', bins=_bins, density=True, alpha=0.5, color=list(matplotlib.rcParams['axes.prop_cycle'])[1]['color'])\n",
    "best_d = best_fit_distribution( timestep_dataframe[examined_feature], _bins)\n",
    "find_best_fitted_dist_for_features(timestep_dataframe, _bins)"
   ]
  },
  {
   "cell_type": "code",
   "execution_count": 7,
   "metadata": {},
   "outputs": [
    {
     "name": "stdout",
     "output_type": "stream",
     "text": [
      "[(<scipy.stats._continuous_distns.gibrat_gen object at 0x0000027154773D00>, (-0.4125574566736919, 1.6191987210272187), 0.001559423001584003), (<scipy.stats._continuous_distns.wald_gen object at 0x00000271547C9AB0>, (-1.4129543352697682, 5.764887892876894), 0.0031022854288221117), (<scipy.stats._continuous_distns.pearson3_gen object at 0x0000027154798610>, (2.692044257983607, 4.068803267499433, 5.476673178643566), 0.004943105967996182), (<scipy.stats._continuous_distns.beta_gen object at 0x000002715470E3E0>, (0.4284314533196538, 553.2656901099317, 2.4319999999999998e-05, 2407.5080786556628), 0.005735912089299791), (<scipy.stats._continuous_distns.rel_breitwigner_gen object at 0x00000271547CB3A0>, (29762948.748982385, -102810751.59907413, 3.454320100006994), 0.0065576989342022345), (<scipy.stats._continuous_distns.gompertz_gen object at 0x000002715473FF40>, (528040535.1548526, 2.4318591200110832e-05, 3877645703.9211426), 0.007542033004895213), (<scipy.stats._continuous_distns.laplace_asymmetric_gen object at 0x0000027154772A10>, (8.22367807799034e-05, 2.4309085133887272e-05, 0.0006327806079435561), 0.00806352450390749), (<scipy.stats._continuous_distns.expon_gen object at 0x000002715470F4C0>, (2.432e-05, 7.694770788381152), 0.008063747570081657), (<scipy.stats._continuous_distns.genexpon_gen object at 0x000002715473EB60>, (2.0185891792055832, 2.299813774179474e-11, 2.3042025413538862, 2.4319835767110987e-05, 15.532595713272883), 0.008063758174111752), (<scipy.stats._continuous_distns.exponnorm_gen object at 0x000002715470FAF0>, (2522.9285261952537, -0.007372394394948106, 0.0030488206023953097), 0.008067842356805487), (<scipy.stats._continuous_distns.recipinvgauss_gen object at 0x000002715479B8E0>, (6070997.981065458, 2.4319999815542253e-05, 7.697834380292507), 0.008785587406382345), (<scipy.stats._continuous_distns.halfgennorm_gen object at 0x00000271547C9120>, (0.1534857838682092, 1.6192017585172464e-05, 4.044325474478238e-06), 0.011947583611995435), (<scipy.stats._continuous_distns.gengamma_gen object at 0x000002715473F670>, (0.413855385446509, 0.6787832904459031, 2.4319999999999998e-05, 13.608736744751067), 0.012005751115571148), (<scipy.stats._continuous_distns.exponweib_gen object at 0x000002715470FEE0>, (1.2090987060903435, 0.3498500742119621, 2.4319999999999998e-05, 1.123889839524153), 0.012090766532861397), (<scipy.stats._continuous_distns.betaprime_gen object at 0x000002715470E410>, (0.45038173469236586, 0.6553392642544287, 2.4319999999999998e-05, 1.05757920078099), 0.012137301053249483), (<scipy.stats._continuous_distns.burr_gen object at 0x000002715470E950>, (0.7208676203669755, 0.6701561190754415, 2.4319999999999998e-05, 1.2955449434199646), 0.012368571065150515), (<scipy.stats._continuous_distns.weibull_min_gen object at 0x000002715473E110>, (0.398436776834445, 2.4319999999999998e-05, 5.5315270677732755), 0.012449378889598746), (<scipy.stats._continuous_distns.mielke_gen object at 0x0000027154773BB0>, (0.49712915963834525, 0.7212505149141948, 2.4319999999999998e-05, 1.1535953460865032), 0.012499362329403237), (<scipy.stats._continuous_distns.moyal_gen object at 0x00000271547723E0>, (1.379187081085941, 3.5679062904841925), 0.012929034618870095), (<scipy.stats._continuous_distns.erlang_gen object at 0x000002715473EEC0>, (0.20041912163597997, 2.4319999999999998e-05, 12.296853839676338), 0.013276996858316103), (<scipy.stats._continuous_distns.burr12_gen object at 0x000002715470F460>, (0.5625396693265261, 1.3354177651525425, 2.4319999999999998e-05, 0.9357497757277975), 0.013384010999310386), (<scipy.stats._continuous_distns.powerlognorm_gen object at 0x0000027154799DE0>, (2.462373971747904, 3.5725699508894078, 2.3089324176917578e-05, 5.538712195102466), 0.013563015905327163), (<scipy.stats._continuous_distns.fisk_gen object at 0x000002715470F6D0>, (0.6197026401876486, 2.4319999999999998e-05, 0.496145877443673), 0.013629961186201174), (<scipy.stats._continuous_distns.genhalflogistic_gen object at 0x000002715473F940>, (5.025274136606832e-11, 2.4305004505152353e-05, 6.780963223992412), 0.013773965107779371), (<scipy.stats._continuous_distns.halflogistic_gen object at 0x000002715473F220>, (2.431999606275158e-05, 6.781264229204062), 0.013774534071041166), (<scipy.stats._continuous_distns.lognorm_gen object at 0x0000027154771870>, (2.7943127418520914, 1.1707151498467903e-05, 0.44147167517977787), 0.014158957679807845), (<scipy.stats._continuous_distns.johnsonsb_gen object at 0x00000271547721D0>, (2.4794334632438484, 0.3529960153010664, 1.5095332292455647e-05, 506.0106340865101), 0.01417809802977383), (<scipy.stats._continuous_distns.johnsonsu_gen object at 0x0000027154771C90>, (-3.935256362672793, 0.3572107046010744, 8.00022025129908e-06, 1.4452073333463639e-05), 0.01418454195920928), (<scipy.stats._continuous_distns.truncweibull_min_gen object at 0x000002715473D7B0>, (0.015704855078371605, 0.001872730829253797, 1.9972063554405892, -0.4153324728359248, 221.79204096570766), 0.014331013739104177), (<scipy.stats._continuous_distns.f_gen object at 0x000002715473C0A0>, (1.0813781708638321, 1.046108738970872, 2.4319999999999998e-05, 0.4154685616043945), 0.014380576962429193), (<scipy.stats._continuous_distns.ncx2_gen object at 0x0000027154770910>, (0.451109763818227, 0.00660369038427693, 2.4319999999531134e-05, 25.58056640418156), 0.01472939684551419), (<scipy.stats._continuous_distns.skewcauchy_gen object at 0x000002715479BB50>, (0.9999999979749695, 2.4319161806175252e-05, 0.20853820174393264), 0.014863487603920781), (<scipy.stats._continuous_distns.foldcauchy_gen object at 0x000002715470F730>, (0.0007924391323150513, 2.4318894857406287e-05, 0.4167817522382266), 0.014871945186528814), (<scipy.stats._continuous_distns.halfcauchy_gen object at 0x000002715473FB20>, (2.431623730367972e-05, 0.4167252375466799), 0.014873568751741508), (<scipy.stats._continuous_distns.ncf_gen object at 0x0000027154773D60>, (1.122213857453787, 0.9874742869760735, 0.7476308850258171, 2.4319999999999998e-05, 0.20436838380326422), 0.014939503202733103), (<scipy.stats._continuous_distns.laplace_gen object at 0x0000027154772260>, (0.4098757, 7.592313246571029), 0.015068888209022496), (<scipy.stats._continuous_distns.chi_gen object at 0x000002715470FBB0>, (0.20514521429362786, 2.4319999999999998e-05, 37.961914957364655), 0.01523653038833781), (<scipy.stats._continuous_distns.kappa3_gen object at 0x0000027154773B80>, (0.5268404260266746, 2.4319998442630523e-05, 0.274355165145918), 0.015397008516117815), (<scipy.stats._continuous_distns.genhyperbolic_gen object at 0x000002715473F6D0>, (-0.07501207690054407, 2.920146108932546, 2.92008349041162, -0.0021936178987974897, 0.0054150904223214955), 0.015513187602304447), (<scipy.stats._continuous_distns.gumbel_r_gen object at 0x000002715473E440>, (1.990922070397094, 6.787463876429193), 0.01579016978060998), (<scipy.stats._continuous_distns.genlogistic_gen object at 0x000002715473E680>, (2934.357593476834, -52.20243246580429, 6.787333962324986), 0.01579112357719677), (<scipy.stats._continuous_distns.loglaplace_gen object at 0x0000027154773760>, (0.4338715526309327, 2.4319999999999998e-05, 0.4017004526954715), 0.01614094819114456), (<scipy.stats._continuous_distns.chi2_gen object at 0x000002715470DC60>, (0.39861604903295045, 2.4319999999999998e-05, 48.93645659929578), 0.01657842452788503), (<scipy.stats._continuous_distns.fatiguelife_gen object at 0x000002715470E650>, (4.389229117822557, -0.006945929366356789, 0.8294826528466142), 0.016643998410408502), (<scipy.stats._continuous_distns.nakagami_gen object at 0x0000027154773B50>, (0.09655585781115944, 4.6139999999999995e-05, 29.84313101362462), 0.016831505429294954), (<scipy.stats._continuous_distns.alpha_gen object at 0x000002715470E230>, (2.0618495142620535e-07, -0.16648555165125523, 0.3180413382069688), 0.016862798082283564), (<scipy.stats._continuous_distns.truncpareto_gen object at 0x000002715479BEB0>, (0.27373758968446277, 11121.980396367744, -0.03976975401478222, 0.039794074014782216), 0.01690641476785928), (<scipy.stats._continuous_distns.genextreme_gen object at 0x000002715473E800>, (-2.3203092220654096, 0.13623857654002583, 0.32332336951046714), 0.016944885718141952), (<scipy.stats._continuous_distns.invweibull_gen object at 0x00000271547705B0>, (0.4309939886362254, -0.0031081191441834203, 0.13933130845968586), 0.016945163907376097), (<scipy.stats._continuous_distns.pareto_gen object at 0x0000027154798310>, (0.4062943351454812, -0.0686120894408762, 0.06863640944087619), 0.017138464064255853), (<scipy.stats._continuous_distns.lomax_gen object at 0x0000027154799C60>, (0.40633848621282015, 2.4319952943649448e-05, 0.06862019758095725), 0.0171399789522649), (<scipy.stats._continuous_distns.genpareto_gen object at 0x000002715473E8C0>, (2.4534532679808674, 2.4319782971579013e-05, 0.16892349217000607), 0.017141192764472558), (<scipy.stats._continuous_distns.hypsecant_gen object at 0x000002715473F880>, (2.3994047012519, 6.906841669393957), 0.017141624789282453), (<scipy.stats._continuous_distns.gausshyper_gen object at 0x000002715473CA30>, (0.186958472999515, 2.1699505550897564, 1.447221758228853, 1.7037112517405473, 2.4319999999999998e-05, 444.5237940845727), 0.0172837618137763), (<scipy.stats._continuous_distns.invgauss_gen object at 0x000002715473FEE0>, (61.06353804089345, -0.022543622988985965, 0.12638209025837588), 0.01744661333506993), (<scipy.stats._continuous_distns.levy_gen object at 0x00000271547716F0>, (-0.021443072091078166, 0.12108368498154108), 0.017816260564591416), (<scipy.stats._continuous_distns.geninvgauss_gen object at 0x0000027154770160>, (-0.32535159243597717, 0.002722080204480121, -0.010381496969252635, 20.850877722685823), 0.01791891619346148), (<scipy.stats._continuous_distns.invgamma_gen object at 0x000002715473EF80>, (0.36164169773793353, -0.011435826984927573, 0.03178776722633071), 0.018247471129066422), (<scipy.stats._continuous_distns.nct_gen object at 0x0000027154773490>, (0.3487053768653079, 29.667956555142915, -0.02194527873107778, 0.002392073620099528), 0.018636036207750846), (<scipy.stats._continuous_distns.exponpow_gen object at 0x000002715470E620>, (0.20540875823460314, 2.4319999999999998e-05, 121.65903617540505), 0.018842579072254912), (<scipy.stats._continuous_distns.logistic_gen object at 0x0000027154772D40>, (3.231584898787257, 6.474970833640345), 0.0192747048415049), (<scipy.stats._continuous_distns.bradford_gen object at 0x000002715470EF20>, (1068.0767982802424, 2.0613694035459448e-05, 2032.0453802048746), 0.019351936161525717), (<scipy.stats._continuous_distns.gennorm_gen object at 0x00000271547C9CC0>, (0.16874428066669422, 0.042923489999999995, 2.0344448794191087e-05), 0.019625946182880476), (<scipy.stats._continuous_distns.dgamma_gen object at 0x000002715470D0C0>, (0.2518412564814636, 0.019875699999999996, 19.403576091595703), 0.01987676737519372), (<scipy.stats._continuous_distns.dweibull_gen object at 0x000002715470EA10>, (0.3701845800030197, 0.019877460000000003, 1.4403539450763425), 0.020505587026889704), (<scipy.stats._continuous_distns.powerlaw_gen object at 0x0000027154799DB0>, (0.1444990159893614, 2.4319999999999998e-05, 442.54911701000003), 0.020559747083025187), (<scipy.stats._continuous_distns.norminvgauss_gen object at 0x00000271547719C0>, (0.7008642193633314, 0.7008197230391016, 0.02237393964573671, 0.08641392918406737), 0.02057683867637331), (<scipy.stats._continuous_distns.reciprocal_gen object at 0x000002715479AB60>, (3.2303131372037495e-05, 730.0723862302846, -7.983135011058385e-06, 1), 0.021628895415947178), (<scipy.stats._continuous_distns.reciprocal_gen object at 0x000002715479B2E0>, (3.2303131372037495e-05, 730.0723862302846, -7.983135011058385e-06, 1), 0.021628895415947178), (<scipy.stats._continuous_distns.cauchy_gen object at 0x000002715470F940>, (0.17903895886665688, 0.36261947989033283), 0.021736024284963337), (<scipy.stats._continuous_distns.wrapcauchy_gen object at 0x00000271547C90C0>, (0.9940996106711939, 1.772680932568169e-05, 70.43388740803587), 0.02267697793528576), (<scipy.stats._continuous_distns.kstwobign_gen object at 0x000002715470C190>, (-43.82469426369678, 64.18166244903941), 0.022722988001073644), (<scipy.stats._continuous_distns.vonmises_gen object at 0x00000271547C9C90>, (13.31752673392404, 5.661677645864193, 55.890691699345), 0.022938448766693653), (<scipy.stats._continuous_distns.foldnorm_gen object at 0x000002715473CD90>, (0.0047517536001984995, 2.431913145482273e-05, 28.39464661786706), 0.023202842438503207), (<scipy.stats._continuous_distns.truncnorm_gen object at 0x000002715479AA10>, (4.695200893773005e-05, 625.7030697041278, -0.0013089507752071592, 28.396458540225137), 0.023202922462258357), (<scipy.stats._continuous_distns.halfnorm_gen object at 0x000002715473FCD0>, (2.431943043954685e-05, 28.396250413257334), 0.023203134074838306), (<scipy.stats._continuous_distns.skewnorm_gen object at 0x000002715479B610>, (13759892.644937038, 1.567842556655724e-05, 28.396674010048805), 0.023203229340732365), (<scipy.stats._continuous_distns.rayleigh_gen object at 0x000002715479A860>, (-24.463698107674585, 29.84377255861922), 0.024410039838823564), (<scipy.stats._continuous_distns.rice_gen object at 0x000002715479B670>, (0.0003644479718092053, -24.463701276280105, 29.84377587572638), 0.02441004069163639), (<scipy.stats._continuous_distns.tukeylambda_gen object at 0x0000027154798490>, (-2.9815195512378025, 0.05183271307863847, 0.010371227303225695), 0.024436142522631512), (<scipy.stats._continuous_distns.t_gen object at 0x0000027154773430>, (0.32776391091610824, 0.05308675878610697, 0.07808916463901146), 0.024535091506081165), (<scipy.stats._continuous_distns.maxwell_gen object at 0x0000027154773F70>, (-37.29762523809596, 30.394354480958683), 0.0246222020453478), (<scipy.stats._continuous_distns.norm_gen object at 0x000002715470C3A0>, (7.694795108381151, 27.333730721108747), 0.025878293777606434), (<scipy.stats._continuous_distns.crystalball_gen object at 0x00000271547CAA70>, (258.0916741706059, 1657.3237253165698, 7.694795849662096, 27.333730732133805), 0.025878293830460364), (<scipy.stats._continuous_distns.rdist_gen object at 0x000002715479AB00>, (180921.28578210576, 7.763767566275572, 11651.596164073664), 0.025891307529275074), (<scipy.stats._continuous_distns.loggamma_gen object at 0x0000027154773340>, (1703.7173754804553, -9196.591851819507, 1237.1120866625433), 0.026245585617779787), (<scipy.stats._continuous_distns.arcsine_gen object at 0x000002715470CFA0>, (-1.009828661872376e-05, 442.5491514282867), 0.027209543839377914), (<scipy.stats._continuous_distns.cosine_gen object at 0x000002715470E920>, (30.54066452123347, 47.999911561214915), 0.02859479034629805), (<scipy.stats._continuous_distns.gamma_gen object at 0x000002715473E560>, (0.02384392285088839, 2.4319999999999998e-05, 3.1868952390598224), 0.02862866817978131), (<scipy.stats._continuous_distns.anglit_gen object at 0x000002715470E440>, (44.66458830893508, 173.95745115463433), 0.028992964718264385), (<scipy.stats._continuous_distns.gumbel_l_gen object at 0x000002715473FA30>, (28.965961799850042, 85.67808548322358), 0.029028368258147086), (<scipy.stats._continuous_distns.triang_gen object at 0x0000027154799BD0>, (2.5955414581187835e-14, 1.9181345565325227e-05, 463.25134093716326), 0.029227288245054838), (<scipy.stats._continuous_distns.semicircular_gen object at 0x0000027154799C30>, (63.22084147665811, 118.04770266916505), 0.02926961643548796), (<scipy.stats._continuous_distns.truncexpon_gen object at 0x000002715479BBB0>, (1.3289454962155065, -42.780460947751266, 365.1990270931708), 0.029438984049440724), (<scipy.stats._continuous_distns.kappa4_gen object at 0x0000027154772410>, (1.1004160732229868, 0.8532143417442204, -42.788916127720974, 465.67219645420096), 0.029457311360026096), (<scipy.stats._continuous_distns.argus_gen object at 0x00000271547CAD70>, (0.02252978792736715, -328.3371807802803, 770.9378087872237), 0.030092571547217613), (<scipy.stats._continuous_distns.levy_l_gen object at 0x0000027154772EC0>, (447.31226108961926, 421.90120560018954), 0.030305797716163832), (<scipy.stats._continuous_distns.powernorm_gen object at 0x000002715479A800>, (2.2163906648972198e-05, -24.46545546142527, 0.14067093643575979), nan), (<scipy.stats._continuous_distns.uniform_gen object at 0x000002715479BE80>, (2.432e-05, 442.54911701), 0.02997968546266906), (<scipy.stats._continuous_distns.ksone_gen object at 0x00000271546B8340>, (1.0, -44.254887380999996, 531.058940412), 0.029993868672959417), (<scipy.stats._continuous_distns.trapezoid_gen object at 0x000002715479BE50>, (1.0, 1.0, -46.467631750049996, 531.058940412), 0.030755164113647107), (<scipy.stats._continuous_distns.trapezoid_gen object at 0x000002715479B970>, (1.0, 1.0, -46.467631750049996, 531.058940412), 0.030755164113647107), (<scipy.stats._continuous_distns.weibull_max_gen object at 0x000002715473E3E0>, (0.14652003853234447, 442.54914133000005, 1.7755329439715029), 0.031166130194811837), (<scipy.stats._continuous_distns.vonmises_gen object at 0x00000271547C8730>, (1.489583163199835, 0.3290006415449196, 1), 4.624805622707692)]\n"
     ]
    }
   ],
   "source": [
    "\n",
    "best_dist = best_d[0]\n",
    "print(best_d)\n",
    "pdf = make_pdf(best_dist[0], best_dist[1], size=timestep_dataframe[examined_feature].shape[0])\n"
   ]
  },
  {
   "cell_type": "code",
   "execution_count": 8,
   "metadata": {},
   "outputs": [
    {
     "data": {
      "text/plain": [
       "Text(0, 0.5, 'Frequency')"
      ]
     },
     "execution_count": 8,
     "metadata": {},
     "output_type": "execute_result"
    },
    {
     "data": {
      "image/png": "[encoded data removed]",
      "text/plain": [
       "<Figure size 1200x800 with 1 Axes>"
      ]
     },
     "metadata": {},
     "output_type": "display_data"
    }
   ],
   "source": [
    "\n",
    "# Plot for comparison\n",
    "data = timestep_dataframe[examined_feature]\n",
    "plt.figure(figsize=(12,8))\n",
    "\n",
    "# Update plots\n",
    "\n",
    "ax = pdf.plot(lw=2, label='PDF', legend=True)\n",
    "data.plot(kind='hist', bins=_bins, density=True, alpha=0.5, label='Data', legend=True, ax=ax)\n",
    "\n",
    "param_names = (best_dist[0].shapes + ', loc, scale').split(', ') if best_dist[0].shapes else ['loc', 'scale']\n",
    "param_str = ', '.join(['{}={:0.2f}'.format(k,v) for k,v in zip(param_names, best_dist[1])])\n",
    "dist_str = '{}({})'.format(best_dist[0].name, param_str)\n",
    "\n",
    "ax.set_title(f'best fit distribution for {examined_feature} \\n' + dist_str)\n",
    "ax.set_xlabel(u'Temp. (°C)')\n",
    "ax.set_ylabel('Frequency')\n",
    "\n"
   ]
  }
 ],
 "metadata": {
  "kernelspec": {
   "display_name": "venv",
   "language": "python",
   "name": "python3"
  },
  "language_info": {
   "codemirror_mode": {
    "name": "ipython",
    "version": 3
   },
   "file_extension": ".py",
   "mimetype": "text/x-python",
   "name": "python",
   "nbconvert_exporter": "python",
   "pygments_lexer": "ipython3",
   "version": "3.10.11"
  }
 },
 "nbformat": 4,
 "nbformat_minor": 2
}
