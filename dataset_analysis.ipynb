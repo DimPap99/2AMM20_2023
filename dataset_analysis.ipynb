{
 "cells": [
  {
   "cell_type": "markdown",
   "metadata": {},
   "source": [
    "Merge the three different datasets based on the txId in order to have the features, class and neighbor for each transaction in one dataframe."
   ]
  },
  {
   "cell_type": "code",
   "execution_count": 1,
   "metadata": {},
   "outputs": [
    {
     "data": {
      "text/html": [
       "<div>\n",
       "<style scoped>\n",
       "    .dataframe tbody tr th:only-of-type {\n",
       "        vertical-align: middle;\n",
       "    }\n",
       "\n",
       "    .dataframe tbody tr th {\n",
       "        vertical-align: top;\n",
       "    }\n",
       "\n",
       "    .dataframe thead th {\n",
       "        text-align: right;\n",
       "    }\n",
       "</style>\n",
       "<table border=\"1\" class=\"dataframe\">\n",
       "  <thead>\n",
       "    <tr style=\"text-align: right;\">\n",
       "      <th></th>\n",
       "      <th>txId</th>\n",
       "      <th>Time step</th>\n",
       "      <th>Local_feature_1</th>\n",
       "      <th>Local_feature_2</th>\n",
       "      <th>Local_feature_3</th>\n",
       "      <th>Local_feature_4</th>\n",
       "      <th>Local_feature_5</th>\n",
       "      <th>Local_feature_6</th>\n",
       "      <th>Local_feature_7</th>\n",
       "      <th>Local_feature_8</th>\n",
       "      <th>...</th>\n",
       "      <th>in_BTC_max</th>\n",
       "      <th>in_BTC_mean</th>\n",
       "      <th>in_BTC_median</th>\n",
       "      <th>in_BTC_total</th>\n",
       "      <th>out_BTC_min</th>\n",
       "      <th>out_BTC_max</th>\n",
       "      <th>out_BTC_mean</th>\n",
       "      <th>out_BTC_median</th>\n",
       "      <th>out_BTC_total</th>\n",
       "      <th>class</th>\n",
       "    </tr>\n",
       "  </thead>\n",
       "  <tbody>\n",
       "    <tr>\n",
       "      <th>0</th>\n",
       "      <td>3321</td>\n",
       "      <td>1</td>\n",
       "      <td>-0.169615</td>\n",
       "      <td>-0.184668</td>\n",
       "      <td>-1.201369</td>\n",
       "      <td>-0.121970</td>\n",
       "      <td>-0.043875</td>\n",
       "      <td>-0.113002</td>\n",
       "      <td>-0.061584</td>\n",
       "      <td>-0.160199</td>\n",
       "      <td>...</td>\n",
       "      <td>0.534072</td>\n",
       "      <td>0.534072</td>\n",
       "      <td>0.534072</td>\n",
       "      <td>0.534072</td>\n",
       "      <td>1.668990e-01</td>\n",
       "      <td>0.367074</td>\n",
       "      <td>0.266986</td>\n",
       "      <td>0.266986</td>\n",
       "      <td>0.533972</td>\n",
       "      <td>3</td>\n",
       "    </tr>\n",
       "    <tr>\n",
       "      <th>1</th>\n",
       "      <td>11108</td>\n",
       "      <td>1</td>\n",
       "      <td>-0.137586</td>\n",
       "      <td>-0.184668</td>\n",
       "      <td>-1.201369</td>\n",
       "      <td>-0.121970</td>\n",
       "      <td>-0.043875</td>\n",
       "      <td>-0.113002</td>\n",
       "      <td>-0.061584</td>\n",
       "      <td>-0.127429</td>\n",
       "      <td>...</td>\n",
       "      <td>5.611878</td>\n",
       "      <td>5.611878</td>\n",
       "      <td>5.611878</td>\n",
       "      <td>5.611878</td>\n",
       "      <td>5.861940e-01</td>\n",
       "      <td>5.025584</td>\n",
       "      <td>2.805889</td>\n",
       "      <td>2.805889</td>\n",
       "      <td>5.611778</td>\n",
       "      <td>3</td>\n",
       "    </tr>\n",
       "    <tr>\n",
       "      <th>2</th>\n",
       "      <td>51816</td>\n",
       "      <td>1</td>\n",
       "      <td>-0.170103</td>\n",
       "      <td>-0.184668</td>\n",
       "      <td>-1.201369</td>\n",
       "      <td>-0.121970</td>\n",
       "      <td>-0.043875</td>\n",
       "      <td>-0.113002</td>\n",
       "      <td>-0.061584</td>\n",
       "      <td>-0.160699</td>\n",
       "      <td>...</td>\n",
       "      <td>0.456608</td>\n",
       "      <td>0.456608</td>\n",
       "      <td>0.456608</td>\n",
       "      <td>0.456608</td>\n",
       "      <td>2.279902e-01</td>\n",
       "      <td>0.228518</td>\n",
       "      <td>0.228254</td>\n",
       "      <td>0.228254</td>\n",
       "      <td>0.456508</td>\n",
       "      <td>3</td>\n",
       "    </tr>\n",
       "    <tr>\n",
       "      <th>3</th>\n",
       "      <td>68869</td>\n",
       "      <td>1</td>\n",
       "      <td>-0.114267</td>\n",
       "      <td>-0.184668</td>\n",
       "      <td>-1.201369</td>\n",
       "      <td>0.028105</td>\n",
       "      <td>-0.043875</td>\n",
       "      <td>-0.113002</td>\n",
       "      <td>0.547008</td>\n",
       "      <td>-0.161652</td>\n",
       "      <td>...</td>\n",
       "      <td>8.000000</td>\n",
       "      <td>3.102967</td>\n",
       "      <td>1.000000</td>\n",
       "      <td>9.308900</td>\n",
       "      <td>1.229000e+00</td>\n",
       "      <td>8.079800</td>\n",
       "      <td>4.654400</td>\n",
       "      <td>4.654400</td>\n",
       "      <td>9.308800</td>\n",
       "      <td>2</td>\n",
       "    </tr>\n",
       "    <tr>\n",
       "      <th>4</th>\n",
       "      <td>89273</td>\n",
       "      <td>1</td>\n",
       "      <td>5.202107</td>\n",
       "      <td>-0.210553</td>\n",
       "      <td>-1.756361</td>\n",
       "      <td>-0.121970</td>\n",
       "      <td>260.090707</td>\n",
       "      <td>-0.113002</td>\n",
       "      <td>-0.061584</td>\n",
       "      <td>5.335864</td>\n",
       "      <td>...</td>\n",
       "      <td>852.164680</td>\n",
       "      <td>852.164680</td>\n",
       "      <td>852.164680</td>\n",
       "      <td>852.164680</td>\n",
       "      <td>1.300000e-07</td>\n",
       "      <td>41.264036</td>\n",
       "      <td>0.065016</td>\n",
       "      <td>0.000441</td>\n",
       "      <td>852.164680</td>\n",
       "      <td>2</td>\n",
       "    </tr>\n",
       "    <tr>\n",
       "      <th>...</th>\n",
       "      <td>...</td>\n",
       "      <td>...</td>\n",
       "      <td>...</td>\n",
       "      <td>...</td>\n",
       "      <td>...</td>\n",
       "      <td>...</td>\n",
       "      <td>...</td>\n",
       "      <td>...</td>\n",
       "      <td>...</td>\n",
       "      <td>...</td>\n",
       "      <td>...</td>\n",
       "      <td>...</td>\n",
       "      <td>...</td>\n",
       "      <td>...</td>\n",
       "      <td>...</td>\n",
       "      <td>...</td>\n",
       "      <td>...</td>\n",
       "      <td>...</td>\n",
       "      <td>...</td>\n",
       "      <td>...</td>\n",
       "      <td>...</td>\n",
       "    </tr>\n",
       "    <tr>\n",
       "      <th>202799</th>\n",
       "      <td>194747812</td>\n",
       "      <td>49</td>\n",
       "      <td>0.558398</td>\n",
       "      <td>-0.198956</td>\n",
       "      <td>-0.091383</td>\n",
       "      <td>-0.121970</td>\n",
       "      <td>-0.043875</td>\n",
       "      <td>-0.113002</td>\n",
       "      <td>-0.061584</td>\n",
       "      <td>0.584665</td>\n",
       "      <td>...</td>\n",
       "      <td>115.952889</td>\n",
       "      <td>115.952889</td>\n",
       "      <td>115.952889</td>\n",
       "      <td>115.952889</td>\n",
       "      <td>1.653300e+00</td>\n",
       "      <td>114.299544</td>\n",
       "      <td>57.976422</td>\n",
       "      <td>57.976422</td>\n",
       "      <td>115.952844</td>\n",
       "      <td>3</td>\n",
       "    </tr>\n",
       "    <tr>\n",
       "      <th>202800</th>\n",
       "      <td>194747925</td>\n",
       "      <td>49</td>\n",
       "      <td>0.547658</td>\n",
       "      <td>-0.198956</td>\n",
       "      <td>-0.091383</td>\n",
       "      <td>-0.121970</td>\n",
       "      <td>-0.043875</td>\n",
       "      <td>-0.113002</td>\n",
       "      <td>-0.061584</td>\n",
       "      <td>0.573676</td>\n",
       "      <td>...</td>\n",
       "      <td>114.250098</td>\n",
       "      <td>114.250098</td>\n",
       "      <td>114.250098</td>\n",
       "      <td>114.250098</td>\n",
       "      <td>2.035300e-02</td>\n",
       "      <td>114.229700</td>\n",
       "      <td>57.125027</td>\n",
       "      <td>57.125027</td>\n",
       "      <td>114.250053</td>\n",
       "      <td>3</td>\n",
       "    </tr>\n",
       "    <tr>\n",
       "      <th>202801</th>\n",
       "      <td>194748063</td>\n",
       "      <td>49</td>\n",
       "      <td>0.543600</td>\n",
       "      <td>-0.198853</td>\n",
       "      <td>-0.091383</td>\n",
       "      <td>-0.121970</td>\n",
       "      <td>-0.043875</td>\n",
       "      <td>-0.113002</td>\n",
       "      <td>-0.061584</td>\n",
       "      <td>0.569524</td>\n",
       "      <td>...</td>\n",
       "      <td>113.606771</td>\n",
       "      <td>113.606771</td>\n",
       "      <td>113.606771</td>\n",
       "      <td>113.606771</td>\n",
       "      <td>9.257490e-01</td>\n",
       "      <td>112.680977</td>\n",
       "      <td>56.803363</td>\n",
       "      <td>56.803363</td>\n",
       "      <td>113.606726</td>\n",
       "      <td>3</td>\n",
       "    </tr>\n",
       "    <tr>\n",
       "      <th>202802</th>\n",
       "      <td>194748070</td>\n",
       "      <td>49</td>\n",
       "      <td>0.537760</td>\n",
       "      <td>-0.198853</td>\n",
       "      <td>-0.091383</td>\n",
       "      <td>-0.121970</td>\n",
       "      <td>-0.043875</td>\n",
       "      <td>-0.113002</td>\n",
       "      <td>-0.061584</td>\n",
       "      <td>0.563549</td>\n",
       "      <td>...</td>\n",
       "      <td>112.680977</td>\n",
       "      <td>112.680977</td>\n",
       "      <td>112.680977</td>\n",
       "      <td>112.680977</td>\n",
       "      <td>3.026970e-01</td>\n",
       "      <td>112.378235</td>\n",
       "      <td>56.340466</td>\n",
       "      <td>56.340466</td>\n",
       "      <td>112.680932</td>\n",
       "      <td>3</td>\n",
       "    </tr>\n",
       "    <tr>\n",
       "      <th>202803</th>\n",
       "      <td>194835939</td>\n",
       "      <td>49</td>\n",
       "      <td>-0.170463</td>\n",
       "      <td>-0.152788</td>\n",
       "      <td>1.018602</td>\n",
       "      <td>-0.121970</td>\n",
       "      <td>-0.063725</td>\n",
       "      <td>-0.113002</td>\n",
       "      <td>-0.061584</td>\n",
       "      <td>-0.161066</td>\n",
       "      <td>...</td>\n",
       "      <td>0.399769</td>\n",
       "      <td>0.399769</td>\n",
       "      <td>0.399769</td>\n",
       "      <td>0.399769</td>\n",
       "      <td>3.995460e-01</td>\n",
       "      <td>0.399546</td>\n",
       "      <td>0.399546</td>\n",
       "      <td>0.399546</td>\n",
       "      <td>0.399546</td>\n",
       "      <td>3</td>\n",
       "    </tr>\n",
       "  </tbody>\n",
       "</table>\n",
       "<p>202804 rows × 185 columns</p>\n",
       "</div>"
      ],
      "text/plain": [
       "             txId  Time step  Local_feature_1  Local_feature_2  \\\n",
       "0            3321          1        -0.169615        -0.184668   \n",
       "1           11108          1        -0.137586        -0.184668   \n",
       "2           51816          1        -0.170103        -0.184668   \n",
       "3           68869          1        -0.114267        -0.184668   \n",
       "4           89273          1         5.202107        -0.210553   \n",
       "...           ...        ...              ...              ...   \n",
       "202799  194747812         49         0.558398        -0.198956   \n",
       "202800  194747925         49         0.547658        -0.198956   \n",
       "202801  194748063         49         0.543600        -0.198853   \n",
       "202802  194748070         49         0.537760        -0.198853   \n",
       "202803  194835939         49        -0.170463        -0.152788   \n",
       "\n",
       "        Local_feature_3  Local_feature_4  Local_feature_5  Local_feature_6  \\\n",
       "0             -1.201369        -0.121970        -0.043875        -0.113002   \n",
       "1             -1.201369        -0.121970        -0.043875        -0.113002   \n",
       "2             -1.201369        -0.121970        -0.043875        -0.113002   \n",
       "3             -1.201369         0.028105        -0.043875        -0.113002   \n",
       "4             -1.756361        -0.121970       260.090707        -0.113002   \n",
       "...                 ...              ...              ...              ...   \n",
       "202799        -0.091383        -0.121970        -0.043875        -0.113002   \n",
       "202800        -0.091383        -0.121970        -0.043875        -0.113002   \n",
       "202801        -0.091383        -0.121970        -0.043875        -0.113002   \n",
       "202802        -0.091383        -0.121970        -0.043875        -0.113002   \n",
       "202803         1.018602        -0.121970        -0.063725        -0.113002   \n",
       "\n",
       "        Local_feature_7  Local_feature_8  ...  in_BTC_max  in_BTC_mean  \\\n",
       "0             -0.061584        -0.160199  ...    0.534072     0.534072   \n",
       "1             -0.061584        -0.127429  ...    5.611878     5.611878   \n",
       "2             -0.061584        -0.160699  ...    0.456608     0.456608   \n",
       "3              0.547008        -0.161652  ...    8.000000     3.102967   \n",
       "4             -0.061584         5.335864  ...  852.164680   852.164680   \n",
       "...                 ...              ...  ...         ...          ...   \n",
       "202799        -0.061584         0.584665  ...  115.952889   115.952889   \n",
       "202800        -0.061584         0.573676  ...  114.250098   114.250098   \n",
       "202801        -0.061584         0.569524  ...  113.606771   113.606771   \n",
       "202802        -0.061584         0.563549  ...  112.680977   112.680977   \n",
       "202803        -0.061584        -0.161066  ...    0.399769     0.399769   \n",
       "\n",
       "        in_BTC_median  in_BTC_total   out_BTC_min  out_BTC_max  out_BTC_mean  \\\n",
       "0            0.534072      0.534072  1.668990e-01     0.367074      0.266986   \n",
       "1            5.611878      5.611878  5.861940e-01     5.025584      2.805889   \n",
       "2            0.456608      0.456608  2.279902e-01     0.228518      0.228254   \n",
       "3            1.000000      9.308900  1.229000e+00     8.079800      4.654400   \n",
       "4          852.164680    852.164680  1.300000e-07    41.264036      0.065016   \n",
       "...               ...           ...           ...          ...           ...   \n",
       "202799     115.952889    115.952889  1.653300e+00   114.299544     57.976422   \n",
       "202800     114.250098    114.250098  2.035300e-02   114.229700     57.125027   \n",
       "202801     113.606771    113.606771  9.257490e-01   112.680977     56.803363   \n",
       "202802     112.680977    112.680977  3.026970e-01   112.378235     56.340466   \n",
       "202803       0.399769      0.399769  3.995460e-01     0.399546      0.399546   \n",
       "\n",
       "        out_BTC_median  out_BTC_total  class  \n",
       "0             0.266986       0.533972      3  \n",
       "1             2.805889       5.611778      3  \n",
       "2             0.228254       0.456508      3  \n",
       "3             4.654400       9.308800      2  \n",
       "4             0.000441     852.164680      2  \n",
       "...                ...            ...    ...  \n",
       "202799       57.976422     115.952844      3  \n",
       "202800       57.125027     114.250053      3  \n",
       "202801       56.803363     113.606726      3  \n",
       "202802       56.340466     112.680932      3  \n",
       "202803        0.399546       0.399546      3  \n",
       "\n",
       "[202804 rows x 185 columns]"
      ]
     },
     "execution_count": 1,
     "metadata": {},
     "output_type": "execute_result"
    }
   ],
   "source": [
    "import pandas as pd\n",
    "from helpers import read_csv, load_pickled_data, pickle_data\n",
    "import os\n",
    "import matplotlib.pyplot as plt \n",
    "import plotly\n",
    "import chart_studio.plotly as py\n",
    "import plotly.graph_objects as go\n",
    "\n",
    "DATASET_BASE = \"dataset\"\n",
    "PICKLED_OBJS = \"pickled_objs\"\n",
    "os.makedirs(DATASET_BASE, exist_ok=True)\n",
    "os.makedirs(PICKLED_OBJS, exist_ok=True)\n",
    "txs_classes:pd.DataFrame = read_csv(os.path.join(DATASET_BASE, \"elliptic_txs_classes.csv\"), ret_Dataframe=True)\n",
    "txs_edgelist:pd.DataFrame = read_csv(os.path.join(DATASET_BASE, \"elliptic_txs_edgelist.csv\"), ret_Dataframe=True)\n",
    "txs_features:pd.DataFrame =  read_csv(os.path.join(DATASET_BASE, \"elliptic_txs_features.csv\"), ret_Dataframe=True)\n",
    "\n",
    "\n",
    "merge_feats_class = pd.merge(txs_features, txs_classes, on='txId').dropna()\n",
    "merge_feats_class"
   ]
  },
  {
   "cell_type": "code",
   "execution_count": 2,
   "metadata": {},
   "outputs": [
    {
     "data": {
      "text/plain": [
       "['txId',\n",
       " 'Time step',\n",
       " 'Local_feature_1',\n",
       " 'Local_feature_2',\n",
       " 'Local_feature_3',\n",
       " 'Local_feature_4',\n",
       " 'Local_feature_5',\n",
       " 'Local_feature_6',\n",
       " 'Local_feature_7',\n",
       " 'Local_feature_8',\n",
       " 'Local_feature_9',\n",
       " 'Local_feature_10',\n",
       " 'Local_feature_11',\n",
       " 'Local_feature_12',\n",
       " 'Local_feature_13',\n",
       " 'Local_feature_14',\n",
       " 'Local_feature_15',\n",
       " 'Local_feature_16',\n",
       " 'Local_feature_17',\n",
       " 'Local_feature_18',\n",
       " 'Local_feature_19',\n",
       " 'Local_feature_20',\n",
       " 'Local_feature_21',\n",
       " 'Local_feature_22',\n",
       " 'Local_feature_23',\n",
       " 'Local_feature_24',\n",
       " 'Local_feature_25',\n",
       " 'Local_feature_26',\n",
       " 'Local_feature_27',\n",
       " 'Local_feature_28',\n",
       " 'Local_feature_29',\n",
       " 'Local_feature_30',\n",
       " 'Local_feature_31',\n",
       " 'Local_feature_32',\n",
       " 'Local_feature_33',\n",
       " 'Local_feature_34',\n",
       " 'Local_feature_35',\n",
       " 'Local_feature_36',\n",
       " 'Local_feature_37',\n",
       " 'Local_feature_38',\n",
       " 'Local_feature_39',\n",
       " 'Local_feature_40',\n",
       " 'Local_feature_41',\n",
       " 'Local_feature_42',\n",
       " 'Local_feature_43',\n",
       " 'Local_feature_44',\n",
       " 'Local_feature_45',\n",
       " 'Local_feature_46',\n",
       " 'Local_feature_47',\n",
       " 'Local_feature_48',\n",
       " 'Local_feature_49',\n",
       " 'Local_feature_50',\n",
       " 'Local_feature_51',\n",
       " 'Local_feature_52',\n",
       " 'Local_feature_53',\n",
       " 'Local_feature_54',\n",
       " 'Local_feature_55',\n",
       " 'Local_feature_56',\n",
       " 'Local_feature_57',\n",
       " 'Local_feature_58',\n",
       " 'Local_feature_59',\n",
       " 'Local_feature_60',\n",
       " 'Local_feature_61',\n",
       " 'Local_feature_62',\n",
       " 'Local_feature_63',\n",
       " 'Local_feature_64',\n",
       " 'Local_feature_65',\n",
       " 'Local_feature_66',\n",
       " 'Local_feature_67',\n",
       " 'Local_feature_68',\n",
       " 'Local_feature_69',\n",
       " 'Local_feature_70',\n",
       " 'Local_feature_71',\n",
       " 'Local_feature_72',\n",
       " 'Local_feature_73',\n",
       " 'Local_feature_74',\n",
       " 'Local_feature_75',\n",
       " 'Local_feature_76',\n",
       " 'Local_feature_77',\n",
       " 'Local_feature_78',\n",
       " 'Local_feature_79',\n",
       " 'Local_feature_80',\n",
       " 'Local_feature_81',\n",
       " 'Local_feature_82',\n",
       " 'Local_feature_83',\n",
       " 'Local_feature_84',\n",
       " 'Local_feature_85',\n",
       " 'Local_feature_86',\n",
       " 'Local_feature_87',\n",
       " 'Local_feature_88',\n",
       " 'Local_feature_89',\n",
       " 'Local_feature_90',\n",
       " 'Local_feature_91',\n",
       " 'Local_feature_92',\n",
       " 'Local_feature_93',\n",
       " 'Aggregate_feature_1',\n",
       " 'Aggregate_feature_2',\n",
       " 'Aggregate_feature_3',\n",
       " 'Aggregate_feature_4',\n",
       " 'Aggregate_feature_5',\n",
       " 'Aggregate_feature_6',\n",
       " 'Aggregate_feature_7',\n",
       " 'Aggregate_feature_8',\n",
       " 'Aggregate_feature_9',\n",
       " 'Aggregate_feature_10',\n",
       " 'Aggregate_feature_11',\n",
       " 'Aggregate_feature_12',\n",
       " 'Aggregate_feature_13',\n",
       " 'Aggregate_feature_14',\n",
       " 'Aggregate_feature_15',\n",
       " 'Aggregate_feature_16',\n",
       " 'Aggregate_feature_17',\n",
       " 'Aggregate_feature_18',\n",
       " 'Aggregate_feature_19',\n",
       " 'Aggregate_feature_20',\n",
       " 'Aggregate_feature_21',\n",
       " 'Aggregate_feature_22',\n",
       " 'Aggregate_feature_23',\n",
       " 'Aggregate_feature_24',\n",
       " 'Aggregate_feature_25',\n",
       " 'Aggregate_feature_26',\n",
       " 'Aggregate_feature_27',\n",
       " 'Aggregate_feature_28',\n",
       " 'Aggregate_feature_29',\n",
       " 'Aggregate_feature_30',\n",
       " 'Aggregate_feature_31',\n",
       " 'Aggregate_feature_32',\n",
       " 'Aggregate_feature_33',\n",
       " 'Aggregate_feature_34',\n",
       " 'Aggregate_feature_35',\n",
       " 'Aggregate_feature_36',\n",
       " 'Aggregate_feature_37',\n",
       " 'Aggregate_feature_38',\n",
       " 'Aggregate_feature_39',\n",
       " 'Aggregate_feature_40',\n",
       " 'Aggregate_feature_41',\n",
       " 'Aggregate_feature_42',\n",
       " 'Aggregate_feature_43',\n",
       " 'Aggregate_feature_44',\n",
       " 'Aggregate_feature_45',\n",
       " 'Aggregate_feature_46',\n",
       " 'Aggregate_feature_47',\n",
       " 'Aggregate_feature_48',\n",
       " 'Aggregate_feature_49',\n",
       " 'Aggregate_feature_50',\n",
       " 'Aggregate_feature_51',\n",
       " 'Aggregate_feature_52',\n",
       " 'Aggregate_feature_53',\n",
       " 'Aggregate_feature_54',\n",
       " 'Aggregate_feature_55',\n",
       " 'Aggregate_feature_56',\n",
       " 'Aggregate_feature_57',\n",
       " 'Aggregate_feature_58',\n",
       " 'Aggregate_feature_59',\n",
       " 'Aggregate_feature_60',\n",
       " 'Aggregate_feature_61',\n",
       " 'Aggregate_feature_62',\n",
       " 'Aggregate_feature_63',\n",
       " 'Aggregate_feature_64',\n",
       " 'Aggregate_feature_65',\n",
       " 'Aggregate_feature_66',\n",
       " 'Aggregate_feature_67',\n",
       " 'Aggregate_feature_68',\n",
       " 'Aggregate_feature_69',\n",
       " 'Aggregate_feature_70',\n",
       " 'Aggregate_feature_71',\n",
       " 'Aggregate_feature_72',\n",
       " 'in_txs_degree',\n",
       " 'out_txs_degree',\n",
       " 'total_BTC',\n",
       " 'fees',\n",
       " 'size',\n",
       " 'num_input_addresses',\n",
       " 'num_output_addresses',\n",
       " 'in_BTC_min',\n",
       " 'in_BTC_max',\n",
       " 'in_BTC_mean',\n",
       " 'in_BTC_median',\n",
       " 'in_BTC_total',\n",
       " 'out_BTC_min',\n",
       " 'out_BTC_max',\n",
       " 'out_BTC_mean',\n",
       " 'out_BTC_median',\n",
       " 'out_BTC_total',\n",
       " 'class']"
      ]
     },
     "execution_count": 2,
     "metadata": {},
     "output_type": "execute_result"
    }
   ],
   "source": [
    "list(merge_feats_class.columns)"
   ]
  },
  {
   "cell_type": "markdown",
   "metadata": {},
   "source": [
    "Classes and the corresponding amount of transactions"
   ]
  },
  {
   "cell_type": "code",
   "execution_count": 3,
   "metadata": {},
   "outputs": [
    {
     "data": {
      "application/vnd.plotly.v1+json": {
       "config": {
        "linkText": "Export to plot.ly",
        "plotlyServerURL": "https://plot.ly",
        "showLink": false
       },
       "data": [
        {
         "type": "bar",
         "x": [
          "Illicit",
          "Licit",
          "Unknown"
         ],
         "y": [
          4545,
          41500,
          156759
         ]
        }
       ],
       "layout": {
        "template": {
         "data": {
          "bar": [
           {
            "error_x": {
             "color": "#2a3f5f"
            },
            "error_y": {
             "color": "#2a3f5f"
            },
            "marker": {
             "line": {
              "color": "#E5ECF6",
              "width": 0.5
             },
             "pattern": {
              "fillmode": "overlay",
              "size": 10,
              "solidity": 0.2
             }
            },
            "type": "bar"
           }
          ],
          "barpolar": [
           {
            "marker": {
             "line": {
              "color": "#E5ECF6",
              "width": 0.5
             },
             "pattern": {
              "fillmode": "overlay",
              "size": 10,
              "solidity": 0.2
             }
            },
            "type": "barpolar"
           }
          ],
          "carpet": [
           {
            "aaxis": {
             "endlinecolor": "#2a3f5f",
             "gridcolor": "white",
             "linecolor": "white",
             "minorgridcolor": "white",
             "startlinecolor": "#2a3f5f"
            },
            "baxis": {
             "endlinecolor": "#2a3f5f",
             "gridcolor": "white",
             "linecolor": "white",
             "minorgridcolor": "white",
             "startlinecolor": "#2a3f5f"
            },
            "type": "carpet"
           }
          ],
          "choropleth": [
           {
            "colorbar": {
             "outlinewidth": 0,
             "ticks": ""
            },
            "type": "choropleth"
           }
          ],
          "contour": [
           {
            "colorbar": {
             "outlinewidth": 0,
             "ticks": ""
            },
            "colorscale": [
             [
              0,
              "#0d0887"
             ],
             [
              0.1111111111111111,
              "#46039f"
             ],
             [
              0.2222222222222222,
              "#7201a8"
             ],
             [
              0.3333333333333333,
              "#9c179e"
             ],
             [
              0.4444444444444444,
              "#bd3786"
             ],
             [
              0.5555555555555556,
              "#d8576b"
             ],
             [
              0.6666666666666666,
              "#ed7953"
             ],
             [
              0.7777777777777778,
              "#fb9f3a"
             ],
             [
              0.8888888888888888,
              "#fdca26"
             ],
             [
              1,
              "#f0f921"
             ]
            ],
            "type": "contour"
           }
          ],
          "contourcarpet": [
           {
            "colorbar": {
             "outlinewidth": 0,
             "ticks": ""
            },
            "type": "contourcarpet"
           }
          ],
          "heatmap": [
           {
            "colorbar": {
             "outlinewidth": 0,
             "ticks": ""
            },
            "colorscale": [
             [
              0,
              "#0d0887"
             ],
             [
              0.1111111111111111,
              "#46039f"
             ],
             [
              0.2222222222222222,
              "#7201a8"
             ],
             [
              0.3333333333333333,
              "#9c179e"
             ],
             [
              0.4444444444444444,
              "#bd3786"
             ],
             [
              0.5555555555555556,
              "#d8576b"
             ],
             [
              0.6666666666666666,
              "#ed7953"
             ],
             [
              0.7777777777777778,
              "#fb9f3a"
             ],
             [
              0.8888888888888888,
              "#fdca26"
             ],
             [
              1,
              "#f0f921"
             ]
            ],
            "type": "heatmap"
           }
          ],
          "heatmapgl": [
           {
            "colorbar": {
             "outlinewidth": 0,
             "ticks": ""
            },
            "colorscale": [
             [
              0,
              "#0d0887"
             ],
             [
              0.1111111111111111,
              "#46039f"
             ],
             [
              0.2222222222222222,
              "#7201a8"
             ],
             [
              0.3333333333333333,
              "#9c179e"
             ],
             [
              0.4444444444444444,
              "#bd3786"
             ],
             [
              0.5555555555555556,
              "#d8576b"
             ],
             [
              0.6666666666666666,
              "#ed7953"
             ],
             [
              0.7777777777777778,
              "#fb9f3a"
             ],
             [
              0.8888888888888888,
              "#fdca26"
             ],
             [
              1,
              "#f0f921"
             ]
            ],
            "type": "heatmapgl"
           }
          ],
          "histogram": [
           {
            "marker": {
             "pattern": {
              "fillmode": "overlay",
              "size": 10,
              "solidity": 0.2
             }
            },
            "type": "histogram"
           }
          ],
          "histogram2d": [
           {
            "colorbar": {
             "outlinewidth": 0,
             "ticks": ""
            },
            "colorscale": [
             [
              0,
              "#0d0887"
             ],
             [
              0.1111111111111111,
              "#46039f"
             ],
             [
              0.2222222222222222,
              "#7201a8"
             ],
             [
              0.3333333333333333,
              "#9c179e"
             ],
             [
              0.4444444444444444,
              "#bd3786"
             ],
             [
              0.5555555555555556,
              "#d8576b"
             ],
             [
              0.6666666666666666,
              "#ed7953"
             ],
             [
              0.7777777777777778,
              "#fb9f3a"
             ],
             [
              0.8888888888888888,
              "#fdca26"
             ],
             [
              1,
              "#f0f921"
             ]
            ],
            "type": "histogram2d"
           }
          ],
          "histogram2dcontour": [
           {
            "colorbar": {
             "outlinewidth": 0,
             "ticks": ""
            },
            "colorscale": [
             [
              0,
              "#0d0887"
             ],
             [
              0.1111111111111111,
              "#46039f"
             ],
             [
              0.2222222222222222,
              "#7201a8"
             ],
             [
              0.3333333333333333,
              "#9c179e"
             ],
             [
              0.4444444444444444,
              "#bd3786"
             ],
             [
              0.5555555555555556,
              "#d8576b"
             ],
             [
              0.6666666666666666,
              "#ed7953"
             ],
             [
              0.7777777777777778,
              "#fb9f3a"
             ],
             [
              0.8888888888888888,
              "#fdca26"
             ],
             [
              1,
              "#f0f921"
             ]
            ],
            "type": "histogram2dcontour"
           }
          ],
          "mesh3d": [
           {
            "colorbar": {
             "outlinewidth": 0,
             "ticks": ""
            },
            "type": "mesh3d"
           }
          ],
          "parcoords": [
           {
            "line": {
             "colorbar": {
              "outlinewidth": 0,
              "ticks": ""
             }
            },
            "type": "parcoords"
           }
          ],
          "pie": [
           {
            "automargin": true,
            "type": "pie"
           }
          ],
          "scatter": [
           {
            "fillpattern": {
             "fillmode": "overlay",
             "size": 10,
             "solidity": 0.2
            },
            "type": "scatter"
           }
          ],
          "scatter3d": [
           {
            "line": {
             "colorbar": {
              "outlinewidth": 0,
              "ticks": ""
             }
            },
            "marker": {
             "colorbar": {
              "outlinewidth": 0,
              "ticks": ""
             }
            },
            "type": "scatter3d"
           }
          ],
          "scattercarpet": [
           {
            "marker": {
             "colorbar": {
              "outlinewidth": 0,
              "ticks": ""
             }
            },
            "type": "scattercarpet"
           }
          ],
          "scattergeo": [
           {
            "marker": {
             "colorbar": {
              "outlinewidth": 0,
              "ticks": ""
             }
            },
            "type": "scattergeo"
           }
          ],
          "scattergl": [
           {
            "marker": {
             "colorbar": {
              "outlinewidth": 0,
              "ticks": ""
             }
            },
            "type": "scattergl"
           }
          ],
          "scattermapbox": [
           {
            "marker": {
             "colorbar": {
              "outlinewidth": 0,
              "ticks": ""
             }
            },
            "type": "scattermapbox"
           }
          ],
          "scatterpolar": [
           {
            "marker": {
             "colorbar": {
              "outlinewidth": 0,
              "ticks": ""
             }
            },
            "type": "scatterpolar"
           }
          ],
          "scatterpolargl": [
           {
            "marker": {
             "colorbar": {
              "outlinewidth": 0,
              "ticks": ""
             }
            },
            "type": "scatterpolargl"
           }
          ],
          "scatterternary": [
           {
            "marker": {
             "colorbar": {
              "outlinewidth": 0,
              "ticks": ""
             }
            },
            "type": "scatterternary"
           }
          ],
          "surface": [
           {
            "colorbar": {
             "outlinewidth": 0,
             "ticks": ""
            },
            "colorscale": [
             [
              0,
              "#0d0887"
             ],
             [
              0.1111111111111111,
              "#46039f"
             ],
             [
              0.2222222222222222,
              "#7201a8"
             ],
             [
              0.3333333333333333,
              "#9c179e"
             ],
             [
              0.4444444444444444,
              "#bd3786"
             ],
             [
              0.5555555555555556,
              "#d8576b"
             ],
             [
              0.6666666666666666,
              "#ed7953"
             ],
             [
              0.7777777777777778,
              "#fb9f3a"
             ],
             [
              0.8888888888888888,
              "#fdca26"
             ],
             [
              1,
              "#f0f921"
             ]
            ],
            "type": "surface"
           }
          ],
          "table": [
           {
            "cells": {
             "fill": {
              "color": "#EBF0F8"
             },
             "line": {
              "color": "white"
             }
            },
            "header": {
             "fill": {
              "color": "#C8D4E3"
             },
             "line": {
              "color": "white"
             }
            },
            "type": "table"
           }
          ]
         },
         "layout": {
          "annotationdefaults": {
           "arrowcolor": "#2a3f5f",
           "arrowhead": 0,
           "arrowwidth": 1
          },
          "autotypenumbers": "strict",
          "coloraxis": {
           "colorbar": {
            "outlinewidth": 0,
            "ticks": ""
           }
          },
          "colorscale": {
           "diverging": [
            [
             0,
             "#8e0152"
            ],
            [
             0.1,
             "#c51b7d"
            ],
            [
             0.2,
             "#de77ae"
            ],
            [
             0.3,
             "#f1b6da"
            ],
            [
             0.4,
             "#fde0ef"
            ],
            [
             0.5,
             "#f7f7f7"
            ],
            [
             0.6,
             "#e6f5d0"
            ],
            [
             0.7,
             "#b8e186"
            ],
            [
             0.8,
             "#7fbc41"
            ],
            [
             0.9,
             "#4d9221"
            ],
            [
             1,
             "#276419"
            ]
           ],
           "sequential": [
            [
             0,
             "#0d0887"
            ],
            [
             0.1111111111111111,
             "#46039f"
            ],
            [
             0.2222222222222222,
             "#7201a8"
            ],
            [
             0.3333333333333333,
             "#9c179e"
            ],
            [
             0.4444444444444444,
             "#bd3786"
            ],
            [
             0.5555555555555556,
             "#d8576b"
            ],
            [
             0.6666666666666666,
             "#ed7953"
            ],
            [
             0.7777777777777778,
             "#fb9f3a"
            ],
            [
             0.8888888888888888,
             "#fdca26"
            ],
            [
             1,
             "#f0f921"
            ]
           ],
           "sequentialminus": [
            [
             0,
             "#0d0887"
            ],
            [
             0.1111111111111111,
             "#46039f"
            ],
            [
             0.2222222222222222,
             "#7201a8"
            ],
            [
             0.3333333333333333,
             "#9c179e"
            ],
            [
             0.4444444444444444,
             "#bd3786"
            ],
            [
             0.5555555555555556,
             "#d8576b"
            ],
            [
             0.6666666666666666,
             "#ed7953"
            ],
            [
             0.7777777777777778,
             "#fb9f3a"
            ],
            [
             0.8888888888888888,
             "#fdca26"
            ],
            [
             1,
             "#f0f921"
            ]
           ]
          },
          "colorway": [
           "#636efa",
           "#EF553B",
           "#00cc96",
           "#ab63fa",
           "#FFA15A",
           "#19d3f3",
           "#FF6692",
           "#B6E880",
           "#FF97FF",
           "#FECB52"
          ],
          "font": {
           "color": "#2a3f5f"
          },
          "geo": {
           "bgcolor": "white",
           "lakecolor": "white",
           "landcolor": "#E5ECF6",
           "showlakes": true,
           "showland": true,
           "subunitcolor": "white"
          },
          "hoverlabel": {
           "align": "left"
          },
          "hovermode": "closest",
          "mapbox": {
           "style": "light"
          },
          "paper_bgcolor": "white",
          "plot_bgcolor": "#E5ECF6",
          "polar": {
           "angularaxis": {
            "gridcolor": "white",
            "linecolor": "white",
            "ticks": ""
           },
           "bgcolor": "#E5ECF6",
           "radialaxis": {
            "gridcolor": "white",
            "linecolor": "white",
            "ticks": ""
           }
          },
          "scene": {
           "xaxis": {
            "backgroundcolor": "#E5ECF6",
            "gridcolor": "white",
            "gridwidth": 2,
            "linecolor": "white",
            "showbackground": true,
            "ticks": "",
            "zerolinecolor": "white"
           },
           "yaxis": {
            "backgroundcolor": "#E5ECF6",
            "gridcolor": "white",
            "gridwidth": 2,
            "linecolor": "white",
            "showbackground": true,
            "ticks": "",
            "zerolinecolor": "white"
           },
           "zaxis": {
            "backgroundcolor": "#E5ECF6",
            "gridcolor": "white",
            "gridwidth": 2,
            "linecolor": "white",
            "showbackground": true,
            "ticks": "",
            "zerolinecolor": "white"
           }
          },
          "shapedefaults": {
           "line": {
            "color": "#2a3f5f"
           }
          },
          "ternary": {
           "aaxis": {
            "gridcolor": "white",
            "linecolor": "white",
            "ticks": ""
           },
           "baxis": {
            "gridcolor": "white",
            "linecolor": "white",
            "ticks": ""
           },
           "bgcolor": "#E5ECF6",
           "caxis": {
            "gridcolor": "white",
            "linecolor": "white",
            "ticks": ""
           }
          },
          "title": {
           "x": 0.05
          },
          "xaxis": {
           "automargin": true,
           "gridcolor": "white",
           "linecolor": "white",
           "ticks": "",
           "title": {
            "standoff": 15
           },
           "zerolinecolor": "white",
           "zerolinewidth": 2
          },
          "yaxis": {
           "automargin": true,
           "gridcolor": "white",
           "linecolor": "white",
           "ticks": "",
           "title": {
            "standoff": 15
           },
           "zerolinecolor": "white",
           "zerolinewidth": 2
          }
         }
        }
       }
      }
     },
     "metadata": {},
     "output_type": "display_data"
    }
   ],
   "source": [
    "txs_by_class = merge_feats_class.groupby('class').count()\n",
    "txs_by_class\n",
    "_x = [\"Illicit\", \"Licit\", \"Unknown\"]\n",
    "\n",
    "d = {\n",
    "    \"Illicit\":'blue',\n",
    "    \"Licit\": 'red',\n",
    "    \"Unknown\":'yellow'\n",
    "}\n",
    "\n",
    "merge_feats_class['class'].value_counts()\n",
    "\n",
    "#plt.bar(['Ilicit', 'Licit', 'Unknown'], txs_by_class['txId'].values, color=['blue', 'red', 'yellow'] )\n",
    "data = [go.Bar(x=_x,\n",
    "            y=txs_by_class['txId'].values)]\n",
    "\n",
    "plotly.offline.iplot(data, filename='jupyter-txs_per_class')\n"
   ]
  },
  {
   "cell_type": "code",
   "execution_count": 4,
   "metadata": {},
   "outputs": [
    {
     "name": "stdout",
     "output_type": "stream",
     "text": [
      "               txId     Time step  Local_feature_1  Local_feature_2  \\\n",
      "count  4.150000e+04  41500.000000     41500.000000     41500.000000   \n",
      "mean   1.715688e+08     24.468602        -0.039009         0.180928   \n",
      "std    1.101834e+08     15.526605         0.742949         1.563702   \n",
      "min    2.534000e+03      1.000000        -0.172982        -0.210553   \n",
      "25%    8.500541e+07      8.000000        -0.172664        -0.169302   \n",
      "50%    1.585747e+08     24.000000        -0.169944        -0.107012   \n",
      "75%    2.454261e+08     40.000000        -0.132140         0.021241   \n",
      "max    4.031232e+08     49.000000        39.786756        69.469535   \n",
      "\n",
      "       Local_feature_3  Local_feature_4  Local_feature_5  Local_feature_6  \\\n",
      "count     41500.000000     41500.000000     41500.000000     41500.000000   \n",
      "mean          0.138691         0.193141         0.038930         0.204183   \n",
      "std           1.066700         1.622307         1.831936         1.592211   \n",
      "min          -1.756361        -0.121970        -0.063725        -0.113002   \n",
      "25%          -1.201369        -0.121970        -0.043875        -0.113002   \n",
      "50%           0.463609        -0.046932        -0.043875        -0.113002   \n",
      "75%           1.018602         0.028105        -0.043875         0.054722   \n",
      "max           2.683580        49.027598       260.090707        54.565178   \n",
      "\n",
      "       Local_feature_7  Local_feature_8  ...    in_BTC_max   in_BTC_mean  \\\n",
      "count     41500.000000     41500.000000  ...  41500.000000  41500.000000   \n",
      "mean         -0.009941        -0.067962  ...     19.232069     16.077112   \n",
      "std           0.611288         0.622901  ...    111.011582     97.705588   \n",
      "min          -0.061584        -0.163646  ...      0.000129      0.000109   \n",
      "25%          -0.061584        -0.163621  ...      0.037460      0.026223   \n",
      "50%          -0.061584        -0.163435  ...      0.371023      0.202709   \n",
      "75%          -0.061584        -0.157300  ...      5.000000      2.584109   \n",
      "max          44.365651        40.721063  ...   6335.202183   6335.202183   \n",
      "\n",
      "       in_BTC_median  in_BTC_total   out_BTC_min   out_BTC_max  out_BTC_mean  \\\n",
      "count   41500.000000  41500.000000  41500.000000  41500.000000  41500.000000   \n",
      "mean       15.800822     21.241678      1.299291     19.559865      6.727923   \n",
      "std        97.656907    117.787238     21.299594    110.685152     33.235243   \n",
      "min         0.000018      0.000169      0.000000      0.000027      0.000014   \n",
      "25%         0.015916      0.052608      0.001778      0.040000      0.023203   \n",
      "50%         0.125710      0.482399      0.010377      0.370000      0.188453   \n",
      "75%         2.000000      6.477151      0.087597      5.300000      2.441071   \n",
      "max      6335.202183   6335.202183   2010.466695   6292.795766   2010.466695   \n",
      "\n",
      "       out_BTC_median  out_BTC_total    class  \n",
      "count    41500.000000   41500.000000  41500.0  \n",
      "mean         5.989511      21.240166      2.0  \n",
      "std         32.168479     117.786807      0.0  \n",
      "min          0.000012       0.000027      2.0  \n",
      "25%          0.015609       0.050568      2.0  \n",
      "50%          0.119571       0.481791      2.0  \n",
      "75%          1.355962       6.475154      2.0  \n",
      "max       2010.466695    6335.201666      2.0  \n",
      "\n",
      "[8 rows x 185 columns]\n",
      "               txId    Time step  Local_feature_1  Local_feature_2  \\\n",
      "count  4.545000e+03  4545.000000      4545.000000      4545.000000   \n",
      "mean   2.019776e+08    25.078768        -0.165745        -0.030698   \n",
      "std    1.169372e+08    11.357543         0.025423         1.410232   \n",
      "min    1.879066e+06     1.000000        -0.172979        -0.200199   \n",
      "25%    9.465426e+07    15.000000        -0.172739        -0.158783   \n",
      "50%    2.059217e+08    25.000000        -0.172205        -0.150103   \n",
      "75%    3.103970e+08    33.000000        -0.170061        -0.107012   \n",
      "max    4.029113e+08    49.000000         0.544156        73.595052   \n",
      "\n",
      "       Local_feature_3  Local_feature_4  Local_feature_5  Local_feature_6  \\\n",
      "count      4545.000000      4545.000000      4545.000000      4545.000000   \n",
      "mean          0.212061         0.010803        -0.056724         0.033743   \n",
      "std           1.052829         1.478979         0.009747         1.642366   \n",
      "min          -1.201369        -0.121970        -0.063725        -0.113002   \n",
      "25%          -1.201369        -0.121970        -0.063725        -0.113002   \n",
      "50%           1.018602        -0.121970        -0.063725        -0.113002   \n",
      "75%           1.018602        -0.121970        -0.043875        -0.113002   \n",
      "max           2.683580        37.321747         0.095076        41.734255   \n",
      "\n",
      "       Local_feature_7  Local_feature_8  ...   in_BTC_max  in_BTC_mean  \\\n",
      "count      4545.000000      4545.000000  ...  4545.000000  4545.000000   \n",
      "mean         -0.059910        -0.157009  ...     1.073702     1.045645   \n",
      "std           0.029554         0.023243  ...     3.639389     3.608136   \n",
      "min          -0.061584        -0.163646  ...     0.001011     0.001011   \n",
      "25%          -0.061584        -0.163488  ...     0.035088     0.031379   \n",
      "50%          -0.061584        -0.163012  ...     0.115000     0.107415   \n",
      "75%          -0.061584        -0.161252  ...     0.430000     0.400000   \n",
      "max           1.155601         0.570094  ...   113.695106   113.695106   \n",
      "\n",
      "       in_BTC_median  in_BTC_total  out_BTC_min  out_BTC_max  out_BTC_mean  \\\n",
      "count    4545.000000   4545.000000  4545.000000  4545.000000   4545.000000   \n",
      "mean        1.042202      1.148121     0.195815     1.104376      0.648984   \n",
      "std         3.607401      4.030745     0.573378     3.867800      1.995765   \n",
      "min         0.000100      0.001011     0.000087     0.000611      0.000611   \n",
      "25%         0.030000      0.039059     0.011066     0.036188      0.032110   \n",
      "50%         0.105948      0.123566     0.048085     0.117405      0.102050   \n",
      "75%         0.392100      0.463505     0.169825     0.432144      0.369250   \n",
      "max       113.695106    113.695106    17.000000   111.852842     56.847447   \n",
      "\n",
      "       out_BTC_median  out_BTC_total   class  \n",
      "count     4545.000000    4545.000000  4545.0  \n",
      "mean         0.647219       1.147426     1.0  \n",
      "std          1.978643       4.030536     0.0  \n",
      "min          0.000611       0.000611     1.0  \n",
      "25%          0.032110       0.038694     1.0  \n",
      "50%          0.101757       0.123366     1.0  \n",
      "75%          0.369116       0.463218     1.0  \n",
      "max         56.847447     113.694893     1.0  \n",
      "\n",
      "[8 rows x 185 columns]\n"
     ]
    }
   ],
   "source": [
    "illicit_df = merge_feats_class.loc[merge_feats_class['class'] == 1]\n",
    "llicit_df = merge_feats_class.loc[merge_feats_class['class'] == 2]\n",
    "unknown_df = merge_feats_class.loc[merge_feats_class['class'] == 3]\n",
    "\n",
    "print(llicit_df.describe())\n",
    "print(illicit_df.describe())\n"
   ]
  },
  {
   "cell_type": "code",
   "execution_count": 5,
   "metadata": {},
   "outputs": [
    {
     "name": "stdout",
     "output_type": "stream",
     "text": [
      "['Local_feature_1', 'Local_feature_42', 'Local_feature_46', 'Local_feature_48', 'Local_feature_51', 'Local_feature_52', 'Local_feature_54', 'Local_feature_58', 'Local_feature_60', 'Local_feature_64', 'Local_feature_66', 'Local_feature_76', 'Local_feature_78', 'Local_feature_88', 'total_BTC']\n"
     ]
    },
    {
     "data": {
      "text/html": [
       "<div>\n",
       "<style scoped>\n",
       "    .dataframe tbody tr th:only-of-type {\n",
       "        vertical-align: middle;\n",
       "    }\n",
       "\n",
       "    .dataframe tbody tr th {\n",
       "        vertical-align: top;\n",
       "    }\n",
       "\n",
       "    .dataframe thead th {\n",
       "        text-align: right;\n",
       "    }\n",
       "</style>\n",
       "<table border=\"1\" class=\"dataframe\">\n",
       "  <thead>\n",
       "    <tr style=\"text-align: right;\">\n",
       "      <th></th>\n",
       "      <th>Local_feature_1</th>\n",
       "      <th>Local_feature_42</th>\n",
       "      <th>Local_feature_46</th>\n",
       "      <th>Local_feature_48</th>\n",
       "      <th>Local_feature_51</th>\n",
       "      <th>Local_feature_52</th>\n",
       "      <th>Local_feature_54</th>\n",
       "      <th>Local_feature_58</th>\n",
       "      <th>Local_feature_60</th>\n",
       "      <th>Local_feature_64</th>\n",
       "      <th>Local_feature_66</th>\n",
       "      <th>Local_feature_76</th>\n",
       "      <th>Local_feature_78</th>\n",
       "      <th>Local_feature_88</th>\n",
       "      <th>total_BTC</th>\n",
       "    </tr>\n",
       "  </thead>\n",
       "  <tbody>\n",
       "    <tr>\n",
       "      <th>count</th>\n",
       "      <td>4287.000000</td>\n",
       "      <td>4287.000000</td>\n",
       "      <td>4287.000000</td>\n",
       "      <td>4287.000000</td>\n",
       "      <td>4287.000000</td>\n",
       "      <td>4287.000000</td>\n",
       "      <td>4287.000000</td>\n",
       "      <td>4287.000000</td>\n",
       "      <td>4287.000000</td>\n",
       "      <td>4287.000000</td>\n",
       "      <td>4287.000000</td>\n",
       "      <td>4287.000000</td>\n",
       "      <td>4287.000000</td>\n",
       "      <td>4287.000000</td>\n",
       "      <td>4287.000000</td>\n",
       "    </tr>\n",
       "    <tr>\n",
       "      <th>mean</th>\n",
       "      <td>-0.124447</td>\n",
       "      <td>-0.060680</td>\n",
       "      <td>0.139327</td>\n",
       "      <td>-0.080535</td>\n",
       "      <td>-0.017636</td>\n",
       "      <td>0.006499</td>\n",
       "      <td>-0.059368</td>\n",
       "      <td>-0.008526</td>\n",
       "      <td>-0.133888</td>\n",
       "      <td>-0.008522</td>\n",
       "      <td>-0.133879</td>\n",
       "      <td>0.041525</td>\n",
       "      <td>0.082117</td>\n",
       "      <td>0.136832</td>\n",
       "      <td>7.694795</td>\n",
       "    </tr>\n",
       "    <tr>\n",
       "      <th>std</th>\n",
       "      <td>0.172430</td>\n",
       "      <td>0.404885</td>\n",
       "      <td>1.103075</td>\n",
       "      <td>0.513906</td>\n",
       "      <td>0.921356</td>\n",
       "      <td>0.961409</td>\n",
       "      <td>0.699984</td>\n",
       "      <td>0.288060</td>\n",
       "      <td>0.219928</td>\n",
       "      <td>0.288069</td>\n",
       "      <td>0.219924</td>\n",
       "      <td>1.034889</td>\n",
       "      <td>0.974949</td>\n",
       "      <td>1.284322</td>\n",
       "      <td>27.336919</td>\n",
       "    </tr>\n",
       "    <tr>\n",
       "      <th>min</th>\n",
       "      <td>-0.172983</td>\n",
       "      <td>-0.075256</td>\n",
       "      <td>-0.227203</td>\n",
       "      <td>-0.097895</td>\n",
       "      <td>-3.745387</td>\n",
       "      <td>-0.414036</td>\n",
       "      <td>-0.232553</td>\n",
       "      <td>-0.039151</td>\n",
       "      <td>-0.163126</td>\n",
       "      <td>-0.039146</td>\n",
       "      <td>-0.163115</td>\n",
       "      <td>-0.095403</td>\n",
       "      <td>-0.250574</td>\n",
       "      <td>-0.293905</td>\n",
       "      <td>0.000024</td>\n",
       "    </tr>\n",
       "    <tr>\n",
       "      <th>25%</th>\n",
       "      <td>-0.172600</td>\n",
       "      <td>-0.075256</td>\n",
       "      <td>-0.227203</td>\n",
       "      <td>-0.097895</td>\n",
       "      <td>0.042345</td>\n",
       "      <td>-0.414003</td>\n",
       "      <td>-0.232553</td>\n",
       "      <td>-0.039151</td>\n",
       "      <td>-0.163126</td>\n",
       "      <td>-0.039146</td>\n",
       "      <td>-0.163115</td>\n",
       "      <td>-0.095403</td>\n",
       "      <td>-0.250574</td>\n",
       "      <td>-0.293848</td>\n",
       "      <td>0.060598</td>\n",
       "    </tr>\n",
       "    <tr>\n",
       "      <th>50%</th>\n",
       "      <td>-0.170397</td>\n",
       "      <td>-0.075256</td>\n",
       "      <td>-0.227203</td>\n",
       "      <td>-0.097895</td>\n",
       "      <td>0.042345</td>\n",
       "      <td>-0.413883</td>\n",
       "      <td>-0.232553</td>\n",
       "      <td>-0.039150</td>\n",
       "      <td>-0.163122</td>\n",
       "      <td>-0.039145</td>\n",
       "      <td>-0.163111</td>\n",
       "      <td>-0.095403</td>\n",
       "      <td>-0.250540</td>\n",
       "      <td>-0.293732</td>\n",
       "      <td>0.409876</td>\n",
       "    </tr>\n",
       "    <tr>\n",
       "      <th>75%</th>\n",
       "      <td>-0.149563</td>\n",
       "      <td>-0.075256</td>\n",
       "      <td>-0.226199</td>\n",
       "      <td>-0.097895</td>\n",
       "      <td>0.042345</td>\n",
       "      <td>-0.192723</td>\n",
       "      <td>-0.232553</td>\n",
       "      <td>-0.039136</td>\n",
       "      <td>-0.162944</td>\n",
       "      <td>-0.039131</td>\n",
       "      <td>-0.162933</td>\n",
       "      <td>-0.094506</td>\n",
       "      <td>-0.243493</td>\n",
       "      <td>-0.207635</td>\n",
       "      <td>3.712957</td>\n",
       "    </tr>\n",
       "    <tr>\n",
       "      <th>max</th>\n",
       "      <td>2.618428</td>\n",
       "      <td>25.332272</td>\n",
       "      <td>9.081401</td>\n",
       "      <td>31.951632</td>\n",
       "      <td>3.830078</td>\n",
       "      <td>6.774753</td>\n",
       "      <td>8.076359</td>\n",
       "      <td>8.301668</td>\n",
       "      <td>4.952576</td>\n",
       "      <td>8.303391</td>\n",
       "      <td>4.952638</td>\n",
       "      <td>25.820300</td>\n",
       "      <td>8.315241</td>\n",
       "      <td>8.933291</td>\n",
       "      <td>442.549141</td>\n",
       "    </tr>\n",
       "  </tbody>\n",
       "</table>\n",
       "</div>"
      ],
      "text/plain": [
       "       Local_feature_1  Local_feature_42  Local_feature_46  Local_feature_48  \\\n",
       "count      4287.000000       4287.000000       4287.000000       4287.000000   \n",
       "mean         -0.124447         -0.060680          0.139327         -0.080535   \n",
       "std           0.172430          0.404885          1.103075          0.513906   \n",
       "min          -0.172983         -0.075256         -0.227203         -0.097895   \n",
       "25%          -0.172600         -0.075256         -0.227203         -0.097895   \n",
       "50%          -0.170397         -0.075256         -0.227203         -0.097895   \n",
       "75%          -0.149563         -0.075256         -0.226199         -0.097895   \n",
       "max           2.618428         25.332272          9.081401         31.951632   \n",
       "\n",
       "       Local_feature_51  Local_feature_52  Local_feature_54  Local_feature_58  \\\n",
       "count       4287.000000       4287.000000       4287.000000       4287.000000   \n",
       "mean          -0.017636          0.006499         -0.059368         -0.008526   \n",
       "std            0.921356          0.961409          0.699984          0.288060   \n",
       "min           -3.745387         -0.414036         -0.232553         -0.039151   \n",
       "25%            0.042345         -0.414003         -0.232553         -0.039151   \n",
       "50%            0.042345         -0.413883         -0.232553         -0.039150   \n",
       "75%            0.042345         -0.192723         -0.232553         -0.039136   \n",
       "max            3.830078          6.774753          8.076359          8.301668   \n",
       "\n",
       "       Local_feature_60  Local_feature_64  Local_feature_66  Local_feature_76  \\\n",
       "count       4287.000000       4287.000000       4287.000000       4287.000000   \n",
       "mean          -0.133888         -0.008522         -0.133879          0.041525   \n",
       "std            0.219928          0.288069          0.219924          1.034889   \n",
       "min           -0.163126         -0.039146         -0.163115         -0.095403   \n",
       "25%           -0.163126         -0.039146         -0.163115         -0.095403   \n",
       "50%           -0.163122         -0.039145         -0.163111         -0.095403   \n",
       "75%           -0.162944         -0.039131         -0.162933         -0.094506   \n",
       "max            4.952576          8.303391          4.952638         25.820300   \n",
       "\n",
       "       Local_feature_78  Local_feature_88    total_BTC  \n",
       "count       4287.000000       4287.000000  4287.000000  \n",
       "mean           0.082117          0.136832     7.694795  \n",
       "std            0.974949          1.284322    27.336919  \n",
       "min           -0.250574         -0.293905     0.000024  \n",
       "25%           -0.250574         -0.293848     0.060598  \n",
       "50%           -0.250540         -0.293732     0.409876  \n",
       "75%           -0.243493         -0.207635     3.712957  \n",
       "max            8.315241          8.933291   442.549141  "
      ]
     },
     "execution_count": 5,
     "metadata": {},
     "output_type": "execute_result"
    }
   ],
   "source": [
    "from sklearn.feature_selection import SelectKBest, chi2, mutual_info_classif, f_classif\n",
    "selector = SelectKBest(mutual_info_classif, k=15)\n",
    "timestep_dataframe = merge_feats_class.loc[merge_feats_class['Time step'] == 20].reset_index(drop=True)\n",
    "\n",
    "selector.fit(timestep_dataframe.drop([\"class\", \"txId\"], axis=1), timestep_dataframe[\"class\"])\n",
    "# Get columns to keep and create new dataframe with those only\n",
    "cols_idxs = selector.get_support(indices=True)\n",
    "timestep_dataframe_kfeats = timestep_dataframe.iloc[:,cols_idxs]\n",
    "\n",
    "print(list(timestep_dataframe_kfeats.columns))\n",
    "timestep_dataframe_kfeats.describe()"
   ]
  }
 ],
 "metadata": {
  "kernelspec": {
   "display_name": "venv",
   "language": "python",
   "name": "python3"
  },
  "language_info": {
   "codemirror_mode": {
    "name": "ipython",
    "version": 3
   },
   "file_extension": ".py",
   "mimetype": "text/x-python",
   "name": "python",
   "nbconvert_exporter": "python",
   "pygments_lexer": "ipython3",
   "version": "3.10.11"
  }
 },
 "nbformat": 4,
 "nbformat_minor": 2
}
