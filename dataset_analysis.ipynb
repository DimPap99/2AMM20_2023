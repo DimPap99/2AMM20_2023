{
 "cells": [
  {
   "cell_type": "markdown",
   "metadata": {},
   "source": [
    "Merge the three different datasets based on the txId in order to have the features, class and neighbor for each transaction in one dataframe."
   ]
  },
  {
   "cell_type": "code",
   "execution_count": 1,
   "metadata": {},
   "outputs": [
    {
     "data": {
      "text/html": [
       "<div>\n",
       "<style scoped>\n",
       "    .dataframe tbody tr th:only-of-type {\n",
       "        vertical-align: middle;\n",
       "    }\n",
       "\n",
       "    .dataframe tbody tr th {\n",
       "        vertical-align: top;\n",
       "    }\n",
       "\n",
       "    .dataframe thead th {\n",
       "        text-align: right;\n",
       "    }\n",
       "</style>\n",
       "<table border=\"1\" class=\"dataframe\">\n",
       "  <thead>\n",
       "    <tr style=\"text-align: right;\">\n",
       "      <th></th>\n",
       "      <th>txId</th>\n",
       "      <th>Time step</th>\n",
       "      <th>Local_feature_1</th>\n",
       "      <th>Local_feature_2</th>\n",
       "      <th>Local_feature_3</th>\n",
       "      <th>Local_feature_4</th>\n",
       "      <th>Local_feature_5</th>\n",
       "      <th>Local_feature_6</th>\n",
       "      <th>Local_feature_7</th>\n",
       "      <th>Local_feature_8</th>\n",
       "      <th>...</th>\n",
       "      <th>in_BTC_max</th>\n",
       "      <th>in_BTC_mean</th>\n",
       "      <th>in_BTC_median</th>\n",
       "      <th>in_BTC_total</th>\n",
       "      <th>out_BTC_min</th>\n",
       "      <th>out_BTC_max</th>\n",
       "      <th>out_BTC_mean</th>\n",
       "      <th>out_BTC_median</th>\n",
       "      <th>out_BTC_total</th>\n",
       "      <th>class</th>\n",
       "    </tr>\n",
       "  </thead>\n",
       "  <tbody>\n",
       "    <tr>\n",
       "      <th>0</th>\n",
       "      <td>3321</td>\n",
       "      <td>1</td>\n",
       "      <td>-0.169615</td>\n",
       "      <td>-0.184668</td>\n",
       "      <td>-1.201369</td>\n",
       "      <td>-0.121970</td>\n",
       "      <td>-0.043875</td>\n",
       "      <td>-0.113002</td>\n",
       "      <td>-0.061584</td>\n",
       "      <td>-0.160199</td>\n",
       "      <td>...</td>\n",
       "      <td>0.534072</td>\n",
       "      <td>0.534072</td>\n",
       "      <td>0.534072</td>\n",
       "      <td>0.534072</td>\n",
       "      <td>1.668990e-01</td>\n",
       "      <td>0.367074</td>\n",
       "      <td>0.266986</td>\n",
       "      <td>0.266986</td>\n",
       "      <td>0.533972</td>\n",
       "      <td>3</td>\n",
       "    </tr>\n",
       "    <tr>\n",
       "      <th>1</th>\n",
       "      <td>11108</td>\n",
       "      <td>1</td>\n",
       "      <td>-0.137586</td>\n",
       "      <td>-0.184668</td>\n",
       "      <td>-1.201369</td>\n",
       "      <td>-0.121970</td>\n",
       "      <td>-0.043875</td>\n",
       "      <td>-0.113002</td>\n",
       "      <td>-0.061584</td>\n",
       "      <td>-0.127429</td>\n",
       "      <td>...</td>\n",
       "      <td>5.611878</td>\n",
       "      <td>5.611878</td>\n",
       "      <td>5.611878</td>\n",
       "      <td>5.611878</td>\n",
       "      <td>5.861940e-01</td>\n",
       "      <td>5.025584</td>\n",
       "      <td>2.805889</td>\n",
       "      <td>2.805889</td>\n",
       "      <td>5.611778</td>\n",
       "      <td>3</td>\n",
       "    </tr>\n",
       "    <tr>\n",
       "      <th>2</th>\n",
       "      <td>51816</td>\n",
       "      <td>1</td>\n",
       "      <td>-0.170103</td>\n",
       "      <td>-0.184668</td>\n",
       "      <td>-1.201369</td>\n",
       "      <td>-0.121970</td>\n",
       "      <td>-0.043875</td>\n",
       "      <td>-0.113002</td>\n",
       "      <td>-0.061584</td>\n",
       "      <td>-0.160699</td>\n",
       "      <td>...</td>\n",
       "      <td>0.456608</td>\n",
       "      <td>0.456608</td>\n",
       "      <td>0.456608</td>\n",
       "      <td>0.456608</td>\n",
       "      <td>2.279902e-01</td>\n",
       "      <td>0.228518</td>\n",
       "      <td>0.228254</td>\n",
       "      <td>0.228254</td>\n",
       "      <td>0.456508</td>\n",
       "      <td>3</td>\n",
       "    </tr>\n",
       "    <tr>\n",
       "      <th>3</th>\n",
       "      <td>68869</td>\n",
       "      <td>1</td>\n",
       "      <td>-0.114267</td>\n",
       "      <td>-0.184668</td>\n",
       "      <td>-1.201369</td>\n",
       "      <td>0.028105</td>\n",
       "      <td>-0.043875</td>\n",
       "      <td>-0.113002</td>\n",
       "      <td>0.547008</td>\n",
       "      <td>-0.161652</td>\n",
       "      <td>...</td>\n",
       "      <td>8.000000</td>\n",
       "      <td>3.102967</td>\n",
       "      <td>1.000000</td>\n",
       "      <td>9.308900</td>\n",
       "      <td>1.229000e+00</td>\n",
       "      <td>8.079800</td>\n",
       "      <td>4.654400</td>\n",
       "      <td>4.654400</td>\n",
       "      <td>9.308800</td>\n",
       "      <td>2</td>\n",
       "    </tr>\n",
       "    <tr>\n",
       "      <th>4</th>\n",
       "      <td>89273</td>\n",
       "      <td>1</td>\n",
       "      <td>5.202107</td>\n",
       "      <td>-0.210553</td>\n",
       "      <td>-1.756361</td>\n",
       "      <td>-0.121970</td>\n",
       "      <td>260.090707</td>\n",
       "      <td>-0.113002</td>\n",
       "      <td>-0.061584</td>\n",
       "      <td>5.335864</td>\n",
       "      <td>...</td>\n",
       "      <td>852.164680</td>\n",
       "      <td>852.164680</td>\n",
       "      <td>852.164680</td>\n",
       "      <td>852.164680</td>\n",
       "      <td>1.300000e-07</td>\n",
       "      <td>41.264036</td>\n",
       "      <td>0.065016</td>\n",
       "      <td>0.000441</td>\n",
       "      <td>852.164680</td>\n",
       "      <td>2</td>\n",
       "    </tr>\n",
       "    <tr>\n",
       "      <th>...</th>\n",
       "      <td>...</td>\n",
       "      <td>...</td>\n",
       "      <td>...</td>\n",
       "      <td>...</td>\n",
       "      <td>...</td>\n",
       "      <td>...</td>\n",
       "      <td>...</td>\n",
       "      <td>...</td>\n",
       "      <td>...</td>\n",
       "      <td>...</td>\n",
       "      <td>...</td>\n",
       "      <td>...</td>\n",
       "      <td>...</td>\n",
       "      <td>...</td>\n",
       "      <td>...</td>\n",
       "      <td>...</td>\n",
       "      <td>...</td>\n",
       "      <td>...</td>\n",
       "      <td>...</td>\n",
       "      <td>...</td>\n",
       "      <td>...</td>\n",
       "    </tr>\n",
       "    <tr>\n",
       "      <th>202799</th>\n",
       "      <td>194747812</td>\n",
       "      <td>49</td>\n",
       "      <td>0.558398</td>\n",
       "      <td>-0.198956</td>\n",
       "      <td>-0.091383</td>\n",
       "      <td>-0.121970</td>\n",
       "      <td>-0.043875</td>\n",
       "      <td>-0.113002</td>\n",
       "      <td>-0.061584</td>\n",
       "      <td>0.584665</td>\n",
       "      <td>...</td>\n",
       "      <td>115.952889</td>\n",
       "      <td>115.952889</td>\n",
       "      <td>115.952889</td>\n",
       "      <td>115.952889</td>\n",
       "      <td>1.653300e+00</td>\n",
       "      <td>114.299544</td>\n",
       "      <td>57.976422</td>\n",
       "      <td>57.976422</td>\n",
       "      <td>115.952844</td>\n",
       "      <td>3</td>\n",
       "    </tr>\n",
       "    <tr>\n",
       "      <th>202800</th>\n",
       "      <td>194747925</td>\n",
       "      <td>49</td>\n",
       "      <td>0.547658</td>\n",
       "      <td>-0.198956</td>\n",
       "      <td>-0.091383</td>\n",
       "      <td>-0.121970</td>\n",
       "      <td>-0.043875</td>\n",
       "      <td>-0.113002</td>\n",
       "      <td>-0.061584</td>\n",
       "      <td>0.573676</td>\n",
       "      <td>...</td>\n",
       "      <td>114.250098</td>\n",
       "      <td>114.250098</td>\n",
       "      <td>114.250098</td>\n",
       "      <td>114.250098</td>\n",
       "      <td>2.035300e-02</td>\n",
       "      <td>114.229700</td>\n",
       "      <td>57.125027</td>\n",
       "      <td>57.125027</td>\n",
       "      <td>114.250053</td>\n",
       "      <td>3</td>\n",
       "    </tr>\n",
       "    <tr>\n",
       "      <th>202801</th>\n",
       "      <td>194748063</td>\n",
       "      <td>49</td>\n",
       "      <td>0.543600</td>\n",
       "      <td>-0.198853</td>\n",
       "      <td>-0.091383</td>\n",
       "      <td>-0.121970</td>\n",
       "      <td>-0.043875</td>\n",
       "      <td>-0.113002</td>\n",
       "      <td>-0.061584</td>\n",
       "      <td>0.569524</td>\n",
       "      <td>...</td>\n",
       "      <td>113.606771</td>\n",
       "      <td>113.606771</td>\n",
       "      <td>113.606771</td>\n",
       "      <td>113.606771</td>\n",
       "      <td>9.257490e-01</td>\n",
       "      <td>112.680977</td>\n",
       "      <td>56.803363</td>\n",
       "      <td>56.803363</td>\n",
       "      <td>113.606726</td>\n",
       "      <td>3</td>\n",
       "    </tr>\n",
       "    <tr>\n",
       "      <th>202802</th>\n",
       "      <td>194748070</td>\n",
       "      <td>49</td>\n",
       "      <td>0.537760</td>\n",
       "      <td>-0.198853</td>\n",
       "      <td>-0.091383</td>\n",
       "      <td>-0.121970</td>\n",
       "      <td>-0.043875</td>\n",
       "      <td>-0.113002</td>\n",
       "      <td>-0.061584</td>\n",
       "      <td>0.563549</td>\n",
       "      <td>...</td>\n",
       "      <td>112.680977</td>\n",
       "      <td>112.680977</td>\n",
       "      <td>112.680977</td>\n",
       "      <td>112.680977</td>\n",
       "      <td>3.026970e-01</td>\n",
       "      <td>112.378235</td>\n",
       "      <td>56.340466</td>\n",
       "      <td>56.340466</td>\n",
       "      <td>112.680932</td>\n",
       "      <td>3</td>\n",
       "    </tr>\n",
       "    <tr>\n",
       "      <th>202803</th>\n",
       "      <td>194835939</td>\n",
       "      <td>49</td>\n",
       "      <td>-0.170463</td>\n",
       "      <td>-0.152788</td>\n",
       "      <td>1.018602</td>\n",
       "      <td>-0.121970</td>\n",
       "      <td>-0.063725</td>\n",
       "      <td>-0.113002</td>\n",
       "      <td>-0.061584</td>\n",
       "      <td>-0.161066</td>\n",
       "      <td>...</td>\n",
       "      <td>0.399769</td>\n",
       "      <td>0.399769</td>\n",
       "      <td>0.399769</td>\n",
       "      <td>0.399769</td>\n",
       "      <td>3.995460e-01</td>\n",
       "      <td>0.399546</td>\n",
       "      <td>0.399546</td>\n",
       "      <td>0.399546</td>\n",
       "      <td>0.399546</td>\n",
       "      <td>3</td>\n",
       "    </tr>\n",
       "  </tbody>\n",
       "</table>\n",
       "<p>202804 rows × 185 columns</p>\n",
       "</div>"
      ],
      "text/plain": [
       "             txId  Time step  Local_feature_1  Local_feature_2  \\\n",
       "0            3321          1        -0.169615        -0.184668   \n",
       "1           11108          1        -0.137586        -0.184668   \n",
       "2           51816          1        -0.170103        -0.184668   \n",
       "3           68869          1        -0.114267        -0.184668   \n",
       "4           89273          1         5.202107        -0.210553   \n",
       "...           ...        ...              ...              ...   \n",
       "202799  194747812         49         0.558398        -0.198956   \n",
       "202800  194747925         49         0.547658        -0.198956   \n",
       "202801  194748063         49         0.543600        -0.198853   \n",
       "202802  194748070         49         0.537760        -0.198853   \n",
       "202803  194835939         49        -0.170463        -0.152788   \n",
       "\n",
       "        Local_feature_3  Local_feature_4  Local_feature_5  Local_feature_6  \\\n",
       "0             -1.201369        -0.121970        -0.043875        -0.113002   \n",
       "1             -1.201369        -0.121970        -0.043875        -0.113002   \n",
       "2             -1.201369        -0.121970        -0.043875        -0.113002   \n",
       "3             -1.201369         0.028105        -0.043875        -0.113002   \n",
       "4             -1.756361        -0.121970       260.090707        -0.113002   \n",
       "...                 ...              ...              ...              ...   \n",
       "202799        -0.091383        -0.121970        -0.043875        -0.113002   \n",
       "202800        -0.091383        -0.121970        -0.043875        -0.113002   \n",
       "202801        -0.091383        -0.121970        -0.043875        -0.113002   \n",
       "202802        -0.091383        -0.121970        -0.043875        -0.113002   \n",
       "202803         1.018602        -0.121970        -0.063725        -0.113002   \n",
       "\n",
       "        Local_feature_7  Local_feature_8  ...  in_BTC_max  in_BTC_mean  \\\n",
       "0             -0.061584        -0.160199  ...    0.534072     0.534072   \n",
       "1             -0.061584        -0.127429  ...    5.611878     5.611878   \n",
       "2             -0.061584        -0.160699  ...    0.456608     0.456608   \n",
       "3              0.547008        -0.161652  ...    8.000000     3.102967   \n",
       "4             -0.061584         5.335864  ...  852.164680   852.164680   \n",
       "...                 ...              ...  ...         ...          ...   \n",
       "202799        -0.061584         0.584665  ...  115.952889   115.952889   \n",
       "202800        -0.061584         0.573676  ...  114.250098   114.250098   \n",
       "202801        -0.061584         0.569524  ...  113.606771   113.606771   \n",
       "202802        -0.061584         0.563549  ...  112.680977   112.680977   \n",
       "202803        -0.061584        -0.161066  ...    0.399769     0.399769   \n",
       "\n",
       "        in_BTC_median  in_BTC_total   out_BTC_min  out_BTC_max  out_BTC_mean  \\\n",
       "0            0.534072      0.534072  1.668990e-01     0.367074      0.266986   \n",
       "1            5.611878      5.611878  5.861940e-01     5.025584      2.805889   \n",
       "2            0.456608      0.456608  2.279902e-01     0.228518      0.228254   \n",
       "3            1.000000      9.308900  1.229000e+00     8.079800      4.654400   \n",
       "4          852.164680    852.164680  1.300000e-07    41.264036      0.065016   \n",
       "...               ...           ...           ...          ...           ...   \n",
       "202799     115.952889    115.952889  1.653300e+00   114.299544     57.976422   \n",
       "202800     114.250098    114.250098  2.035300e-02   114.229700     57.125027   \n",
       "202801     113.606771    113.606771  9.257490e-01   112.680977     56.803363   \n",
       "202802     112.680977    112.680977  3.026970e-01   112.378235     56.340466   \n",
       "202803       0.399769      0.399769  3.995460e-01     0.399546      0.399546   \n",
       "\n",
       "        out_BTC_median  out_BTC_total  class  \n",
       "0             0.266986       0.533972      3  \n",
       "1             2.805889       5.611778      3  \n",
       "2             0.228254       0.456508      3  \n",
       "3             4.654400       9.308800      2  \n",
       "4             0.000441     852.164680      2  \n",
       "...                ...            ...    ...  \n",
       "202799       57.976422     115.952844      3  \n",
       "202800       57.125027     114.250053      3  \n",
       "202801       56.803363     113.606726      3  \n",
       "202802       56.340466     112.680932      3  \n",
       "202803        0.399546       0.399546      3  \n",
       "\n",
       "[202804 rows x 185 columns]"
      ]
     },
     "execution_count": 1,
     "metadata": {},
     "output_type": "execute_result"
    }
   ],
   "source": [
    "import pandas as pd\n",
    "from helpers import read_csv, load_pickled_data, pickle_data\n",
    "import os\n",
    "import matplotlib.pyplot as plt \n",
    "import plotly\n",
    "import chart_studio.plotly as py\n",
    "import plotly.graph_objects as go\n",
    "\n",
    "DATASET_BASE = \"dataset\"\n",
    "PICKLED_OBJS = \"pickled_objs\"\n",
    "\n",
    "txs_classes:pd.DataFrame = read_csv(os.path.join(DATASET_BASE, \"elliptic_txs_classes.csv\"), ret_Dataframe=True)\n",
    "txs_edgelist:pd.DataFrame = read_csv(os.path.join(DATASET_BASE, \"elliptic_txs_edgelist.csv\"), ret_Dataframe=True)\n",
    "txs_features:pd.DataFrame =  read_csv(os.path.join(DATASET_BASE, \"elliptic_txs_features.csv\"), ret_Dataframe=True)\n",
    "\n",
    "\n",
    "merge_feats_class = pd.merge(txs_features, txs_classes, on='txId').dropna()\n",
    "merge_feats_class"
   ]
  },
  {
   "cell_type": "code",
   "execution_count": 2,
   "metadata": {},
   "outputs": [
    {
     "data": {
      "text/plain": [
       "['txId',\n",
       " 'Time step',\n",
       " 'Local_feature_1',\n",
       " 'Local_feature_2',\n",
       " 'Local_feature_3',\n",
       " 'Local_feature_4',\n",
       " 'Local_feature_5',\n",
       " 'Local_feature_6',\n",
       " 'Local_feature_7',\n",
       " 'Local_feature_8',\n",
       " 'Local_feature_9',\n",
       " 'Local_feature_10',\n",
       " 'Local_feature_11',\n",
       " 'Local_feature_12',\n",
       " 'Local_feature_13',\n",
       " 'Local_feature_14',\n",
       " 'Local_feature_15',\n",
       " 'Local_feature_16',\n",
       " 'Local_feature_17',\n",
       " 'Local_feature_18',\n",
       " 'Local_feature_19',\n",
       " 'Local_feature_20',\n",
       " 'Local_feature_21',\n",
       " 'Local_feature_22',\n",
       " 'Local_feature_23',\n",
       " 'Local_feature_24',\n",
       " 'Local_feature_25',\n",
       " 'Local_feature_26',\n",
       " 'Local_feature_27',\n",
       " 'Local_feature_28',\n",
       " 'Local_feature_29',\n",
       " 'Local_feature_30',\n",
       " 'Local_feature_31',\n",
       " 'Local_feature_32',\n",
       " 'Local_feature_33',\n",
       " 'Local_feature_34',\n",
       " 'Local_feature_35',\n",
       " 'Local_feature_36',\n",
       " 'Local_feature_37',\n",
       " 'Local_feature_38',\n",
       " 'Local_feature_39',\n",
       " 'Local_feature_40',\n",
       " 'Local_feature_41',\n",
       " 'Local_feature_42',\n",
       " 'Local_feature_43',\n",
       " 'Local_feature_44',\n",
       " 'Local_feature_45',\n",
       " 'Local_feature_46',\n",
       " 'Local_feature_47',\n",
       " 'Local_feature_48',\n",
       " 'Local_feature_49',\n",
       " 'Local_feature_50',\n",
       " 'Local_feature_51',\n",
       " 'Local_feature_52',\n",
       " 'Local_feature_53',\n",
       " 'Local_feature_54',\n",
       " 'Local_feature_55',\n",
       " 'Local_feature_56',\n",
       " 'Local_feature_57',\n",
       " 'Local_feature_58',\n",
       " 'Local_feature_59',\n",
       " 'Local_feature_60',\n",
       " 'Local_feature_61',\n",
       " 'Local_feature_62',\n",
       " 'Local_feature_63',\n",
       " 'Local_feature_64',\n",
       " 'Local_feature_65',\n",
       " 'Local_feature_66',\n",
       " 'Local_feature_67',\n",
       " 'Local_feature_68',\n",
       " 'Local_feature_69',\n",
       " 'Local_feature_70',\n",
       " 'Local_feature_71',\n",
       " 'Local_feature_72',\n",
       " 'Local_feature_73',\n",
       " 'Local_feature_74',\n",
       " 'Local_feature_75',\n",
       " 'Local_feature_76',\n",
       " 'Local_feature_77',\n",
       " 'Local_feature_78',\n",
       " 'Local_feature_79',\n",
       " 'Local_feature_80',\n",
       " 'Local_feature_81',\n",
       " 'Local_feature_82',\n",
       " 'Local_feature_83',\n",
       " 'Local_feature_84',\n",
       " 'Local_feature_85',\n",
       " 'Local_feature_86',\n",
       " 'Local_feature_87',\n",
       " 'Local_feature_88',\n",
       " 'Local_feature_89',\n",
       " 'Local_feature_90',\n",
       " 'Local_feature_91',\n",
       " 'Local_feature_92',\n",
       " 'Local_feature_93',\n",
       " 'Aggregate_feature_1',\n",
       " 'Aggregate_feature_2',\n",
       " 'Aggregate_feature_3',\n",
       " 'Aggregate_feature_4',\n",
       " 'Aggregate_feature_5',\n",
       " 'Aggregate_feature_6',\n",
       " 'Aggregate_feature_7',\n",
       " 'Aggregate_feature_8',\n",
       " 'Aggregate_feature_9',\n",
       " 'Aggregate_feature_10',\n",
       " 'Aggregate_feature_11',\n",
       " 'Aggregate_feature_12',\n",
       " 'Aggregate_feature_13',\n",
       " 'Aggregate_feature_14',\n",
       " 'Aggregate_feature_15',\n",
       " 'Aggregate_feature_16',\n",
       " 'Aggregate_feature_17',\n",
       " 'Aggregate_feature_18',\n",
       " 'Aggregate_feature_19',\n",
       " 'Aggregate_feature_20',\n",
       " 'Aggregate_feature_21',\n",
       " 'Aggregate_feature_22',\n",
       " 'Aggregate_feature_23',\n",
       " 'Aggregate_feature_24',\n",
       " 'Aggregate_feature_25',\n",
       " 'Aggregate_feature_26',\n",
       " 'Aggregate_feature_27',\n",
       " 'Aggregate_feature_28',\n",
       " 'Aggregate_feature_29',\n",
       " 'Aggregate_feature_30',\n",
       " 'Aggregate_feature_31',\n",
       " 'Aggregate_feature_32',\n",
       " 'Aggregate_feature_33',\n",
       " 'Aggregate_feature_34',\n",
       " 'Aggregate_feature_35',\n",
       " 'Aggregate_feature_36',\n",
       " 'Aggregate_feature_37',\n",
       " 'Aggregate_feature_38',\n",
       " 'Aggregate_feature_39',\n",
       " 'Aggregate_feature_40',\n",
       " 'Aggregate_feature_41',\n",
       " 'Aggregate_feature_42',\n",
       " 'Aggregate_feature_43',\n",
       " 'Aggregate_feature_44',\n",
       " 'Aggregate_feature_45',\n",
       " 'Aggregate_feature_46',\n",
       " 'Aggregate_feature_47',\n",
       " 'Aggregate_feature_48',\n",
       " 'Aggregate_feature_49',\n",
       " 'Aggregate_feature_50',\n",
       " 'Aggregate_feature_51',\n",
       " 'Aggregate_feature_52',\n",
       " 'Aggregate_feature_53',\n",
       " 'Aggregate_feature_54',\n",
       " 'Aggregate_feature_55',\n",
       " 'Aggregate_feature_56',\n",
       " 'Aggregate_feature_57',\n",
       " 'Aggregate_feature_58',\n",
       " 'Aggregate_feature_59',\n",
       " 'Aggregate_feature_60',\n",
       " 'Aggregate_feature_61',\n",
       " 'Aggregate_feature_62',\n",
       " 'Aggregate_feature_63',\n",
       " 'Aggregate_feature_64',\n",
       " 'Aggregate_feature_65',\n",
       " 'Aggregate_feature_66',\n",
       " 'Aggregate_feature_67',\n",
       " 'Aggregate_feature_68',\n",
       " 'Aggregate_feature_69',\n",
       " 'Aggregate_feature_70',\n",
       " 'Aggregate_feature_71',\n",
       " 'Aggregate_feature_72',\n",
       " 'in_txs_degree',\n",
       " 'out_txs_degree',\n",
       " 'total_BTC',\n",
       " 'fees',\n",
       " 'size',\n",
       " 'num_input_addresses',\n",
       " 'num_output_addresses',\n",
       " 'in_BTC_min',\n",
       " 'in_BTC_max',\n",
       " 'in_BTC_mean',\n",
       " 'in_BTC_median',\n",
       " 'in_BTC_total',\n",
       " 'out_BTC_min',\n",
       " 'out_BTC_max',\n",
       " 'out_BTC_mean',\n",
       " 'out_BTC_median',\n",
       " 'out_BTC_total',\n",
       " 'class']"
      ]
     },
     "execution_count": 2,
     "metadata": {},
     "output_type": "execute_result"
    }
   ],
   "source": [
    "list(merge_feats_class.columns)"
   ]
  },
  {
   "cell_type": "markdown",
   "metadata": {},
   "source": [
    "Classes and the corresponding amount of transactions"
   ]
  },
  {
   "cell_type": "code",
   "execution_count": 3,
   "metadata": {},
   "outputs": [
    {
     "data": {
      "application/vnd.plotly.v1+json": {
       "config": {
        "linkText": "Export to plot.ly",
        "plotlyServerURL": "https://plot.ly",
        "showLink": false
       },
       "data": [
        {
         "type": "bar",
         "x": [
          "Illicit",
          "Licit",
          "Unknown"
         ],
         "y": [
          4545,
          41500,
          156759
         ]
        }
       ],
       "layout": {
        "template": {
         "data": {
          "bar": [
           {
            "error_x": {
             "color": "#2a3f5f"
            },
            "error_y": {
             "color": "#2a3f5f"
            },
            "marker": {
             "line": {
              "color": "#E5ECF6",
              "width": 0.5
             },
             "pattern": {
              "fillmode": "overlay",
              "size": 10,
              "solidity": 0.2
             }
            },
            "type": "bar"
           }
          ],
          "barpolar": [
           {
            "marker": {
             "line": {
              "color": "#E5ECF6",
              "width": 0.5
             },
             "pattern": {
              "fillmode": "overlay",
              "size": 10,
              "solidity": 0.2
             }
            },
            "type": "barpolar"
           }
          ],
          "carpet": [
           {
            "aaxis": {
             "endlinecolor": "#2a3f5f",
             "gridcolor": "white",
             "linecolor": "white",
             "minorgridcolor": "white",
             "startlinecolor": "#2a3f5f"
            },
            "baxis": {
             "endlinecolor": "#2a3f5f",
             "gridcolor": "white",
             "linecolor": "white",
             "minorgridcolor": "white",
             "startlinecolor": "#2a3f5f"
            },
            "type": "carpet"
           }
          ],
          "choropleth": [
           {
            "colorbar": {
             "outlinewidth": 0,
             "ticks": ""
            },
            "type": "choropleth"
           }
          ],
          "contour": [
           {
            "colorbar": {
             "outlinewidth": 0,
             "ticks": ""
            },
            "colorscale": [
             [
              0,
              "#0d0887"
             ],
             [
              0.1111111111111111,
              "#46039f"
             ],
             [
              0.2222222222222222,
              "#7201a8"
             ],
             [
              0.3333333333333333,
              "#9c179e"
             ],
             [
              0.4444444444444444,
              "#bd3786"
             ],
             [
              0.5555555555555556,
              "#d8576b"
             ],
             [
              0.6666666666666666,
              "#ed7953"
             ],
             [
              0.7777777777777778,
              "#fb9f3a"
             ],
             [
              0.8888888888888888,
              "#fdca26"
             ],
             [
              1,
              "#f0f921"
             ]
            ],
            "type": "contour"
           }
          ],
          "contourcarpet": [
           {
            "colorbar": {
             "outlinewidth": 0,
             "ticks": ""
            },
            "type": "contourcarpet"
           }
          ],
          "heatmap": [
           {
            "colorbar": {
             "outlinewidth": 0,
             "ticks": ""
            },
            "colorscale": [
             [
              0,
              "#0d0887"
             ],
             [
              0.1111111111111111,
              "#46039f"
             ],
             [
              0.2222222222222222,
              "#7201a8"
             ],
             [
              0.3333333333333333,
              "#9c179e"
             ],
             [
              0.4444444444444444,
              "#bd3786"
             ],
             [
              0.5555555555555556,
              "#d8576b"
             ],
             [
              0.6666666666666666,
              "#ed7953"
             ],
             [
              0.7777777777777778,
              "#fb9f3a"
             ],
             [
              0.8888888888888888,
              "#fdca26"
             ],
             [
              1,
              "#f0f921"
             ]
            ],
            "type": "heatmap"
           }
          ],
          "heatmapgl": [
           {
            "colorbar": {
             "outlinewidth": 0,
             "ticks": ""
            },
            "colorscale": [
             [
              0,
              "#0d0887"
             ],
             [
              0.1111111111111111,
              "#46039f"
             ],
             [
              0.2222222222222222,
              "#7201a8"
             ],
             [
              0.3333333333333333,
              "#9c179e"
             ],
             [
              0.4444444444444444,
              "#bd3786"
             ],
             [
              0.5555555555555556,
              "#d8576b"
             ],
             [
              0.6666666666666666,
              "#ed7953"
             ],
             [
              0.7777777777777778,
              "#fb9f3a"
             ],
             [
              0.8888888888888888,
              "#fdca26"
             ],
             [
              1,
              "#f0f921"
             ]
            ],
            "type": "heatmapgl"
           }
          ],
          "histogram": [
           {
            "marker": {
             "pattern": {
              "fillmode": "overlay",
              "size": 10,
              "solidity": 0.2
             }
            },
            "type": "histogram"
           }
          ],
          "histogram2d": [
           {
            "colorbar": {
             "outlinewidth": 0,
             "ticks": ""
            },
            "colorscale": [
             [
              0,
              "#0d0887"
             ],
             [
              0.1111111111111111,
              "#46039f"
             ],
             [
              0.2222222222222222,
              "#7201a8"
             ],
             [
              0.3333333333333333,
              "#9c179e"
             ],
             [
              0.4444444444444444,
              "#bd3786"
             ],
             [
              0.5555555555555556,
              "#d8576b"
             ],
             [
              0.6666666666666666,
              "#ed7953"
             ],
             [
              0.7777777777777778,
              "#fb9f3a"
             ],
             [
              0.8888888888888888,
              "#fdca26"
             ],
             [
              1,
              "#f0f921"
             ]
            ],
            "type": "histogram2d"
           }
          ],
          "histogram2dcontour": [
           {
            "colorbar": {
             "outlinewidth": 0,
             "ticks": ""
            },
            "colorscale": [
             [
              0,
              "#0d0887"
             ],
             [
              0.1111111111111111,
              "#46039f"
             ],
             [
              0.2222222222222222,
              "#7201a8"
             ],
             [
              0.3333333333333333,
              "#9c179e"
             ],
             [
              0.4444444444444444,
              "#bd3786"
             ],
             [
              0.5555555555555556,
              "#d8576b"
             ],
             [
              0.6666666666666666,
              "#ed7953"
             ],
             [
              0.7777777777777778,
              "#fb9f3a"
             ],
             [
              0.8888888888888888,
              "#fdca26"
             ],
             [
              1,
              "#f0f921"
             ]
            ],
            "type": "histogram2dcontour"
           }
          ],
          "mesh3d": [
           {
            "colorbar": {
             "outlinewidth": 0,
             "ticks": ""
            },
            "type": "mesh3d"
           }
          ],
          "parcoords": [
           {
            "line": {
             "colorbar": {
              "outlinewidth": 0,
              "ticks": ""
             }
            },
            "type": "parcoords"
           }
          ],
          "pie": [
           {
            "automargin": true,
            "type": "pie"
           }
          ],
          "scatter": [
           {
            "fillpattern": {
             "fillmode": "overlay",
             "size": 10,
             "solidity": 0.2
            },
            "type": "scatter"
           }
          ],
          "scatter3d": [
           {
            "line": {
             "colorbar": {
              "outlinewidth": 0,
              "ticks": ""
             }
            },
            "marker": {
             "colorbar": {
              "outlinewidth": 0,
              "ticks": ""
             }
            },
            "type": "scatter3d"
           }
          ],
          "scattercarpet": [
           {
            "marker": {
             "colorbar": {
              "outlinewidth": 0,
              "ticks": ""
             }
            },
            "type": "scattercarpet"
           }
          ],
          "scattergeo": [
           {
            "marker": {
             "colorbar": {
              "outlinewidth": 0,
              "ticks": ""
             }
            },
            "type": "scattergeo"
           }
          ],
          "scattergl": [
           {
            "marker": {
             "colorbar": {
              "outlinewidth": 0,
              "ticks": ""
             }
            },
            "type": "scattergl"
           }
          ],
          "scattermapbox": [
           {
            "marker": {
             "colorbar": {
              "outlinewidth": 0,
              "ticks": ""
             }
            },
            "type": "scattermapbox"
           }
          ],
          "scatterpolar": [
           {
            "marker": {
             "colorbar": {
              "outlinewidth": 0,
              "ticks": ""
             }
            },
            "type": "scatterpolar"
           }
          ],
          "scatterpolargl": [
           {
            "marker": {
             "colorbar": {
              "outlinewidth": 0,
              "ticks": ""
             }
            },
            "type": "scatterpolargl"
           }
          ],
          "scatterternary": [
           {
            "marker": {
             "colorbar": {
              "outlinewidth": 0,
              "ticks": ""
             }
            },
            "type": "scatterternary"
           }
          ],
          "surface": [
           {
            "colorbar": {
             "outlinewidth": 0,
             "ticks": ""
            },
            "colorscale": [
             [
              0,
              "#0d0887"
             ],
             [
              0.1111111111111111,
              "#46039f"
             ],
             [
              0.2222222222222222,
              "#7201a8"
             ],
             [
              0.3333333333333333,
              "#9c179e"
             ],
             [
              0.4444444444444444,
              "#bd3786"
             ],
             [
              0.5555555555555556,
              "#d8576b"
             ],
             [
              0.6666666666666666,
              "#ed7953"
             ],
             [
              0.7777777777777778,
              "#fb9f3a"
             ],
             [
              0.8888888888888888,
              "#fdca26"
             ],
             [
              1,
              "#f0f921"
             ]
            ],
            "type": "surface"
           }
          ],
          "table": [
           {
            "cells": {
             "fill": {
              "color": "#EBF0F8"
             },
             "line": {
              "color": "white"
             }
            },
            "header": {
             "fill": {
              "color": "#C8D4E3"
             },
             "line": {
              "color": "white"
             }
            },
            "type": "table"
           }
          ]
         },
         "layout": {
          "annotationdefaults": {
           "arrowcolor": "#2a3f5f",
           "arrowhead": 0,
           "arrowwidth": 1
          },
          "autotypenumbers": "strict",
          "coloraxis": {
           "colorbar": {
            "outlinewidth": 0,
            "ticks": ""
           }
          },
          "colorscale": {
           "diverging": [
            [
             0,
             "#8e0152"
            ],
            [
             0.1,
             "#c51b7d"
            ],
            [
             0.2,
             "#de77ae"
            ],
            [
             0.3,
             "#f1b6da"
            ],
            [
             0.4,
             "#fde0ef"
            ],
            [
             0.5,
             "#f7f7f7"
            ],
            [
             0.6,
             "#e6f5d0"
            ],
            [
             0.7,
             "#b8e186"
            ],
            [
             0.8,
             "#7fbc41"
            ],
            [
             0.9,
             "#4d9221"
            ],
            [
             1,
             "#276419"
            ]
           ],
           "sequential": [
            [
             0,
             "#0d0887"
            ],
            [
             0.1111111111111111,
             "#46039f"
            ],
            [
             0.2222222222222222,
             "#7201a8"
            ],
            [
             0.3333333333333333,
             "#9c179e"
            ],
            [
             0.4444444444444444,
             "#bd3786"
            ],
            [
             0.5555555555555556,
             "#d8576b"
            ],
            [
             0.6666666666666666,
             "#ed7953"
            ],
            [
             0.7777777777777778,
             "#fb9f3a"
            ],
            [
             0.8888888888888888,
             "#fdca26"
            ],
            [
             1,
             "#f0f921"
            ]
           ],
           "sequentialminus": [
            [
             0,
             "#0d0887"
            ],
            [
             0.1111111111111111,
             "#46039f"
            ],
            [
             0.2222222222222222,
             "#7201a8"
            ],
            [
             0.3333333333333333,
             "#9c179e"
            ],
            [
             0.4444444444444444,
             "#bd3786"
            ],
            [
             0.5555555555555556,
             "#d8576b"
            ],
            [
             0.6666666666666666,
             "#ed7953"
            ],
            [
             0.7777777777777778,
             "#fb9f3a"
            ],
            [
             0.8888888888888888,
             "#fdca26"
            ],
            [
             1,
             "#f0f921"
            ]
           ]
          },
          "colorway": [
           "#636efa",
           "#EF553B",
           "#00cc96",
           "#ab63fa",
           "#FFA15A",
           "#19d3f3",
           "#FF6692",
           "#B6E880",
           "#FF97FF",
           "#FECB52"
          ],
          "font": {
           "color": "#2a3f5f"
          },
          "geo": {
           "bgcolor": "white",
           "lakecolor": "white",
           "landcolor": "#E5ECF6",
           "showlakes": true,
           "showland": true,
           "subunitcolor": "white"
          },
          "hoverlabel": {
           "align": "left"
          },
          "hovermode": "closest",
          "mapbox": {
           "style": "light"
          },
          "paper_bgcolor": "white",
          "plot_bgcolor": "#E5ECF6",
          "polar": {
           "angularaxis": {
            "gridcolor": "white",
            "linecolor": "white",
            "ticks": ""
           },
           "bgcolor": "#E5ECF6",
           "radialaxis": {
            "gridcolor": "white",
            "linecolor": "white",
            "ticks": ""
           }
          },
          "scene": {
           "xaxis": {
            "backgroundcolor": "#E5ECF6",
            "gridcolor": "white",
            "gridwidth": 2,
            "linecolor": "white",
            "showbackground": true,
            "ticks": "",
            "zerolinecolor": "white"
           },
           "yaxis": {
            "backgroundcolor": "#E5ECF6",
            "gridcolor": "white",
            "gridwidth": 2,
            "linecolor": "white",
            "showbackground": true,
            "ticks": "",
            "zerolinecolor": "white"
           },
           "zaxis": {
            "backgroundcolor": "#E5ECF6",
            "gridcolor": "white",
            "gridwidth": 2,
            "linecolor": "white",
            "showbackground": true,
            "ticks": "",
            "zerolinecolor": "white"
           }
          },
          "shapedefaults": {
           "line": {
            "color": "#2a3f5f"
           }
          },
          "ternary": {
           "aaxis": {
            "gridcolor": "white",
            "linecolor": "white",
            "ticks": ""
           },
           "baxis": {
            "gridcolor": "white",
            "linecolor": "white",
            "ticks": ""
           },
           "bgcolor": "#E5ECF6",
           "caxis": {
            "gridcolor": "white",
            "linecolor": "white",
            "ticks": ""
           }
          },
          "title": {
           "x": 0.05
          },
          "xaxis": {
           "automargin": true,
           "gridcolor": "white",
           "linecolor": "white",
           "ticks": "",
           "title": {
            "standoff": 15
           },
           "zerolinecolor": "white",
           "zerolinewidth": 2
          },
          "yaxis": {
           "automargin": true,
           "gridcolor": "white",
           "linecolor": "white",
           "ticks": "",
           "title": {
            "standoff": 15
           },
           "zerolinecolor": "white",
           "zerolinewidth": 2
          }
         }
        }
       }
      }
     },
     "metadata": {},
     "output_type": "display_data"
    }
   ],
   "source": [
    "txs_by_class = merge_feats_class.groupby('class').count()\n",
    "txs_by_class\n",
    "_x = [\"Illicit\", \"Licit\", \"Unknown\"]\n",
    "\n",
    "d = {\n",
    "    \"Illicit\":'blue',\n",
    "    \"Licit\": 'red',\n",
    "    \"Unknown\":'yellow'\n",
    "}\n",
    "\n",
    "merge_feats_class['class'].value_counts()\n",
    "\n",
    "#plt.bar(['Ilicit', 'Licit', 'Unknown'], txs_by_class['txId'].values, color=['blue', 'red', 'yellow'] )\n",
    "data = [go.Bar(x=_x,\n",
    "            y=txs_by_class['txId'].values)]\n",
    "\n",
    "plotly.offline.iplot(data, filename='jupyter-txs_per_class')\n"
   ]
  },
  {
   "cell_type": "code",
   "execution_count": 4,
   "metadata": {},
   "outputs": [
    {
     "name": "stdout",
     "output_type": "stream",
     "text": [
      "               txId     Time step  Local_feature_1  Local_feature_2  \\\n",
      "count  4.150000e+04  41500.000000     41500.000000     41500.000000   \n",
      "mean   1.715688e+08     24.468602        -0.039009         0.180928   \n",
      "std    1.101834e+08     15.526605         0.742949         1.563702   \n",
      "min    2.534000e+03      1.000000        -0.172982        -0.210553   \n",
      "25%    8.500541e+07      8.000000        -0.172664        -0.169302   \n",
      "50%    1.585747e+08     24.000000        -0.169944        -0.107012   \n",
      "75%    2.454261e+08     40.000000        -0.132140         0.021241   \n",
      "max    4.031232e+08     49.000000        39.786756        69.469535   \n",
      "\n",
      "       Local_feature_3  Local_feature_4  Local_feature_5  Local_feature_6  \\\n",
      "count     41500.000000     41500.000000     41500.000000     41500.000000   \n",
      "mean          0.138691         0.193141         0.038930         0.204183   \n",
      "std           1.066700         1.622307         1.831936         1.592211   \n",
      "min          -1.756361        -0.121970        -0.063725        -0.113002   \n",
      "25%          -1.201369        -0.121970        -0.043875        -0.113002   \n",
      "50%           0.463609        -0.046932        -0.043875        -0.113002   \n",
      "75%           1.018602         0.028105        -0.043875         0.054722   \n",
      "max           2.683580        49.027598       260.090707        54.565178   \n",
      "\n",
      "       Local_feature_7  Local_feature_8  ...    in_BTC_max   in_BTC_mean  \\\n",
      "count     41500.000000     41500.000000  ...  41500.000000  41500.000000   \n",
      "mean         -0.009941        -0.067962  ...     19.232069     16.077112   \n",
      "std           0.611288         0.622901  ...    111.011582     97.705588   \n",
      "min          -0.061584        -0.163646  ...      0.000129      0.000109   \n",
      "25%          -0.061584        -0.163621  ...      0.037460      0.026223   \n",
      "50%          -0.061584        -0.163435  ...      0.371023      0.202709   \n",
      "75%          -0.061584        -0.157300  ...      5.000000      2.584109   \n",
      "max          44.365651        40.721063  ...   6335.202183   6335.202183   \n",
      "\n",
      "       in_BTC_median  in_BTC_total   out_BTC_min   out_BTC_max  out_BTC_mean  \\\n",
      "count   41500.000000  41500.000000  41500.000000  41500.000000  41500.000000   \n",
      "mean       15.800822     21.241678      1.299291     19.559865      6.727923   \n",
      "std        97.656907    117.787238     21.299594    110.685152     33.235243   \n",
      "min         0.000018      0.000169      0.000000      0.000027      0.000014   \n",
      "25%         0.015916      0.052608      0.001778      0.040000      0.023203   \n",
      "50%         0.125710      0.482399      0.010377      0.370000      0.188453   \n",
      "75%         2.000000      6.477151      0.087597      5.300000      2.441071   \n",
      "max      6335.202183   6335.202183   2010.466695   6292.795766   2010.466695   \n",
      "\n",
      "       out_BTC_median  out_BTC_total    class  \n",
      "count    41500.000000   41500.000000  41500.0  \n",
      "mean         5.989511      21.240166      2.0  \n",
      "std         32.168479     117.786807      0.0  \n",
      "min          0.000012       0.000027      2.0  \n",
      "25%          0.015609       0.050568      2.0  \n",
      "50%          0.119571       0.481791      2.0  \n",
      "75%          1.355962       6.475154      2.0  \n",
      "max       2010.466695    6335.201666      2.0  \n",
      "\n",
      "[8 rows x 185 columns]\n",
      "               txId    Time step  Local_feature_1  Local_feature_2  \\\n",
      "count  4.545000e+03  4545.000000      4545.000000      4545.000000   \n",
      "mean   2.019776e+08    25.078768        -0.165745        -0.030698   \n",
      "std    1.169372e+08    11.357543         0.025423         1.410232   \n",
      "min    1.879066e+06     1.000000        -0.172979        -0.200199   \n",
      "25%    9.465426e+07    15.000000        -0.172739        -0.158783   \n",
      "50%    2.059217e+08    25.000000        -0.172205        -0.150103   \n",
      "75%    3.103970e+08    33.000000        -0.170061        -0.107012   \n",
      "max    4.029113e+08    49.000000         0.544156        73.595052   \n",
      "\n",
      "       Local_feature_3  Local_feature_4  Local_feature_5  Local_feature_6  \\\n",
      "count      4545.000000      4545.000000      4545.000000      4545.000000   \n",
      "mean          0.212061         0.010803        -0.056724         0.033743   \n",
      "std           1.052829         1.478979         0.009747         1.642366   \n",
      "min          -1.201369        -0.121970        -0.063725        -0.113002   \n",
      "25%          -1.201369        -0.121970        -0.063725        -0.113002   \n",
      "50%           1.018602        -0.121970        -0.063725        -0.113002   \n",
      "75%           1.018602        -0.121970        -0.043875        -0.113002   \n",
      "max           2.683580        37.321747         0.095076        41.734255   \n",
      "\n",
      "       Local_feature_7  Local_feature_8  ...   in_BTC_max  in_BTC_mean  \\\n",
      "count      4545.000000      4545.000000  ...  4545.000000  4545.000000   \n",
      "mean         -0.059910        -0.157009  ...     1.073702     1.045645   \n",
      "std           0.029554         0.023243  ...     3.639389     3.608136   \n",
      "min          -0.061584        -0.163646  ...     0.001011     0.001011   \n",
      "25%          -0.061584        -0.163488  ...     0.035088     0.031379   \n",
      "50%          -0.061584        -0.163012  ...     0.115000     0.107415   \n",
      "75%          -0.061584        -0.161252  ...     0.430000     0.400000   \n",
      "max           1.155601         0.570094  ...   113.695106   113.695106   \n",
      "\n",
      "       in_BTC_median  in_BTC_total  out_BTC_min  out_BTC_max  out_BTC_mean  \\\n",
      "count    4545.000000   4545.000000  4545.000000  4545.000000   4545.000000   \n",
      "mean        1.042202      1.148121     0.195815     1.104376      0.648984   \n",
      "std         3.607401      4.030745     0.573378     3.867800      1.995765   \n",
      "min         0.000100      0.001011     0.000087     0.000611      0.000611   \n",
      "25%         0.030000      0.039059     0.011066     0.036188      0.032110   \n",
      "50%         0.105948      0.123566     0.048085     0.117405      0.102050   \n",
      "75%         0.392100      0.463505     0.169825     0.432144      0.369250   \n",
      "max       113.695106    113.695106    17.000000   111.852842     56.847447   \n",
      "\n",
      "       out_BTC_median  out_BTC_total   class  \n",
      "count     4545.000000    4545.000000  4545.0  \n",
      "mean         0.647219       1.147426     1.0  \n",
      "std          1.978643       4.030536     0.0  \n",
      "min          0.000611       0.000611     1.0  \n",
      "25%          0.032110       0.038694     1.0  \n",
      "50%          0.101757       0.123366     1.0  \n",
      "75%          0.369116       0.463218     1.0  \n",
      "max         56.847447     113.694893     1.0  \n",
      "\n",
      "[8 rows x 185 columns]\n"
     ]
    }
   ],
   "source": [
    "illicit_df = merge_feats_class.loc[merge_feats_class['class'] == 1]\n",
    "llicit_df = merge_feats_class.loc[merge_feats_class['class'] == 2]\n",
    "unknown_df = merge_feats_class.loc[merge_feats_class['class'] == 3]\n",
    "\n",
    "print(llicit_df.describe())\n",
    "print(illicit_df.describe())\n"
   ]
  },
  {
   "cell_type": "code",
   "execution_count": 5,
   "metadata": {},
   "outputs": [
    {
     "name": "stdout",
     "output_type": "stream",
     "text": [
      "['Local_feature_1', 'Local_feature_42', 'Local_feature_46', 'Local_feature_48', 'Local_feature_51', 'Local_feature_52', 'Local_feature_54', 'Local_feature_58', 'Local_feature_60', 'Local_feature_64', 'Local_feature_66', 'Local_feature_76', 'Local_feature_78', 'Local_feature_88', 'total_BTC']\n"
     ]
    },
    {
     "data": {
      "text/html": [
       "<div>\n",
       "<style scoped>\n",
       "    .dataframe tbody tr th:only-of-type {\n",
       "        vertical-align: middle;\n",
       "    }\n",
       "\n",
       "    .dataframe tbody tr th {\n",
       "        vertical-align: top;\n",
       "    }\n",
       "\n",
       "    .dataframe thead th {\n",
       "        text-align: right;\n",
       "    }\n",
       "</style>\n",
       "<table border=\"1\" class=\"dataframe\">\n",
       "  <thead>\n",
       "    <tr style=\"text-align: right;\">\n",
       "      <th></th>\n",
       "      <th>Local_feature_1</th>\n",
       "      <th>Local_feature_42</th>\n",
       "      <th>Local_feature_46</th>\n",
       "      <th>Local_feature_48</th>\n",
       "      <th>Local_feature_51</th>\n",
       "      <th>Local_feature_52</th>\n",
       "      <th>Local_feature_54</th>\n",
       "      <th>Local_feature_58</th>\n",
       "      <th>Local_feature_60</th>\n",
       "      <th>Local_feature_64</th>\n",
       "      <th>Local_feature_66</th>\n",
       "      <th>Local_feature_76</th>\n",
       "      <th>Local_feature_78</th>\n",
       "      <th>Local_feature_88</th>\n",
       "      <th>total_BTC</th>\n",
       "    </tr>\n",
       "  </thead>\n",
       "  <tbody>\n",
       "    <tr>\n",
       "      <th>count</th>\n",
       "      <td>4287.000000</td>\n",
       "      <td>4287.000000</td>\n",
       "      <td>4287.000000</td>\n",
       "      <td>4287.000000</td>\n",
       "      <td>4287.000000</td>\n",
       "      <td>4287.000000</td>\n",
       "      <td>4287.000000</td>\n",
       "      <td>4287.000000</td>\n",
       "      <td>4287.000000</td>\n",
       "      <td>4287.000000</td>\n",
       "      <td>4287.000000</td>\n",
       "      <td>4287.000000</td>\n",
       "      <td>4287.000000</td>\n",
       "      <td>4287.000000</td>\n",
       "      <td>4287.000000</td>\n",
       "    </tr>\n",
       "    <tr>\n",
       "      <th>mean</th>\n",
       "      <td>-0.124447</td>\n",
       "      <td>-0.060680</td>\n",
       "      <td>0.139327</td>\n",
       "      <td>-0.080535</td>\n",
       "      <td>-0.017636</td>\n",
       "      <td>0.006499</td>\n",
       "      <td>-0.059368</td>\n",
       "      <td>-0.008526</td>\n",
       "      <td>-0.133888</td>\n",
       "      <td>-0.008522</td>\n",
       "      <td>-0.133879</td>\n",
       "      <td>0.041525</td>\n",
       "      <td>0.082117</td>\n",
       "      <td>0.136832</td>\n",
       "      <td>7.694795</td>\n",
       "    </tr>\n",
       "    <tr>\n",
       "      <th>std</th>\n",
       "      <td>0.172430</td>\n",
       "      <td>0.404885</td>\n",
       "      <td>1.103075</td>\n",
       "      <td>0.513906</td>\n",
       "      <td>0.921356</td>\n",
       "      <td>0.961409</td>\n",
       "      <td>0.699984</td>\n",
       "      <td>0.288060</td>\n",
       "      <td>0.219928</td>\n",
       "      <td>0.288069</td>\n",
       "      <td>0.219924</td>\n",
       "      <td>1.034889</td>\n",
       "      <td>0.974949</td>\n",
       "      <td>1.284322</td>\n",
       "      <td>27.336919</td>\n",
       "    </tr>\n",
       "    <tr>\n",
       "      <th>min</th>\n",
       "      <td>-0.172983</td>\n",
       "      <td>-0.075256</td>\n",
       "      <td>-0.227203</td>\n",
       "      <td>-0.097895</td>\n",
       "      <td>-3.745387</td>\n",
       "      <td>-0.414036</td>\n",
       "      <td>-0.232553</td>\n",
       "      <td>-0.039151</td>\n",
       "      <td>-0.163126</td>\n",
       "      <td>-0.039146</td>\n",
       "      <td>-0.163115</td>\n",
       "      <td>-0.095403</td>\n",
       "      <td>-0.250574</td>\n",
       "      <td>-0.293905</td>\n",
       "      <td>0.000024</td>\n",
       "    </tr>\n",
       "    <tr>\n",
       "      <th>25%</th>\n",
       "      <td>-0.172600</td>\n",
       "      <td>-0.075256</td>\n",
       "      <td>-0.227203</td>\n",
       "      <td>-0.097895</td>\n",
       "      <td>0.042345</td>\n",
       "      <td>-0.414003</td>\n",
       "      <td>-0.232553</td>\n",
       "      <td>-0.039151</td>\n",
       "      <td>-0.163126</td>\n",
       "      <td>-0.039146</td>\n",
       "      <td>-0.163115</td>\n",
       "      <td>-0.095403</td>\n",
       "      <td>-0.250574</td>\n",
       "      <td>-0.293848</td>\n",
       "      <td>0.060598</td>\n",
       "    </tr>\n",
       "    <tr>\n",
       "      <th>50%</th>\n",
       "      <td>-0.170397</td>\n",
       "      <td>-0.075256</td>\n",
       "      <td>-0.227203</td>\n",
       "      <td>-0.097895</td>\n",
       "      <td>0.042345</td>\n",
       "      <td>-0.413883</td>\n",
       "      <td>-0.232553</td>\n",
       "      <td>-0.039150</td>\n",
       "      <td>-0.163122</td>\n",
       "      <td>-0.039145</td>\n",
       "      <td>-0.163111</td>\n",
       "      <td>-0.095403</td>\n",
       "      <td>-0.250540</td>\n",
       "      <td>-0.293732</td>\n",
       "      <td>0.409876</td>\n",
       "    </tr>\n",
       "    <tr>\n",
       "      <th>75%</th>\n",
       "      <td>-0.149563</td>\n",
       "      <td>-0.075256</td>\n",
       "      <td>-0.226199</td>\n",
       "      <td>-0.097895</td>\n",
       "      <td>0.042345</td>\n",
       "      <td>-0.192723</td>\n",
       "      <td>-0.232553</td>\n",
       "      <td>-0.039136</td>\n",
       "      <td>-0.162944</td>\n",
       "      <td>-0.039131</td>\n",
       "      <td>-0.162933</td>\n",
       "      <td>-0.094506</td>\n",
       "      <td>-0.243493</td>\n",
       "      <td>-0.207635</td>\n",
       "      <td>3.712957</td>\n",
       "    </tr>\n",
       "    <tr>\n",
       "      <th>max</th>\n",
       "      <td>2.618428</td>\n",
       "      <td>25.332272</td>\n",
       "      <td>9.081401</td>\n",
       "      <td>31.951632</td>\n",
       "      <td>3.830078</td>\n",
       "      <td>6.774753</td>\n",
       "      <td>8.076359</td>\n",
       "      <td>8.301668</td>\n",
       "      <td>4.952576</td>\n",
       "      <td>8.303391</td>\n",
       "      <td>4.952638</td>\n",
       "      <td>25.820300</td>\n",
       "      <td>8.315241</td>\n",
       "      <td>8.933291</td>\n",
       "      <td>442.549141</td>\n",
       "    </tr>\n",
       "  </tbody>\n",
       "</table>\n",
       "</div>"
      ],
      "text/plain": [
       "       Local_feature_1  Local_feature_42  Local_feature_46  Local_feature_48  \\\n",
       "count      4287.000000       4287.000000       4287.000000       4287.000000   \n",
       "mean         -0.124447         -0.060680          0.139327         -0.080535   \n",
       "std           0.172430          0.404885          1.103075          0.513906   \n",
       "min          -0.172983         -0.075256         -0.227203         -0.097895   \n",
       "25%          -0.172600         -0.075256         -0.227203         -0.097895   \n",
       "50%          -0.170397         -0.075256         -0.227203         -0.097895   \n",
       "75%          -0.149563         -0.075256         -0.226199         -0.097895   \n",
       "max           2.618428         25.332272          9.081401         31.951632   \n",
       "\n",
       "       Local_feature_51  Local_feature_52  Local_feature_54  Local_feature_58  \\\n",
       "count       4287.000000       4287.000000       4287.000000       4287.000000   \n",
       "mean          -0.017636          0.006499         -0.059368         -0.008526   \n",
       "std            0.921356          0.961409          0.699984          0.288060   \n",
       "min           -3.745387         -0.414036         -0.232553         -0.039151   \n",
       "25%            0.042345         -0.414003         -0.232553         -0.039151   \n",
       "50%            0.042345         -0.413883         -0.232553         -0.039150   \n",
       "75%            0.042345         -0.192723         -0.232553         -0.039136   \n",
       "max            3.830078          6.774753          8.076359          8.301668   \n",
       "\n",
       "       Local_feature_60  Local_feature_64  Local_feature_66  Local_feature_76  \\\n",
       "count       4287.000000       4287.000000       4287.000000       4287.000000   \n",
       "mean          -0.133888         -0.008522         -0.133879          0.041525   \n",
       "std            0.219928          0.288069          0.219924          1.034889   \n",
       "min           -0.163126         -0.039146         -0.163115         -0.095403   \n",
       "25%           -0.163126         -0.039146         -0.163115         -0.095403   \n",
       "50%           -0.163122         -0.039145         -0.163111         -0.095403   \n",
       "75%           -0.162944         -0.039131         -0.162933         -0.094506   \n",
       "max            4.952576          8.303391          4.952638         25.820300   \n",
       "\n",
       "       Local_feature_78  Local_feature_88    total_BTC  \n",
       "count       4287.000000       4287.000000  4287.000000  \n",
       "mean           0.082117          0.136832     7.694795  \n",
       "std            0.974949          1.284322    27.336919  \n",
       "min           -0.250574         -0.293905     0.000024  \n",
       "25%           -0.250574         -0.293848     0.060598  \n",
       "50%           -0.250540         -0.293732     0.409876  \n",
       "75%           -0.243493         -0.207635     3.712957  \n",
       "max            8.315241          8.933291   442.549141  "
      ]
     },
     "execution_count": 5,
     "metadata": {},
     "output_type": "execute_result"
    }
   ],
   "source": [
    "from sklearn.feature_selection import SelectKBest, chi2, mutual_info_classif, f_classif\n",
    "selector = SelectKBest(mutual_info_classif, k=15)\n",
    "timestep_dataframe = merge_feats_class.loc[merge_feats_class['Time step'] == 20].reset_index(drop=True)\n",
    "\n",
    "selector.fit(timestep_dataframe.drop([\"class\", \"txId\"], axis=1), timestep_dataframe[\"class\"])\n",
    "# Get columns to keep and create new dataframe with those only\n",
    "cols_idxs = selector.get_support(indices=True)\n",
    "timestep_dataframe_kfeats = timestep_dataframe.iloc[:,cols_idxs]\n",
    "\n",
    "print(list(timestep_dataframe_kfeats.columns))\n",
    "timestep_dataframe_kfeats.describe()"
   ]
  },
  {
   "cell_type": "code",
   "execution_count": 6,
   "metadata": {},
   "outputs": [
    {
     "name": "stdout",
     "output_type": "stream",
     "text": [
      "  1 / 101: ksone\n",
      "  2 / 101: kstwo\n",
      "  3 / 101: kstwobign\n",
      "  4 / 101: norm\n",
      "  5 / 101: alpha\n",
      "  6 / 101: anglit\n",
      "  7 / 101: arcsine\n",
      "  8 / 101: beta\n",
      "  9 / 101: betaprime\n",
      " 10 / 101: bradford\n",
      " 11 / 101: burr\n",
      " 12 / 101: burr12\n",
      " 13 / 101: fisk\n",
      " 14 / 101: cauchy\n",
      " 15 / 101: chi\n",
      " 16 / 101: chi2\n",
      " 17 / 101: cosine\n",
      " 18 / 101: dgamma\n",
      " 19 / 101: dweibull\n",
      " 20 / 101: expon\n",
      " 21 / 101: exponnorm\n",
      " 22 / 101: exponweib\n",
      " 23 / 101: exponpow\n",
      " 24 / 101: fatiguelife\n",
      " 25 / 101: foldcauchy\n",
      " 26 / 101: f\n",
      " 27 / 101: foldnorm\n",
      " 28 / 101: weibull_min\n",
      " 29 / 101: weibull_max\n",
      " 30 / 101: frechet_r\n",
      " 31 / 101: frechet_l\n",
      " 32 / 101: genlogistic\n",
      " 33 / 101: genpareto\n",
      " 34 / 101: genexpon\n",
      " 35 / 101: genextreme\n",
      " 36 / 101: gamma\n",
      " 37 / 101: erlang\n",
      " 38 / 101: gengamma\n",
      " 39 / 101: genhalflogistic\n",
      " 40 / 101: gompertz\n",
      " 41 / 101: gumbel_r\n",
      " 42 / 101: gumbel_l\n",
      " 43 / 101: halfcauchy\n",
      " 44 / 101: halflogistic\n",
      " 45 / 101: halfnorm\n",
      " 46 / 101: hypsecant\n",
      " 47 / 101: gausshyper\n",
      " 48 / 101: invgamma\n",
      " 49 / 101: invgauss\n",
      " 50 / 101: geninvgauss\n",
      " 51 / 101: norminvgauss\n",
      " 52 / 101: invweibull\n",
      " 53 / 101: johnsonsb\n",
      " 54 / 101: johnsonsu\n",
      " 55 / 101: laplace\n",
      " 56 / 101: levy\n",
      " 57 / 101: levy_l\n",
      " 58 / 101: logistic\n",
      " 59 / 101: loggamma\n",
      " 60 / 101: loglaplace\n",
      " 61 / 101: lognorm\n",
      " 62 / 101: gilbrat\n",
      " 63 / 101: maxwell\n",
      " 64 / 101: mielke\n",
      " 65 / 101: kappa4\n",
      " 66 / 101: kappa3\n",
      " 67 / 101: moyal\n",
      " 68 / 101: nakagami\n",
      " 69 / 101: ncx2\n",
      " 70 / 101: ncf\n",
      " 71 / 101: t\n",
      " 72 / 101: nct\n",
      " 73 / 101: pareto\n",
      " 74 / 101: lomax\n",
      " 75 / 101: pearson3\n",
      " 76 / 101: powerlaw\n",
      " 77 / 101: powerlognorm\n",
      " 78 / 101: powernorm\n",
      " 79 / 101: rdist\n",
      " 80 / 101: rayleigh\n",
      " 81 / 101: loguniform\n",
      " 82 / 101: reciprocal\n",
      " 83 / 101: rice\n",
      " 84 / 101: recipinvgauss\n",
      " 85 / 101: semicircular\n",
      " 86 / 101: skewnorm\n",
      " 87 / 101: trapz\n",
      " 88 / 101: triang\n",
      " 89 / 101: truncexpon\n",
      " 90 / 101: truncnorm\n",
      " 91 / 101: tukeylambda\n",
      " 92 / 101: uniform\n",
      " 93 / 101: vonmises\n",
      " 94 / 101: vonmises_line\n",
      " 95 / 101: wald\n",
      " 96 / 101: wrapcauchy\n",
      " 97 / 101: gennorm\n",
      " 98 / 101: halfgennorm\n",
      " 99 / 101: crystalball\n",
      "100 / 101: argus\n"
     ]
    },
    {
     "data": {
      "image/png": "[encoded data removed]",
      "text/plain": [
       "<Figure size 432x288 with 1 Axes>"
      ]
     },
     "metadata": {
      "needs_background": "light"
     },
     "output_type": "display_data"
    }
   ],
   "source": [
    "from helpers import best_fit_distribution, make_pdf, find_best_fitted_dist_for_features\n",
    "import matplotlib\n",
    "from sklearn.preprocessing import StandardScaler\n",
    "examined_feature = \"Local_feature_51\"\n",
    "_bins = 300\n",
    "ax = timestep_dataframe[examined_feature].plot(kind='hist', bins=_bins, density=True, alpha=0.5, color=list(matplotlib.rcParams['axes.prop_cycle'])[1]['color'])\n",
    "best_d = best_fit_distribution( timestep_dataframe[examined_feature], _bins, None, True)\n",
    "#find_best_fitted_dist_for_features(timestep_dataframe, _bins)"
   ]
  },
  {
   "cell_type": "code",
   "execution_count": 7,
   "metadata": {},
   "outputs": [
    {
     "name": "stdout",
     "output_type": "stream",
     "text": [
      "[(<scipy.stats._continuous_distns.gennorm_gen object at 0x0000026C7F0AB320>, (0.38739474935677176, 0.04234513480691009, 0.0007128989266463196), 766.8691411411373), (<scipy.stats._continuous_distns.dgamma_gen object at 0x0000026C7EFE8828>, (0.33246747967947177, 0.04234513480691009, 0.2143559628875129), 933.7618714077014), (<scipy.stats._continuous_distns.dweibull_gen object at 0x0000026C7EFE8710>, (0.4823086750168329, 0.04234513480691011, 0.14999399568239472), 989.3636556138568), (<scipy.stats._continuous_distns.laplace_gen object at 0x0000026C7F04F780>, (0.0423451348069101, 0.2757879727758983), 1149.3333759089157), (<scipy.stats._continuous_distns.truncnorm_gen object at 0x0000026C7F09C1D0>, (-0.9110858711081566, 2.5515069521745115, 0.00743392116466338, 0.26461023104007575), 1163.0176896237658), (<scipy.stats._continuous_distns.hypsecant_gen object at 0x0000026C7F034F60>, (0.034902893018287987, 0.2751632801995972), 1183.0736202804626), (<scipy.stats._continuous_distns.mielke_gen object at 0x0000026C7F05EE10>, (58.74537945996279, 116.56997005149857, -22.211722333496454, 22.39025377666212), 1190.2323024448644), (<scipy.stats._continuous_distns.genlogistic_gen object at 0x0000026C7F004780>, (0.5508496276099618, 0.16410603457965606, 0.19921494310796467), 1190.4537175690937), (<scipy.stats._continuous_distns.burr12_gen object at 0x0000026C7EFE0550>, (36533449.831581965, 0.8835046624221592, -9507528.4844787, 9507528.477018181), 1194.595669829499), (<scipy.stats._continuous_distns.logistic_gen object at 0x0000026C7F04FF98>, (0.027855242013577072, 0.27316806273134564), 1195.0348105637656), (<scipy.stats._continuous_distns.vonmises_gen object at 0x0000026C7F09CBE0>, (3.770610295609524, 0.04268688447942888, 1.2057814476866748), 1208.7322353497711), (<scipy.stats._continuous_distns.crystalball_gen object at 0x0000026C7F0AB7F0>, (1.7195385955404139, 2.424559930549938, 0.1258897697538381, 0.62702561866974), 1209.3021862669302), (<scipy.stats._continuous_distns.exponnorm_gen object at 0x0000026C7EFE8BA8>, (0.5647574808935615, -0.45267931510946363, 0.7703398015316496), 1215.7791767803214), (<scipy.stats._continuous_distns.powerlognorm_gen object at 0x0000026C7F086048>, (3.3380304941167003, 0.04304033024268116, -28.8961868371671, 30.004354905688615), 1216.3099422049388), (<scipy.stats._continuous_distns.powernorm_gen object at 0x0000026C7F0866A0>, (2.2655803998274084, 0.7106023017399217, 1.134110115543952), 1216.3856609757813), (<scipy.stats._continuous_distns.loggamma_gen object at 0x0000026C7F05E550>, (177.794448999155, -63.370433391130526, 12.2354351642775), 1216.8211440139448), (<scipy.stats._continuous_distns.johnsonsb_gen object at 0x0000026C7F041E10>, (-38.86272589108583, 35.558523782173864, -130.09593708654702, 173.69753752502518), 1216.8405848750738), (<scipy.stats._continuous_distns.pearson3_gen object at 0x0000026C7F079B00>, (-0.05250355249792832, -0.017635711198831637, 0.9194818122995911), 1216.8536742245685), (<scipy.stats._continuous_distns.beta_gen object at 0x0000026C7EFD3A58>, (13067.499633528241, 982.1518187474044, -397.9441139268898, 427.83555330736726), 1216.8689346354483), (<scipy.stats._continuous_distns.gengamma_gen object at 0x0000026C7F0277F0>, (48.1434512115524, 7.475054138748751, -47.63827852484414, 28.39453885819748), 1216.8714594722883), (<scipy.stats._continuous_distns.fatiguelife_gen object at 0x0000026C7EFFA3C8>, (0.0024221834926271045, -379.41792289356886, 379.40039661108585), 1216.8834855491264), (<scipy.stats._continuous_distns.skew_norm_gen object at 0x0000026C7F091AC8>, (0.48329575461515406, -0.35787305908502254, 0.9820727436283516), 1216.9209691255771), (<scipy.stats._continuous_distns.norm_gen object at 0x0000026C7EFC4FD0>, (-0.017635546333442012, 0.9212488164224262), 1216.9246168062157), (<scipy.stats._continuous_distns.lognorm_gen object at 0x0000026C7F05E668>, (0.0026560670089987234, -347.7783643571827, 347.75983203878604), 1216.9780761003274), (<scipy.stats._continuous_distns.erlang_gen object at 0x0000026C7F027550>, (594.2955713660837, -22.921446509695073, 0.038524724082470235), 1217.3690469088206), (<scipy.stats._continuous_distns.geninvgauss_gen object at 0x0000026C7F0415F8>, (423.4021070230125, 69.67407411360071, -19.597191141504087, 1.6001977814651123), 1217.4725136333811), (<scipy.stats._continuous_distns.gamma_gen object at 0x0000026C7F027630>, (434.0042917281944, -19.819186499762452, 0.04560427773171169), 1217.588645837914), (<scipy.stats._continuous_distns.invgamma_gen object at 0x0000026C7F0414A8>, (735.6764248378877, -25.751824372045405, 18903.741888096913), 1217.6071546423589), (<scipy.stats._continuous_distns.recipinvgauss_gen object at 0x0000026C7F091278>, (0.0019749099147247703, -21.50633480851377, 0.042399152956339614), 1217.6332816827423), (<scipy.stats._continuous_distns.invgauss_gen object at 0x0000026C7F041390>, (0.007314095780141031, -11.692002016535096, 1594.8492880054764), 1218.606548823991), (<scipy.stats._continuous_distns.weibull_max_gen object at 0x0000026C7F004048>, (4.515748365773803, 4.59750174163127, 4.969526605003482), 1220.9348237159304), (<scipy.stats._continuous_distns.frechet_l_gen object at 0x0000026C7F004518>, (4.515748365773803, 4.59750174163127, 4.969526605003482), 1220.9348237159304), (<scipy.stats._continuous_distns.genextreme_gen object at 0x0000026C7F004FD0>, (0.22144126697574407, -0.37207368138042807, 1.1004849432057076), 1220.9349190981438), (<scipy.stats._continuous_distns.gausshyper_gen object at 0x0000026C7F034E48>, (5.54925791182519, 13.51661426848819, -54.43246143389395, 39.13449757406936, -22.78951865192741, 28.006967185964967), 1221.6796817905538), (<scipy.stats._continuous_distns.gumbel_l_gen object at 0x0000026C7F0345C0>, (0.45633900735650584, 1.2408816077035727), 1223.3784752845568), (<scipy.stats._continuous_distns.gompertz_gen object at 0x0000026C7F027D30>, (0.04456056835315636, -3.745387271043949, 1.3208144644466673), 1223.4190632434306), (<scipy.stats._continuous_distns.betaprime_gen object at 0x0000026C7EFD3D30>, (12.118946862987753, 32445639856796.21, -5.02589041416431, 13644604216078.168), 1223.8812677052256), (<scipy.stats._continuous_distns.triang_gen object at 0x0000026C7F091C50>, (0.5027532445593959, -3.919694072180272, 7.880683490518336), 1224.0868730136426), (<scipy.stats._continuous_distns.gumbel_r_gen object at 0x0000026C7F027FD0>, (-0.5224193586513952, 1.2978527063790974), 1224.3833103905004), (<scipy.stats._continuous_distns.invweibull_gen object at 0x0000026C7F041B70>, (81113637.40444124, -105276912.62342821, 105276912.10100815), 1224.3835695518158), (<scipy.stats._continuous_distns.burr_gen object at 0x0000026C7EFE02B0>, (3958.2593755993967, 12109.384217363047, -5132.269583705431, 5119.570893385022), 1224.384668255482), (<scipy.stats._continuous_distns.cosine_gen object at 0x0000026C7EFE8208>, (-0.0041776654381497505, 1.3099079716479918), 1225.3217199453645), (<scipy.stats._continuous_distns.norminvgauss_gen object at 0x0000026C7F041C50>, (0.00015780958986603776, 0.00015488933082592862, 0.04234425599581737, 7.425876932897878e-05), 1225.9303916911715), (<scipy.stats._continuous_distns.maxwell_gen object at 0x0000026C7F05EF28>, (-3.9398887686579367, 2.3261334138423053), 1225.9693119350754), (<scipy.stats._continuous_distns.moyal_gen object at 0x0000026C7F06A630>, (-0.7846210235201979, 0.9995195633560869), 1226.4824105463254), (<scipy.stats._continuous_distns.kstwobign_gen object at 0x0000026C7EFC4CF8>, (-5.913141991898458, 6.881938080242412), 1226.7400439560372), (<scipy.stats._continuous_distns.anglit_gen object at 0x0000026C7EFD3470>, (0.02005787972187565, 5.014072967766568), 1227.3446279041434), (<scipy.stats._continuous_distns.rayleigh_gen object at 0x0000026C7F0867B8>, (-3.8317127478421433, 2.77448109231653), 1228.0313054935052), (<scipy.stats._continuous_distns.genexpon_gen object at 0x0000026C7F004C50>, (0.00024199577296944068, 3.512237447944993, 3.248031234309612e-05, -3.772825071470762, 0.029690396910402546), 1228.036152337051), (<scipy.stats._continuous_distns.kappa3_gen object at 0x0000026C7F06A3C8>, (12.491386943641153, -3.745387265065558, 3.9529246183305187), 1228.45142197194), (<scipy.stats._continuous_distns.loglaplace_gen object at 0x0000026C7F05E438>, (1.0464352706828812, -3.7483275122052566, 3.790672636449129), 1228.876146744016), (<scipy.stats._continuous_distns.genhalflogistic_gen object at 0x0000026C7F027E48>, (0.459874680456022, -3.745387252332325, 3.588693600322186), 1229.0398253258045), (<scipy.stats._continuous_distns.semicircular_gen object at 0x0000026C7F0914E0>, (0.033417362277334446, 3.857160424309918), 1229.0505009095339), (<scipy.stats._continuous_distns.halfgennorm_gen object at 0x0000026C7F0AB588>, (5.838980261206341, -3.7615526409804754, 5.876838465973846), 1229.3214326246912), (<scipy.stats._continuous_distns.argus_gen object at 0x0000026C7F0ABA90>, (2.633479835463706e-05, -4.171213623597505, 8.040116582290764), 1229.3858461898667), (<scipy.stats._continuous_distns.powerlaw_gen object at 0x0000026C7F079DA0>, (1.264775395271092, -3.8000281100343756, 7.630105640973689), 1230.6946730737586), (<scipy.stats._continuous_distns.ksone_gen object at 0x0000026C7EEB1D68>, (1.0596144720956095, -3.745387272840288, 7.575464815639124), 1230.8015944088907), (<scipy.stats._continuous_distns.uniform_gen object at 0x0000026C7F09C6D8>, (-3.745387250524128, 7.575464770662077), 1230.801594408891), (<scipy.stats._continuous_distns.rice_gen object at 0x0000026C7F086FD0>, (1.1174106235868598e-08, -3.776919210415384, 2.167599516547858), 1230.944949050626), (<scipy.stats._continuous_distns.kappa4_gen object at 0x0000026C7F06A4A8>, (1.094278663949014, 1.0295767104554159, -4.482233351374736, 8.563693664434819), 1231.0516568238736), (<scipy.stats._continuous_distns.truncexpon_gen object at 0x0000026C7F091F28>, (0.7447491240772799, -3.745405543114387, 10.171858976863199), 1231.1642596290974), (<scipy.stats._continuous_distns.bradford_gen object at 0x0000026C7EFE0048>, (1.1675217112790717, -3.7453873134891476, 7.575465059616514), 1231.3951476919133), (<scipy.stats._continuous_distns.halfnorm_gen object at 0x0000026C7F034CF8>, (-3.745387251910155, 3.839969427007705), 1231.5792084313287), (<scipy.stats._continuous_distns.wald_gen object at 0x0000026C7F09CE10>, (-4.171253097733789, 5.875504279438246), 1231.6415263191145), (<scipy.stats._continuous_distns.halflogistic_gen object at 0x0000026C7F034A90>, (-3.7453872564411643, 2.453625521204234), 1231.8206127314304), (<scipy.stats._continuous_distns.trapz_gen object at 0x0000026C7F091978>, (1.0, 1.0, -4.728080413969853, 9.090557724794492), 1231.8603691797312), (<scipy.stats._continuous_distns.gilbrat_gen object at 0x0000026C7F05E940>, (-3.9074482127951775, 3.6380489507442415), 1231.9140720841956), (<scipy.stats._continuous_distns.rdist_gen object at 0x0000026C7F086588>, (1.4498868785226522, 0.038976654314101966, 3.7911008658238474), 1232.2179046181436), (<scipy.stats._continuous_distns.halfcauchy_gen object at 0x0000026C7F034828>, (-3.7453872513574447, 3.6720438092022367), 1232.4475499304015), (<scipy.stats._continuous_distns.ncf_gen object at 0x0000026C7F06ADD8>, (2.8472781730941045e-05, 3.078884555542623, 4.271103229707201, -3.7453872509780544, 2.0271933906405076e-05), 1232.9542625476067), (<scipy.stats._continuous_distns.expon_gen object at 0x0000026C7EFE8978>, (-3.745387250524128, 3.7277517041906862), 1233.1463574113186), (<scipy.stats._continuous_distns.levy_gen object at 0x0000026C7F04F9E8>, (-4.0332109328374255, 3.0997803691166306), 1233.242870345132), (<scipy.stats._continuous_distns.levy_l_gen object at 0x0000026C7F04F898>, (4.104911301287261, 3.304298111731878), 1233.2447827683782), (<scipy.stats._continuous_distns.pareto_gen object at 0x0000026C7F079630>, (23104228.461949855, -81034494.96197525, 81034491.21658799), 1233.472734998743), (<scipy.stats._continuous_distns.lomax_gen object at 0x0000026C7F0798D0>, (1.0289769999967984, -3.7453872508853614, 3.654979711214418), 1233.872827554533), (<scipy.stats._continuous_distns.arcsine_gen object at 0x0000026C7EFD3A90>, (-3.745863451748165, 7.575940971886115), 1234.7237820137489), (<scipy.stats._continuous_distns.foldcauchy_gen object at 0x0000026C7EFFA630>, (4.7440145421924267e-08, -3.745387349741405, 2.185344655958709), 1235.3400920482777), (<scipy.stats._continuous_distns.ncx2_gen object at 0x0000026C7F06AB38>, (1.5622258747972921, 1.0424790718745993, -3.7453872505241286, 1.0352188762831447), 1235.6624478944443), (<scipy.stats._continuous_distns.tukeylambda_gen object at 0x0000026C7F09C438>, (-2.615735458942525, 0.0423451348069101, 1.2823355653650873e-20), 1236.0290035395117), (<scipy.stats._continuous_distns.johnsonsu_gen object at 0x0000026C7F04F4A8>, (-1.668134882973935, 0.5399830935731649, 0.04234510046074902, 5.268164605516536e-08), 1236.0291981921957), (<scipy.stats._continuous_distns.t_gen object at 0x0000026C7F079128>, (0.6492064221264079, 0.0423451348069101, 1.5327464187783026e-18), 1236.029198445268), (<scipy.stats._continuous_distns.cauchy_gen object at 0x0000026C7EFE0A90>, (0.0423451348069101, 5.421010862427522e-20), 1236.0291984977287), (<scipy.stats._continuous_distns.nct_gen object at 0x0000026C7F079358>, (1.332531629383199, -0.31658241984064794, 0.0423451348069101, 2.5629729963241503e-19), 1236.0291984977287), (<scipy.stats._continuous_distns.alpha_gen object at 0x0000026C7EFD3240>, (1.9590378704640356e-09, -4.225357435416587, 1.7627997182811397), 1236.4006899644971), (<scipy.stats._continuous_distns.genpareto_gen object at 0x0000026C7F0049E8>, (-0.2850508497817086, -3.7453872674090127, 2.4709263350550774), 1236.991543826096), (<scipy.stats._continuous_distns.foldnorm_gen object at 0x0000026C7EFFAB00>, (6.8805753706921666e-06, -3.745387250815713, 2.1734702575129052), 1239.0198453923922), (<scipy.stats._continuous_distns.fisk_gen object at 0x0000026C7EFE0828>, (0.9690554890627254, -3.7453872505241286, 1.2158775280681444), 1241.4801173906021), (<scipy.stats._continuous_distns.exponweib_gen object at 0x0000026C7EFE8E48>, (1.2443374573159647, 0.5347162615070178, -3.7453872505241286, 1.2736472298157837), 1245.6432841656922), (<scipy.stats._continuous_distns.f_gen object at 0x0000026C7EFFA898>, (0.8878054390885946, 1.035840649983737, -3.7453872505241286, 1.1195318966960413), 1247.8749918185483), (<scipy.stats._continuous_distns.weibull_min_gen object at 0x0000026C7EFFADA0>, (0.5766910130825444, -3.7453872505241286, 1.369477888971927), 1250.2847440766486), (<scipy.stats._continuous_distns.frechet_r_gen object at 0x0000026C7F0042E8>, (0.5766910130825444, -3.7453872505241286, 1.369477888971927), 1250.2847440766486), (<scipy.stats._continuous_distns.nakagami_gen object at 0x0000026C7F06A898>, (0.18724829110306948, -3.7453872505241286, 1.8974246546967075), 1253.8000218486727), (<scipy.stats._continuous_distns.chi2_gen object at 0x0000026C7EFE0F98>, (1.0479679483714355, -3.7453872505241286, 1.1368311924184622), 1254.5338153351445), (<scipy.stats._continuous_distns.chi_gen object at 0x0000026C7EFE0D30>, (0.5047362114139078, -3.7453872505241286, 1.6830066890653468), 1258.8080834598059), (<scipy.stats._continuous_distns.exponpow_gen object at 0x0000026C7EFFA4E0>, (0.3521416820836699, -3.7453872505241286, 1.5888401325032255), 1270.0158896026478), (<scipy.stats._continuous_distns.reciprocal_gen object at 0x0000026C7F086DD8>, (0.08619135065819941, 1.9513976905057218, 0.0027506682357406834, 0.4389181863623349), 1329.8844684157893), (<scipy.stats._continuous_distns.reciprocal_gen object at 0x0000026C7F086CF8>, (0.08619135065819941, 1.9513976905057218, 0.0027506682357406834, 0.4389181863623349), 1329.8844684157893), (<scipy.stats._continuous_distns.vonmises_gen object at 0x0000026C7F09CCF8>, (1.5783591526047898, -0.02244761555828672, 0.00031235458091831154), 144685087.64772367), (<scipy.stats._continuous_distns.wrapcauchy_gen object at 0x0000026C7F0AB0B8>, (1.0, -4.502933727590336, 1.4468071973632568), nan)]\n",
      "-0.059276    0.208265\n",
      "-0.059229    0.208523\n",
      "-0.059181    0.208780\n",
      "-0.059134    0.209038\n",
      "-0.059087    0.209297\n",
      "               ...   \n",
      " 0.143777    0.209297\n",
      " 0.143824    0.209038\n",
      " 0.143872    0.208780\n",
      " 0.143919    0.208523\n",
      " 0.143966    0.208265\n",
      "Length: 4287, dtype: float64\n",
      "4287\n",
      "0.0423451348069101\n"
     ]
    }
   ],
   "source": [
    "\n",
    "best_dist = best_d[0]\n",
    "print(best_d)\n",
    "pdf = make_pdf(best_dist[0], best_dist[1], size=timestep_dataframe[examined_feature].shape[0])\n",
    "print(pdf)\n",
    "print(timestep_dataframe[examined_feature].shape[0])\n",
    "print(timestep_dataframe[examined_feature][0])\n"
   ]
  },
  {
   "cell_type": "code",
   "execution_count": 8,
   "metadata": {},
   "outputs": [
    {
     "name": "stdout",
     "output_type": "stream",
     "text": [
      "-0.059276    0.208265\n",
      "-0.059229    0.208523\n",
      "-0.059181    0.208780\n",
      "-0.059134    0.209038\n",
      "-0.059087    0.209297\n",
      "               ...   \n",
      " 0.143777    0.209297\n",
      " 0.143824    0.209038\n",
      " 0.143872    0.208780\n",
      " 0.143919    0.208523\n",
      " 0.143966    0.208265\n",
      "Length: 4287, dtype: float64\n",
      "count    4287.000000\n",
      "mean       -0.017636\n",
      "std         0.921356\n",
      "min        -3.745387\n",
      "25%         0.042345\n",
      "50%         0.042345\n",
      "75%         0.042345\n",
      "max         3.830078\n",
      "Name: Local_feature_51, dtype: float64\n"
     ]
    }
   ],
   "source": [
    "print(pdf)\n",
    "print(timestep_dataframe[examined_feature].describe())"
   ]
  },
  {
   "cell_type": "code",
   "execution_count": 9,
   "metadata": {},
   "outputs": [
    {
     "data": {
      "text/plain": [
       "Text(0, 0.5, 'Frequency')"
      ]
     },
     "execution_count": 9,
     "metadata": {},
     "output_type": "execute_result"
    },
    {
     "data": {
      "image/png": "[encoded data removed]",
      "text/plain": [
       "<Figure size 864x576 with 1 Axes>"
      ]
     },
     "metadata": {
      "needs_background": "light"
     },
     "output_type": "display_data"
    }
   ],
   "source": [
    "\n",
    "# Plot for comparison\n",
    "data = timestep_dataframe[examined_feature]\n",
    "plt.figure(figsize=(12,8))\n",
    "\n",
    "# Update plots\n",
    "\n",
    "ax = pdf.plot(lw=2, label='PDF', legend=True)\n",
    "data.plot(kind='hist', bins=_bins, density=True, alpha=0.5, label='Data', legend=True, ax=ax)\n",
    "\n",
    "param_names = (best_dist[0].shapes + ', loc, scale').split(', ') if best_dist[0].shapes else ['loc', 'scale']\n",
    "param_str = ', '.join(['{}={:0.2f}'.format(k,v) for k,v in zip(param_names, best_dist[1])])\n",
    "dist_str = '{}({})'.format(best_dist[0].name, param_str)\n",
    "\n",
    "ax.set_title(f'best fit distribution for {examined_feature} \\n' + dist_str)\n",
    "ax.set_xlabel(u'Temp. (°C)')\n",
    "ax.set_ylabel('Frequency')\n",
    "\n",
    "\n"
   ]
  },
  {
   "cell_type": "code",
   "execution_count": 15,
   "metadata": {},
   "outputs": [
    {
     "name": "stdout",
     "output_type": "stream",
     "text": [
      "0        99\n",
      "1        99\n",
      "2        99\n",
      "3       199\n",
      "4        99\n",
      "       ... \n",
      "4282     50\n",
      "4283     99\n",
      "4284     99\n",
      "4285     99\n",
      "4286      0\n",
      "Name: A_binned, Length: 4287, dtype: int64\n"
     ]
    }
   ],
   "source": [
    "num_bins = 200\n",
    "column_to_discretize = examined_feature\n",
    "timestep_dataframe['A_binned'] = pd.cut(timestep_dataframe[column_to_discretize], bins=num_bins, labels=False)\n",
    "\n",
    "print(timestep_dataframe['A_binned'])"
   ]
  }
 ],
 "metadata": {
  "kernelspec": {
   "display_name": "venv",
   "language": "python",
   "name": "python3"
  },
  "language_info": {
   "codemirror_mode": {
    "name": "ipython",
    "version": 3
   },
   "file_extension": ".py",
   "mimetype": "text/x-python",
   "name": "python",
   "nbconvert_exporter": "python",
   "pygments_lexer": "ipython3",
   "version": "3.6.4"
  }
 },
 "nbformat": 4,
 "nbformat_minor": 2
}
