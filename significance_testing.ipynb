{
 "cells": [
  {
   "cell_type": "code",
   "execution_count": 1,
   "metadata": {},
   "outputs": [],
   "source": [
    "import scipy.stats  \n",
    "from helpers import read_csv\n",
    "import pandas as pd\n",
    "import os\n",
    "MINED_SUBGRAPHS_DIR = \"Mined_Subgraphs\""
   ]
  },
  {
   "cell_type": "code",
   "execution_count": 2,
   "metadata": {},
   "outputs": [
    {
     "data": {
      "text/html": [
       "<div>\n",
       "<style scoped>\n",
       "    .dataframe tbody tr th:only-of-type {\n",
       "        vertical-align: middle;\n",
       "    }\n",
       "\n",
       "    .dataframe tbody tr th {\n",
       "        vertical-align: top;\n",
       "    }\n",
       "\n",
       "    .dataframe thead th {\n",
       "        text-align: right;\n",
       "    }\n",
       "</style>\n",
       "<table border=\"1\" class=\"dataframe\">\n",
       "  <thead>\n",
       "    <tr style=\"text-align: right;\">\n",
       "      <th></th>\n",
       "      <th>TimeStep</th>\n",
       "      <th>Sid</th>\n",
       "      <th>Quality</th>\n",
       "      <th>Illicit</th>\n",
       "      <th>Licit</th>\n",
       "      <th>Unknown</th>\n",
       "      <th>size</th>\n",
       "      <th>Illicit Percentage</th>\n",
       "      <th>Licit Percentage</th>\n",
       "      <th>Unknown Percentage</th>\n",
       "    </tr>\n",
       "  </thead>\n",
       "  <tbody>\n",
       "    <tr>\n",
       "      <th>0</th>\n",
       "      <td>1</td>\n",
       "      <td>cf66311b32a9e6a1b5d2ade6a30017bd</td>\n",
       "      <td>3.862327</td>\n",
       "      <td>0</td>\n",
       "      <td>27</td>\n",
       "      <td>2</td>\n",
       "      <td>29</td>\n",
       "      <td>0.000000</td>\n",
       "      <td>0.931034</td>\n",
       "      <td>0.068966</td>\n",
       "    </tr>\n",
       "    <tr>\n",
       "      <th>1</th>\n",
       "      <td>1</td>\n",
       "      <td>638fb8e5a0136114fd55034b363c1a90</td>\n",
       "      <td>1.840160</td>\n",
       "      <td>0</td>\n",
       "      <td>5</td>\n",
       "      <td>7</td>\n",
       "      <td>12</td>\n",
       "      <td>0.000000</td>\n",
       "      <td>0.416667</td>\n",
       "      <td>0.583333</td>\n",
       "    </tr>\n",
       "    <tr>\n",
       "      <th>2</th>\n",
       "      <td>1</td>\n",
       "      <td>346931391532ad3a9a698684ef01d03f</td>\n",
       "      <td>1.532825</td>\n",
       "      <td>0</td>\n",
       "      <td>14</td>\n",
       "      <td>9</td>\n",
       "      <td>23</td>\n",
       "      <td>0.000000</td>\n",
       "      <td>0.608696</td>\n",
       "      <td>0.391304</td>\n",
       "    </tr>\n",
       "    <tr>\n",
       "      <th>3</th>\n",
       "      <td>1</td>\n",
       "      <td>ee5636080dc39ab880fd4ff714115612</td>\n",
       "      <td>0.728633</td>\n",
       "      <td>0</td>\n",
       "      <td>7</td>\n",
       "      <td>14</td>\n",
       "      <td>21</td>\n",
       "      <td>0.000000</td>\n",
       "      <td>0.333333</td>\n",
       "      <td>0.666667</td>\n",
       "    </tr>\n",
       "    <tr>\n",
       "      <th>4</th>\n",
       "      <td>1</td>\n",
       "      <td>3d4ef29c08a03e0c19e2ca4164c0f1bc</td>\n",
       "      <td>1.157214</td>\n",
       "      <td>0</td>\n",
       "      <td>5</td>\n",
       "      <td>10</td>\n",
       "      <td>15</td>\n",
       "      <td>0.000000</td>\n",
       "      <td>0.333333</td>\n",
       "      <td>0.666667</td>\n",
       "    </tr>\n",
       "    <tr>\n",
       "      <th>...</th>\n",
       "      <td>...</td>\n",
       "      <td>...</td>\n",
       "      <td>...</td>\n",
       "      <td>...</td>\n",
       "      <td>...</td>\n",
       "      <td>...</td>\n",
       "      <td>...</td>\n",
       "      <td>...</td>\n",
       "      <td>...</td>\n",
       "      <td>...</td>\n",
       "    </tr>\n",
       "    <tr>\n",
       "      <th>2293</th>\n",
       "      <td>49</td>\n",
       "      <td>fe280d66fd5ca63cc4bdb4fa5bd61f43</td>\n",
       "      <td>0.634068</td>\n",
       "      <td>1</td>\n",
       "      <td>0</td>\n",
       "      <td>11</td>\n",
       "      <td>12</td>\n",
       "      <td>0.083333</td>\n",
       "      <td>0.000000</td>\n",
       "      <td>0.916667</td>\n",
       "    </tr>\n",
       "    <tr>\n",
       "      <th>2294</th>\n",
       "      <td>49</td>\n",
       "      <td>d2d87d4bed6da7c57c37a956b83e5d0c</td>\n",
       "      <td>1.026171</td>\n",
       "      <td>0</td>\n",
       "      <td>1</td>\n",
       "      <td>11</td>\n",
       "      <td>12</td>\n",
       "      <td>0.000000</td>\n",
       "      <td>0.083333</td>\n",
       "      <td>0.916667</td>\n",
       "    </tr>\n",
       "    <tr>\n",
       "      <th>2295</th>\n",
       "      <td>49</td>\n",
       "      <td>ffdf4a7cbea49c98c207261d23077e05</td>\n",
       "      <td>3.299407</td>\n",
       "      <td>0</td>\n",
       "      <td>6</td>\n",
       "      <td>7</td>\n",
       "      <td>13</td>\n",
       "      <td>0.000000</td>\n",
       "      <td>0.461538</td>\n",
       "      <td>0.538462</td>\n",
       "    </tr>\n",
       "    <tr>\n",
       "      <th>2296</th>\n",
       "      <td>49</td>\n",
       "      <td>3d4fb65ca6b97c40b2db67b6709350ee</td>\n",
       "      <td>2.024342</td>\n",
       "      <td>0</td>\n",
       "      <td>3</td>\n",
       "      <td>10</td>\n",
       "      <td>13</td>\n",
       "      <td>0.000000</td>\n",
       "      <td>0.230769</td>\n",
       "      <td>0.769231</td>\n",
       "    </tr>\n",
       "    <tr>\n",
       "      <th>2297</th>\n",
       "      <td>49</td>\n",
       "      <td>ac9396cf4797fe8d53b1576b25328ce0</td>\n",
       "      <td>3.049767</td>\n",
       "      <td>0</td>\n",
       "      <td>3</td>\n",
       "      <td>10</td>\n",
       "      <td>13</td>\n",
       "      <td>0.000000</td>\n",
       "      <td>0.230769</td>\n",
       "      <td>0.769231</td>\n",
       "    </tr>\n",
       "  </tbody>\n",
       "</table>\n",
       "<p>2298 rows × 10 columns</p>\n",
       "</div>"
      ],
      "text/plain": [
       "      TimeStep                               Sid   Quality  Illicit  Licit  \\\n",
       "0            1  cf66311b32a9e6a1b5d2ade6a30017bd  3.862327        0     27   \n",
       "1            1  638fb8e5a0136114fd55034b363c1a90  1.840160        0      5   \n",
       "2            1  346931391532ad3a9a698684ef01d03f  1.532825        0     14   \n",
       "3            1  ee5636080dc39ab880fd4ff714115612  0.728633        0      7   \n",
       "4            1  3d4ef29c08a03e0c19e2ca4164c0f1bc  1.157214        0      5   \n",
       "...        ...                               ...       ...      ...    ...   \n",
       "2293        49  fe280d66fd5ca63cc4bdb4fa5bd61f43  0.634068        1      0   \n",
       "2294        49  d2d87d4bed6da7c57c37a956b83e5d0c  1.026171        0      1   \n",
       "2295        49  ffdf4a7cbea49c98c207261d23077e05  3.299407        0      6   \n",
       "2296        49  3d4fb65ca6b97c40b2db67b6709350ee  2.024342        0      3   \n",
       "2297        49  ac9396cf4797fe8d53b1576b25328ce0  3.049767        0      3   \n",
       "\n",
       "      Unknown  size  Illicit Percentage  Licit Percentage  Unknown Percentage  \n",
       "0           2    29            0.000000          0.931034            0.068966  \n",
       "1           7    12            0.000000          0.416667            0.583333  \n",
       "2           9    23            0.000000          0.608696            0.391304  \n",
       "3          14    21            0.000000          0.333333            0.666667  \n",
       "4          10    15            0.000000          0.333333            0.666667  \n",
       "...       ...   ...                 ...               ...                 ...  \n",
       "2293       11    12            0.083333          0.000000            0.916667  \n",
       "2294       11    12            0.000000          0.083333            0.916667  \n",
       "2295        7    13            0.000000          0.461538            0.538462  \n",
       "2296       10    13            0.000000          0.230769            0.769231  \n",
       "2297       10    13            0.000000          0.230769            0.769231  \n",
       "\n",
       "[2298 rows x 10 columns]"
      ]
     },
     "execution_count": 2,
     "metadata": {},
     "output_type": "execute_result"
    }
   ],
   "source": [
    "data = pd.read_csv(os.path.join(MINED_SUBGRAPHS_DIR, \"Results_sz__min12_max_None_thresh_0_2_True.csv\"))\n",
    "data['Illicit Percentage'] = data[\"Illicit\"] / data[\"size\"]\n",
    "data['Licit Percentage'] = data[\"Licit\"] / data[\"size\"]\n",
    "data['Unknown Percentage'] = data[\"Unknown\"] / data[\"size\"]\n",
    "data"
   ]
  },
  {
   "cell_type": "code",
   "execution_count": 3,
   "metadata": {},
   "outputs": [
    {
     "name": "stdout",
     "output_type": "stream",
     "text": [
      "Mean q1: 1.1152159959711463\n",
      "Mean q2: 2.130126215664835\n",
      "(113,) (188,)\n"
     ]
    }
   ],
   "source": [
    "import numpy as np\n",
    "from sklearn import preprocessing\n",
    "\n",
    "quality_group1 =  data[(data['Illicit Percentage'] >= 0.1) & (data['Unknown Percentage'] >= 0.4)]['Quality'].values\n",
    "min_val = quality_group1.min()\n",
    "max_val = quality_group1.max()\n",
    "quality_group2 = data[(data['Illicit Percentage'] < 0.1) & (data['Unknown Percentage'] < 0.2)]['Quality'].values\n",
    "\n",
    "print(f\"Mean q1: {np.mean(quality_group1)}\")\n",
    "print(f\"Mean q2: {np.mean(quality_group2)}\")\n",
    "# Perform min-max scaling\n",
    "quality_group1 = (quality_group1 - min_val) / (max_val - min_val)\n",
    "\n",
    "\n",
    "min_val = quality_group2.min()\n",
    "max_val = quality_group2.max()\n",
    "quality_group2 = (quality_group2 - min_val) / (max_val - min_val)\n",
    "\n",
    "print(quality_group1.shape, quality_group2.shape)\n",
    "\n"
   ]
  },
  {
   "cell_type": "code",
   "execution_count": 4,
   "metadata": {},
   "outputs": [
    {
     "data": {
      "text/plain": [
       "array([0.49763495, 0.1073773 , 0.55435644, 0.54188482, 0.27659742,\n",
       "       0.23038161, 0.59191924, 0.57561981, 0.87118381, 0.38347722,\n",
       "       0.64459642, 0.45772746, 0.30380721, 0.61711752, 0.44761116,\n",
       "       0.45165387, 0.49185415, 0.35255194, 0.56113823, 0.79870834,\n",
       "       0.06591312, 0.48033853, 0.21673314, 1.        , 0.46716983,\n",
       "       0.51931433, 0.46727109, 0.20264557, 0.80964908, 0.46162331,\n",
       "       0.7723407 , 0.35333466, 0.72081678, 0.7717935 , 0.59464742,\n",
       "       0.57762295, 0.41195485, 0.54045705, 0.61868865, 0.46045765,\n",
       "       0.50166233, 0.42466057, 0.34624712, 0.66698269, 0.26946561,\n",
       "       0.35300423, 0.65129788, 0.82406616, 0.44046765, 0.10653675,\n",
       "       0.79822317, 0.40770354, 0.23847449, 0.36861826, 0.51185726,\n",
       "       0.32333284, 0.13907436, 0.30249988, 0.57600205, 0.36252962,\n",
       "       0.45397246, 0.50766091, 0.13996472, 0.42904277, 0.51014308,\n",
       "       0.40633431, 0.42341548, 0.49628427, 0.46269228, 0.        ,\n",
       "       0.22064138, 0.28737037, 0.83502115, 0.57165787, 0.52684696,\n",
       "       0.5484622 , 0.38820631, 0.21372832, 0.58483656, 0.63827836,\n",
       "       0.76218933, 0.5076902 , 0.19854981, 0.60359386, 0.87579008,\n",
       "       0.6488881 , 0.59805515, 0.68748909, 0.69124444, 0.70889936,\n",
       "       0.74513305, 0.60691703, 0.65435631, 0.62835952, 0.17067266,\n",
       "       0.82712576, 0.51453302, 0.50569665, 0.70061964, 0.72538214,\n",
       "       0.86478583, 0.60570466, 0.44163452, 0.47206815, 0.45443516,\n",
       "       0.3581689 , 0.98979465, 0.62470632, 0.60322889, 0.50973755,\n",
       "       0.58073071, 0.52994629, 0.70173049])"
      ]
     },
     "execution_count": 4,
     "metadata": {},
     "output_type": "execute_result"
    }
   ],
   "source": [
    "quality_group1"
   ]
  },
  {
   "cell_type": "code",
   "execution_count": 5,
   "metadata": {},
   "outputs": [
    {
     "data": {
      "text/plain": [
       "array([0.31582656, 0.60286623, 0.08560858, 0.0792339 , 0.08248264,\n",
       "       0.05080605, 0.04326936, 0.04987607, 0.0642461 , 0.07052043,\n",
       "       0.07417198, 0.05509112, 0.06938795, 0.07103626, 0.09493985,\n",
       "       0.12905382, 0.10477831, 0.12736433, 0.00916672, 0.11963921,\n",
       "       0.13865518, 0.1432805 , 0.10930703, 0.12648241, 0.12287745,\n",
       "       0.14152891, 0.14962384, 0.12128848, 0.11553139, 0.1059768 ,\n",
       "       0.09327596, 0.09247921, 0.00810114, 0.06178408, 0.16497239,\n",
       "       0.16055487, 0.01903469, 0.20439582, 0.1437675 , 0.27295255,\n",
       "       0.34145142, 0.3383648 , 0.21590187, 0.213955  , 0.07404501,\n",
       "       0.08670683, 0.17153022, 0.21389981, 0.22631781, 0.17396816,\n",
       "       0.12639482, 0.18057647, 0.04935178, 0.20228378, 0.04654619,\n",
       "       0.19593136, 0.11947551, 0.18759913, 0.21982986, 0.19159443,\n",
       "       0.36631159, 0.08985568, 1.        , 0.32468144, 0.13052086,\n",
       "       0.19933648, 0.16708623, 0.32623037, 0.12792482, 0.11301191,\n",
       "       0.08184179, 0.09344113, 0.08792322, 0.08809937, 0.09763326,\n",
       "       0.08612282, 0.10268801, 0.16876666, 0.09809133, 0.16528033,\n",
       "       0.15988756, 0.23410513, 0.23886614, 0.25028501, 0.22895756,\n",
       "       0.21764296, 0.17521606, 0.18886711, 0.170349  , 0.2210163 ,\n",
       "       0.19404545, 0.1406302 , 0.23721823, 0.20168016, 0.16915226,\n",
       "       0.23302326, 0.16623711, 0.1708986 , 0.15274826, 0.11173415,\n",
       "       0.08811861, 0.14736961, 0.22160927, 0.22976038, 0.19175041,\n",
       "       0.03907669, 0.00353796, 0.13267683, 0.06804315, 0.08450293,\n",
       "       0.0226069 , 0.0704724 , 0.10282956, 0.05984748, 0.07432707,\n",
       "       0.0830618 , 0.71339647, 0.29510621, 0.50330673, 0.11500137,\n",
       "       0.16526719, 0.02243962, 0.06747193, 0.11695937, 0.14206537,\n",
       "       0.08925902, 0.16385621, 0.21695088, 0.0288092 , 0.08022441,\n",
       "       0.0372007 , 0.01163698, 0.10806833, 0.13004791, 0.08443206,\n",
       "       0.07169051, 0.08133369, 0.12162558, 0.16734872, 0.11127176,\n",
       "       0.09538811, 0.17586746, 0.00487287, 0.08884753, 0.08838647,\n",
       "       0.16768914, 0.12027132, 0.1040905 , 0.01025742, 0.05230202,\n",
       "       0.09374919, 0.22612571, 0.25486463, 0.5925213 , 0.49322661,\n",
       "       0.46230922, 0.3374713 , 0.43719318, 0.46378173, 0.42700049,\n",
       "       0.06759254, 0.11910574, 0.13439418, 0.16727311, 0.21359227,\n",
       "       0.17133288, 0.05177044, 0.07054344, 0.03105062, 0.06093965,\n",
       "       0.07205909, 0.42473085, 0.0523107 , 0.06415628, 0.16883349,\n",
       "       0.20719353, 0.11995182, 0.06302495, 0.03343901, 0.15833228,\n",
       "       0.20737427, 0.19589358, 0.06223651, 0.02533598, 0.01858475,\n",
       "       0.        , 0.2847652 , 0.18890134])"
      ]
     },
     "execution_count": 5,
     "metadata": {},
     "output_type": "execute_result"
    }
   ],
   "source": [
    "quality_group2"
   ]
  },
  {
   "cell_type": "markdown",
   "metadata": {},
   "source": [
    "Perform a Shapiro-Wilk to see if the data do not deviate significantly from the normal distribution. "
   ]
  },
  {
   "cell_type": "code",
   "execution_count": 6,
   "metadata": {},
   "outputs": [
    {
     "name": "stdout",
     "output_type": "stream",
     "text": [
      "variances 0.04028854356505727 0.017067582239323854\n",
      "ShapiroResult(statistic=0.9930152893066406, pvalue=0.8414624929428101)\n",
      "ShapiroResult(statistic=0.7747564315795898, pvalue=1.0281171564324818e-15)\n"
     ]
    }
   ],
   "source": [
    "print(\"variances\",np.var(quality_group1), np.var(quality_group2))\n",
    "\n",
    "\n",
    "from scipy import stats\n",
    "print(stats.shapiro(quality_group1))\n",
    "print(stats.shapiro(quality_group2))\n"
   ]
  },
  {
   "cell_type": "markdown",
   "metadata": {},
   "source": [
    "Null Hypothesis (H0):\n",
    "The mean score in quality group 1 is equal to the mean score in quality group 2. In other words, there is no significant difference in scores between the two group\n",
    "Alternative Hypothesis (H1):\n",
    "The mean score in quality group 1 is not equal to the mean score in quality group 2. This suggests that there is a significant difference in scores between the two groups."
   ]
  },
  {
   "cell_type": "code",
   "execution_count": 7,
   "metadata": {},
   "outputs": [
    {
     "name": "stdout",
     "output_type": "stream",
     "text": [
      "\n",
      " Welch's t-test= 16.6133 \n",
      " p-value = 2.0915826685772174e-37 \n",
      " Welch-Satterthwaite Degrees of Freedom= 169.7088\n"
     ]
    }
   ],
   "source": [
    "from scipy.stats import ttest_ind\n",
    "from sklearn import preprocessing\n",
    "\n",
    "alpha = 0.05\n",
    "## Welch-Satterthwaite Degrees of Freedom ##\n",
    "dof = (quality_group1.var()/quality_group1.size + quality_group2.var()/quality_group2.size)**2 / ((quality_group1.var()/quality_group1.size)**2 / (quality_group1.size-1) + (quality_group2.var()/quality_group2.size)**2 / (quality_group2.size-1))\n",
    "\n",
    "t, p = ttest_ind(quality_group1, quality_group2, equal_var=False)\n",
    "\n",
    "print(\"\\n\",\n",
    "        f\"Welch's t-test= {t:.4f}\", \"\\n\",\n",
    "        f\"p-value = {p}\", \"\\n\",\n",
    "        f\"Welch-Satterthwaite Degrees of Freedom= {dof:.4f}\")\n"
   ]
  },
  {
   "cell_type": "code",
   "execution_count": 8,
   "metadata": {},
   "outputs": [
    {
     "name": "stdout",
     "output_type": "stream",
     "text": [
      "Reject the null hypothesis. There is a significant difference between the two groups.\n"
     ]
    }
   ],
   "source": [
    "if p < alpha:\n",
    "    print(\"Reject the null hypothesis. There is a significant difference between the two groups.\")\n",
    "else:\n",
    "    print(\"Fail to reject the null hypothesis. There is no significant difference between the two groups.\")"
   ]
  }
 ],
 "metadata": {
  "kernelspec": {
   "display_name": "venv",
   "language": "python",
   "name": "python3"
  },
  "language_info": {
   "codemirror_mode": {
    "name": "ipython",
    "version": 3
   },
   "file_extension": ".py",
   "mimetype": "text/x-python",
   "name": "python",
   "nbconvert_exporter": "python",
   "pygments_lexer": "ipython3",
   "version": "3.10.11"
  }
 },
 "nbformat": 4,
 "nbformat_minor": 2
}
