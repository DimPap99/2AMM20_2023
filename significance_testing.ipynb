{
 "cells": [
  {
   "cell_type": "code",
   "execution_count": 9,
   "metadata": {},
   "outputs": [],
   "source": [
    "import scipy.stats  \n",
    "from helpers import read_csv\n",
    "import pandas as pd"
   ]
  },
  {
   "cell_type": "code",
   "execution_count": 10,
   "metadata": {},
   "outputs": [
    {
     "data": {
      "text/html": [
       "<div>\n",
       "<style scoped>\n",
       "    .dataframe tbody tr th:only-of-type {\n",
       "        vertical-align: middle;\n",
       "    }\n",
       "\n",
       "    .dataframe tbody tr th {\n",
       "        vertical-align: top;\n",
       "    }\n",
       "\n",
       "    .dataframe thead th {\n",
       "        text-align: right;\n",
       "    }\n",
       "</style>\n",
       "<table border=\"1\" class=\"dataframe\">\n",
       "  <thead>\n",
       "    <tr style=\"text-align: right;\">\n",
       "      <th></th>\n",
       "      <th>TimeStep</th>\n",
       "      <th>Sid</th>\n",
       "      <th>Quality</th>\n",
       "      <th>Illicit</th>\n",
       "      <th>Licit</th>\n",
       "      <th>Unknown</th>\n",
       "      <th>size</th>\n",
       "      <th>i</th>\n",
       "      <th>l</th>\n",
       "      <th>u</th>\n",
       "    </tr>\n",
       "  </thead>\n",
       "  <tbody>\n",
       "    <tr>\n",
       "      <th>0</th>\n",
       "      <td>1</td>\n",
       "      <td>cf66311b32a9e6a1b5d2ade6a30017bd</td>\n",
       "      <td>3.862327</td>\n",
       "      <td>0</td>\n",
       "      <td>27</td>\n",
       "      <td>2</td>\n",
       "      <td>29</td>\n",
       "      <td>0.000000</td>\n",
       "      <td>0.931034</td>\n",
       "      <td>0.068966</td>\n",
       "    </tr>\n",
       "    <tr>\n",
       "      <th>1</th>\n",
       "      <td>1</td>\n",
       "      <td>638fb8e5a0136114fd55034b363c1a90</td>\n",
       "      <td>1.840160</td>\n",
       "      <td>0</td>\n",
       "      <td>5</td>\n",
       "      <td>7</td>\n",
       "      <td>12</td>\n",
       "      <td>0.000000</td>\n",
       "      <td>0.416667</td>\n",
       "      <td>0.583333</td>\n",
       "    </tr>\n",
       "    <tr>\n",
       "      <th>2</th>\n",
       "      <td>1</td>\n",
       "      <td>346931391532ad3a9a698684ef01d03f</td>\n",
       "      <td>1.532825</td>\n",
       "      <td>0</td>\n",
       "      <td>14</td>\n",
       "      <td>9</td>\n",
       "      <td>23</td>\n",
       "      <td>0.000000</td>\n",
       "      <td>0.608696</td>\n",
       "      <td>0.391304</td>\n",
       "    </tr>\n",
       "    <tr>\n",
       "      <th>3</th>\n",
       "      <td>1</td>\n",
       "      <td>ee5636080dc39ab880fd4ff714115612</td>\n",
       "      <td>0.728633</td>\n",
       "      <td>0</td>\n",
       "      <td>7</td>\n",
       "      <td>14</td>\n",
       "      <td>21</td>\n",
       "      <td>0.000000</td>\n",
       "      <td>0.333333</td>\n",
       "      <td>0.666667</td>\n",
       "    </tr>\n",
       "    <tr>\n",
       "      <th>4</th>\n",
       "      <td>1</td>\n",
       "      <td>3d4ef29c08a03e0c19e2ca4164c0f1bc</td>\n",
       "      <td>1.157214</td>\n",
       "      <td>0</td>\n",
       "      <td>5</td>\n",
       "      <td>10</td>\n",
       "      <td>15</td>\n",
       "      <td>0.000000</td>\n",
       "      <td>0.333333</td>\n",
       "      <td>0.666667</td>\n",
       "    </tr>\n",
       "    <tr>\n",
       "      <th>...</th>\n",
       "      <td>...</td>\n",
       "      <td>...</td>\n",
       "      <td>...</td>\n",
       "      <td>...</td>\n",
       "      <td>...</td>\n",
       "      <td>...</td>\n",
       "      <td>...</td>\n",
       "      <td>...</td>\n",
       "      <td>...</td>\n",
       "      <td>...</td>\n",
       "    </tr>\n",
       "    <tr>\n",
       "      <th>2293</th>\n",
       "      <td>49</td>\n",
       "      <td>fe280d66fd5ca63cc4bdb4fa5bd61f43</td>\n",
       "      <td>0.634068</td>\n",
       "      <td>1</td>\n",
       "      <td>0</td>\n",
       "      <td>11</td>\n",
       "      <td>12</td>\n",
       "      <td>0.083333</td>\n",
       "      <td>0.000000</td>\n",
       "      <td>0.916667</td>\n",
       "    </tr>\n",
       "    <tr>\n",
       "      <th>2294</th>\n",
       "      <td>49</td>\n",
       "      <td>d2d87d4bed6da7c57c37a956b83e5d0c</td>\n",
       "      <td>1.026171</td>\n",
       "      <td>0</td>\n",
       "      <td>1</td>\n",
       "      <td>11</td>\n",
       "      <td>12</td>\n",
       "      <td>0.000000</td>\n",
       "      <td>0.083333</td>\n",
       "      <td>0.916667</td>\n",
       "    </tr>\n",
       "    <tr>\n",
       "      <th>2295</th>\n",
       "      <td>49</td>\n",
       "      <td>ffdf4a7cbea49c98c207261d23077e05</td>\n",
       "      <td>3.299407</td>\n",
       "      <td>0</td>\n",
       "      <td>6</td>\n",
       "      <td>7</td>\n",
       "      <td>13</td>\n",
       "      <td>0.000000</td>\n",
       "      <td>0.461538</td>\n",
       "      <td>0.538462</td>\n",
       "    </tr>\n",
       "    <tr>\n",
       "      <th>2296</th>\n",
       "      <td>49</td>\n",
       "      <td>3d4fb65ca6b97c40b2db67b6709350ee</td>\n",
       "      <td>2.024342</td>\n",
       "      <td>0</td>\n",
       "      <td>3</td>\n",
       "      <td>10</td>\n",
       "      <td>13</td>\n",
       "      <td>0.000000</td>\n",
       "      <td>0.230769</td>\n",
       "      <td>0.769231</td>\n",
       "    </tr>\n",
       "    <tr>\n",
       "      <th>2297</th>\n",
       "      <td>49</td>\n",
       "      <td>ac9396cf4797fe8d53b1576b25328ce0</td>\n",
       "      <td>3.049767</td>\n",
       "      <td>0</td>\n",
       "      <td>3</td>\n",
       "      <td>10</td>\n",
       "      <td>13</td>\n",
       "      <td>0.000000</td>\n",
       "      <td>0.230769</td>\n",
       "      <td>0.769231</td>\n",
       "    </tr>\n",
       "  </tbody>\n",
       "</table>\n",
       "<p>2298 rows × 10 columns</p>\n",
       "</div>"
      ],
      "text/plain": [
       "      TimeStep                               Sid   Quality  Illicit  Licit  \\\n",
       "0            1  cf66311b32a9e6a1b5d2ade6a30017bd  3.862327        0     27   \n",
       "1            1  638fb8e5a0136114fd55034b363c1a90  1.840160        0      5   \n",
       "2            1  346931391532ad3a9a698684ef01d03f  1.532825        0     14   \n",
       "3            1  ee5636080dc39ab880fd4ff714115612  0.728633        0      7   \n",
       "4            1  3d4ef29c08a03e0c19e2ca4164c0f1bc  1.157214        0      5   \n",
       "...        ...                               ...       ...      ...    ...   \n",
       "2293        49  fe280d66fd5ca63cc4bdb4fa5bd61f43  0.634068        1      0   \n",
       "2294        49  d2d87d4bed6da7c57c37a956b83e5d0c  1.026171        0      1   \n",
       "2295        49  ffdf4a7cbea49c98c207261d23077e05  3.299407        0      6   \n",
       "2296        49  3d4fb65ca6b97c40b2db67b6709350ee  2.024342        0      3   \n",
       "2297        49  ac9396cf4797fe8d53b1576b25328ce0  3.049767        0      3   \n",
       "\n",
       "      Unknown  size         i         l         u  \n",
       "0           2    29  0.000000  0.931034  0.068966  \n",
       "1           7    12  0.000000  0.416667  0.583333  \n",
       "2           9    23  0.000000  0.608696  0.391304  \n",
       "3          14    21  0.000000  0.333333  0.666667  \n",
       "4          10    15  0.000000  0.333333  0.666667  \n",
       "...       ...   ...       ...       ...       ...  \n",
       "2293       11    12  0.083333  0.000000  0.916667  \n",
       "2294       11    12  0.000000  0.083333  0.916667  \n",
       "2295        7    13  0.000000  0.461538  0.538462  \n",
       "2296       10    13  0.000000  0.230769  0.769231  \n",
       "2297       10    13  0.000000  0.230769  0.769231  \n",
       "\n",
       "[2298 rows x 10 columns]"
      ]
     },
     "execution_count": 10,
     "metadata": {},
     "output_type": "execute_result"
    }
   ],
   "source": [
    "data = pd.read_csv(\"Results_sz__min12_max_None_thresh_0_15_True.csv\")\n",
    "data"
   ]
  },
  {
   "cell_type": "code",
   "execution_count": 21,
   "metadata": {},
   "outputs": [],
   "source": [
    "quality_group1 = data[(data['i'] >= 0.1) & (data['u'] >= 0.4)]['Quality'].values\n",
    "quality_group2 = data[(data['i'] < 0.1) & (data['u'] < 0.2)]['Quality'].values"
   ]
  },
  {
   "cell_type": "code",
   "execution_count": 22,
   "metadata": {},
   "outputs": [
    {
     "data": {
      "text/plain": [
       "array([1.09201084, 0.35704468, 1.19883354, 1.17534593, 0.67573431,\n",
       "       0.58869678, 1.26957498, 1.23887851, 1.79550961, 0.87701936,\n",
       "       1.3687811 , 1.01685368, 0.72697808, 1.31703052, 0.99780182,\n",
       "       1.00541539, 1.08112395, 0.81877826, 1.21160559, 1.65901767,\n",
       "       0.27895584, 1.05943677, 0.56299284, 2.03810713, 1.03463636,\n",
       "       1.13283929, 1.03482706, 0.53646193, 1.67962221, 1.02419068,\n",
       "       1.60935991, 0.82025236, 1.51232571, 1.60832937, 1.27471292,\n",
       "       1.24265099, 0.93065084, 1.17265703, 1.3199894 , 1.0219954 ,\n",
       "       1.09959555, 0.95457933, 0.80690449, 1.41094082, 0.66230307,\n",
       "       0.81963005, 1.38140184, 1.70677366, 0.98434855, 0.3554617 ,\n",
       "       1.65810396, 0.92264441, 0.60393799, 0.84903572, 1.11879551,\n",
       "       0.76375038, 0.41673926, 0.72451599, 1.23959838, 0.83756908,\n",
       "       1.00978196, 1.11089258, 0.41841607, 0.96283225, 1.11556721,\n",
       "       0.92006577, 0.95223446, 1.08946713, 1.02620386, 0.15482268,\n",
       "       0.57035315, 0.69602283, 1.72740502, 1.23141706, 1.14702537,\n",
       "       1.18773301, 0.8859256 , 0.55733391, 1.25623628, 1.35688239,\n",
       "       1.590242  , 1.11094773, 0.52874845, 1.29156161, 1.80418451,\n",
       "       1.37686355, 1.28113064, 1.4495602 , 1.45663259, 1.48988182,\n",
       "       1.55812017, 1.29782008, 1.38716175, 1.33820239, 0.47624784,\n",
       "       1.71253577, 1.12383473, 1.10719332, 1.47428875, 1.52092358,\n",
       "       1.78346038, 1.29553684, 0.9865461 , 1.04386128, 1.01065335,\n",
       "       0.8293566 , 2.01888754, 1.33132239, 1.29087426, 1.11480348,\n",
       "       1.24850379, 1.15286228, 1.47638081])"
      ]
     },
     "execution_count": 22,
     "metadata": {},
     "output_type": "execute_result"
    }
   ],
   "source": [
    "quality_group1"
   ]
  },
  {
   "cell_type": "code",
   "execution_count": 23,
   "metadata": {},
   "outputs": [
    {
     "data": {
      "text/plain": [
       "array([ 3.86232719,  6.99575454,  1.34918572,  1.27959745,  1.31506189,\n",
       "        0.96926884,  0.88699571,  0.95911693,  1.11598532,  1.18447805,\n",
       "        1.22433973,  1.01604626,  1.1721155 ,  1.19010911,  1.45104921,\n",
       "        1.8234494 ,  1.5584493 ,  1.80500636,  0.51471917,  1.72067617,\n",
       "        1.92826136,  1.97875293,  1.60788648,  1.79537903,  1.75602596,\n",
       "        1.95963197,  2.04799909,  1.73868018,  1.6758338 ,  1.57153247,\n",
       "        1.43288554,  1.42418797,  0.50308688,  1.08910903,  2.21554939,\n",
       "        2.16732609,  0.62244144,  2.64590958,  1.98406917,  3.39429925,\n",
       "        4.14205738,  4.10836265,  2.77151372,  2.75026093,  1.22295368,\n",
       "        1.36117455,  2.28713694,  2.74965848,  2.88521784,  2.31375038,\n",
       "        1.79442283,  2.38588908,  0.95339358,  2.62285382,  0.92276675,\n",
       "        2.55350855,  1.71888916,  2.46255093,  2.81439304,  2.506165  ,\n",
       "        4.41343977,  1.3955486 , 11.33100837,  3.95899029,  1.83946415,\n",
       "        2.59068001,  2.23862473,  3.97589889,  1.81112487,  1.64833027,\n",
       "        1.30806609,  1.43468864,  1.37445319,  1.37637604,  1.48045138,\n",
       "        1.35479935,  1.53563088,  2.256969  ,  1.48545182,  2.21891088,\n",
       "        2.16004155,  2.97022701,  3.02219987,  3.14685231,  2.9140343 ,\n",
       "        2.79052007,  2.32737291,  2.47639265,  2.27424234,  2.82734464,\n",
       "        2.53292118,  1.94982136,  3.00421069,  2.6162644 ,  2.2611783 ,\n",
       "        2.95841694,  2.22935553,  2.28024197,  2.08210643,  1.63438179,\n",
       "        1.37658614,  2.0233911 ,  2.83381777,  2.92279812,  2.50786778,\n",
       "        0.84122701,  0.45327359,  1.8629995 ,  1.15743524,  1.33711606,\n",
       "        0.66143694,  1.18395381,  1.53717608,  1.06796838,  1.22603272,\n",
       "        1.32138414,  8.20234211,  3.6361365 ,  5.90892757,  1.67004793,\n",
       "        2.21876745,  0.65961084,  1.15119955,  1.6914221 ,  1.96548819,\n",
       "        1.38903523,  2.20336477,  2.78296509,  0.72914339,  1.29041016,\n",
       "        0.82074799,  0.54168536,  1.59436435,  1.83430132,  1.33634243,\n",
       "        1.19725105,  1.30251947,  1.7423601 ,  2.24149026,  1.62933412,\n",
       "        1.45594259,  2.33448383,  0.46784591,  1.38454324,  1.3795101 ,\n",
       "        2.24520637,  1.72757655,  1.55094099,  0.52662562,  0.98559948,\n",
       "        1.43805148,  2.88312074,  3.1968451 ,  6.88282562,  5.79888946,\n",
       "        5.46138417,  4.09860891,  5.18720854,  5.4774586 ,  5.07594153,\n",
       "        1.15251623,  1.71485266,  1.88174675,  2.2406648 ,  2.74630124,\n",
       "        2.28498273,  0.97979651,  1.18472928,  0.75361154,  1.07989088,\n",
       "        1.20127468,  5.05116532,  0.9856942 ,  1.11500471,  2.25769845,\n",
       "        2.6764504 ,  1.72408878,  1.10265473,  0.7796841 ,  2.14306359,\n",
       "        2.67842334,  2.55309609,  1.09404788,  0.69122857,  0.61752964,\n",
       "        0.41465194,  3.52325034,  2.47676634])"
      ]
     },
     "execution_count": 23,
     "metadata": {},
     "output_type": "execute_result"
    }
   ],
   "source": [
    "quality_group2"
   ]
  },
  {
   "cell_type": "code",
   "execution_count": 20,
   "metadata": {},
   "outputs": [
    {
     "name": "stdout",
     "output_type": "stream",
     "text": [
      "0.1428938072550716 2.033889804242592\n"
     ]
    }
   ],
   "source": [
    "import numpy as np\n",
    "print(np.var(quality_group1), np.var(quality_group2))"
   ]
  },
  {
   "cell_type": "code",
   "execution_count": 26,
   "metadata": {},
   "outputs": [
    {
     "name": "stdout",
     "output_type": "stream",
     "text": [
      "T-statistic: -9.206598693882128\n",
      "P-value: 2.235131813955832e-17\n"
     ]
    }
   ],
   "source": [
    "from scipy.stats import ttest_ind\n",
    "alpha = 0.05\n",
    "t_stat, p_value = ttest_ind(quality_group1, quality_group2, equal_var=False)\n",
    "print(\"T-statistic:\", t_stat)\n",
    "print(\"P-value:\", p_value)"
   ]
  },
  {
   "cell_type": "code",
   "execution_count": 27,
   "metadata": {},
   "outputs": [
    {
     "ename": "NameError",
     "evalue": "name 'alpha' is not defined",
     "output_type": "error",
     "traceback": [
      "\u001b[1;31m---------------------------------------------------------------------------\u001b[0m",
      "\u001b[1;31mNameError\u001b[0m                                 Traceback (most recent call last)",
      "\u001b[1;32mc:\\Users\\torat\\Desktop\\2AMM20_2023\\significance_testing.ipynb Cell 8\u001b[0m line \u001b[0;36m1\n\u001b[1;32m----> <a href='vscode-notebook-cell:/c%3A/Users/torat/Desktop/2AMM20_2023/significance_testing.ipynb#X10sZmlsZQ%3D%3D?line=0'>1</a>\u001b[0m \u001b[39mif\u001b[39;00m p_value \u001b[39m<\u001b[39m alpha:\n\u001b[0;32m      <a href='vscode-notebook-cell:/c%3A/Users/torat/Desktop/2AMM20_2023/significance_testing.ipynb#X10sZmlsZQ%3D%3D?line=1'>2</a>\u001b[0m     \u001b[39mprint\u001b[39m(\u001b[39m\"\u001b[39m\u001b[39mReject the null hypothesis. There is a significant difference between the two groups.\u001b[39m\u001b[39m\"\u001b[39m)\n\u001b[0;32m      <a href='vscode-notebook-cell:/c%3A/Users/torat/Desktop/2AMM20_2023/significance_testing.ipynb#X10sZmlsZQ%3D%3D?line=2'>3</a>\u001b[0m \u001b[39melse\u001b[39;00m:\n",
      "\u001b[1;31mNameError\u001b[0m: name 'alpha' is not defined"
     ]
    }
   ],
   "source": [
    "if p_value < alpha:\n",
    "    print(\"Reject the null hypothesis. There is a significant difference between the two groups.\")\n",
    "else:\n",
    "    print(\"Fail to reject the null hypothesis. There is no significant difference between the two groups.\")"
   ]
  }
 ],
 "metadata": {
  "kernelspec": {
   "display_name": "venv",
   "language": "python",
   "name": "python3"
  },
  "language_info": {
   "codemirror_mode": {
    "name": "ipython",
    "version": 3
   },
   "file_extension": ".py",
   "mimetype": "text/x-python",
   "name": "python",
   "nbconvert_exporter": "python",
   "pygments_lexer": "ipython3",
   "version": "3.10.11"
  }
 },
 "nbformat": 4,
 "nbformat_minor": 2
}
