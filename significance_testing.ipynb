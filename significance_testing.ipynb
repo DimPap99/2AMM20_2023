{
 "cells": [
  {
   "cell_type": "code",
   "execution_count": 89,
   "metadata": {},
   "outputs": [],
   "source": [
    "import scipy.stats  \n",
    "from helpers import read_csv\n",
    "import pandas as pd"
   ]
  },
  {
   "cell_type": "code",
   "execution_count": 90,
   "metadata": {},
   "outputs": [
    {
     "data": {
      "text/html": [
       "<div>\n",
       "<style scoped>\n",
       "    .dataframe tbody tr th:only-of-type {\n",
       "        vertical-align: middle;\n",
       "    }\n",
       "\n",
       "    .dataframe tbody tr th {\n",
       "        vertical-align: top;\n",
       "    }\n",
       "\n",
       "    .dataframe thead th {\n",
       "        text-align: right;\n",
       "    }\n",
       "</style>\n",
       "<table border=\"1\" class=\"dataframe\">\n",
       "  <thead>\n",
       "    <tr style=\"text-align: right;\">\n",
       "      <th></th>\n",
       "      <th>TimeStep</th>\n",
       "      <th>Sid</th>\n",
       "      <th>Quality</th>\n",
       "      <th>Illicit</th>\n",
       "      <th>Licit</th>\n",
       "      <th>Unknown</th>\n",
       "      <th>size</th>\n",
       "      <th>Illicit Percentage</th>\n",
       "      <th>Licit Percentage</th>\n",
       "      <th>Unknown Percentage</th>\n",
       "    </tr>\n",
       "  </thead>\n",
       "  <tbody>\n",
       "    <tr>\n",
       "      <th>0</th>\n",
       "      <td>1</td>\n",
       "      <td>cf66311b32a9e6a1b5d2ade6a30017bd</td>\n",
       "      <td>4.572299</td>\n",
       "      <td>0</td>\n",
       "      <td>27</td>\n",
       "      <td>2</td>\n",
       "      <td>29</td>\n",
       "      <td>0.0</td>\n",
       "      <td>0.931034</td>\n",
       "      <td>0.068966</td>\n",
       "    </tr>\n",
       "    <tr>\n",
       "      <th>1</th>\n",
       "      <td>1</td>\n",
       "      <td>979c79a6865477b334ab52432cabadd2</td>\n",
       "      <td>2.863519</td>\n",
       "      <td>0</td>\n",
       "      <td>4</td>\n",
       "      <td>8</td>\n",
       "      <td>12</td>\n",
       "      <td>0.0</td>\n",
       "      <td>0.333333</td>\n",
       "      <td>0.666667</td>\n",
       "    </tr>\n",
       "    <tr>\n",
       "      <th>2</th>\n",
       "      <td>1</td>\n",
       "      <td>db845da38b19908ed0c7645e3b54102a</td>\n",
       "      <td>4.364938</td>\n",
       "      <td>0</td>\n",
       "      <td>10</td>\n",
       "      <td>6</td>\n",
       "      <td>16</td>\n",
       "      <td>0.0</td>\n",
       "      <td>0.625000</td>\n",
       "      <td>0.375000</td>\n",
       "    </tr>\n",
       "    <tr>\n",
       "      <th>3</th>\n",
       "      <td>1</td>\n",
       "      <td>a1086a8992e9db9ae699991b7409b202</td>\n",
       "      <td>2.835943</td>\n",
       "      <td>0</td>\n",
       "      <td>3</td>\n",
       "      <td>9</td>\n",
       "      <td>12</td>\n",
       "      <td>0.0</td>\n",
       "      <td>0.250000</td>\n",
       "      <td>0.750000</td>\n",
       "    </tr>\n",
       "    <tr>\n",
       "      <th>4</th>\n",
       "      <td>1</td>\n",
       "      <td>106b634629b8a04cc11be3a8b2276851</td>\n",
       "      <td>20.021298</td>\n",
       "      <td>0</td>\n",
       "      <td>249</td>\n",
       "      <td>46</td>\n",
       "      <td>295</td>\n",
       "      <td>0.0</td>\n",
       "      <td>0.844068</td>\n",
       "      <td>0.155932</td>\n",
       "    </tr>\n",
       "    <tr>\n",
       "      <th>...</th>\n",
       "      <td>...</td>\n",
       "      <td>...</td>\n",
       "      <td>...</td>\n",
       "      <td>...</td>\n",
       "      <td>...</td>\n",
       "      <td>...</td>\n",
       "      <td>...</td>\n",
       "      <td>...</td>\n",
       "      <td>...</td>\n",
       "      <td>...</td>\n",
       "    </tr>\n",
       "    <tr>\n",
       "      <th>3184</th>\n",
       "      <td>49</td>\n",
       "      <td>3d8db488ee04157ea5fc1ec827082d0c</td>\n",
       "      <td>3.056826</td>\n",
       "      <td>0</td>\n",
       "      <td>0</td>\n",
       "      <td>17</td>\n",
       "      <td>17</td>\n",
       "      <td>0.0</td>\n",
       "      <td>0.000000</td>\n",
       "      <td>1.000000</td>\n",
       "    </tr>\n",
       "    <tr>\n",
       "      <th>3185</th>\n",
       "      <td>49</td>\n",
       "      <td>ffdf4a7cbea49c98c207261d23077e05</td>\n",
       "      <td>6.882058</td>\n",
       "      <td>0</td>\n",
       "      <td>6</td>\n",
       "      <td>7</td>\n",
       "      <td>13</td>\n",
       "      <td>0.0</td>\n",
       "      <td>0.461538</td>\n",
       "      <td>0.538462</td>\n",
       "    </tr>\n",
       "    <tr>\n",
       "      <th>3186</th>\n",
       "      <td>49</td>\n",
       "      <td>3d4fb65ca6b97c40b2db67b6709350ee</td>\n",
       "      <td>5.606993</td>\n",
       "      <td>0</td>\n",
       "      <td>3</td>\n",
       "      <td>10</td>\n",
       "      <td>13</td>\n",
       "      <td>0.0</td>\n",
       "      <td>0.230769</td>\n",
       "      <td>0.769231</td>\n",
       "    </tr>\n",
       "    <tr>\n",
       "      <th>3187</th>\n",
       "      <td>49</td>\n",
       "      <td>8f9888c8085ee65a5433f2b89ea4e6cf</td>\n",
       "      <td>7.159238</td>\n",
       "      <td>0</td>\n",
       "      <td>40</td>\n",
       "      <td>5</td>\n",
       "      <td>45</td>\n",
       "      <td>0.0</td>\n",
       "      <td>0.888889</td>\n",
       "      <td>0.111111</td>\n",
       "    </tr>\n",
       "    <tr>\n",
       "      <th>3188</th>\n",
       "      <td>49</td>\n",
       "      <td>ac9396cf4797fe8d53b1576b25328ce0</td>\n",
       "      <td>6.632418</td>\n",
       "      <td>0</td>\n",
       "      <td>3</td>\n",
       "      <td>10</td>\n",
       "      <td>13</td>\n",
       "      <td>0.0</td>\n",
       "      <td>0.230769</td>\n",
       "      <td>0.769231</td>\n",
       "    </tr>\n",
       "  </tbody>\n",
       "</table>\n",
       "<p>3189 rows × 10 columns</p>\n",
       "</div>"
      ],
      "text/plain": [
       "      TimeStep                               Sid    Quality  Illicit  Licit  \\\n",
       "0            1  cf66311b32a9e6a1b5d2ade6a30017bd   4.572299        0     27   \n",
       "1            1  979c79a6865477b334ab52432cabadd2   2.863519        0      4   \n",
       "2            1  db845da38b19908ed0c7645e3b54102a   4.364938        0     10   \n",
       "3            1  a1086a8992e9db9ae699991b7409b202   2.835943        0      3   \n",
       "4            1  106b634629b8a04cc11be3a8b2276851  20.021298        0    249   \n",
       "...        ...                               ...        ...      ...    ...   \n",
       "3184        49  3d8db488ee04157ea5fc1ec827082d0c   3.056826        0      0   \n",
       "3185        49  ffdf4a7cbea49c98c207261d23077e05   6.882058        0      6   \n",
       "3186        49  3d4fb65ca6b97c40b2db67b6709350ee   5.606993        0      3   \n",
       "3187        49  8f9888c8085ee65a5433f2b89ea4e6cf   7.159238        0     40   \n",
       "3188        49  ac9396cf4797fe8d53b1576b25328ce0   6.632418        0      3   \n",
       "\n",
       "      Unknown  size  Illicit Percentage  Licit Percentage  Unknown Percentage  \n",
       "0           2    29                 0.0          0.931034            0.068966  \n",
       "1           8    12                 0.0          0.333333            0.666667  \n",
       "2           6    16                 0.0          0.625000            0.375000  \n",
       "3           9    12                 0.0          0.250000            0.750000  \n",
       "4          46   295                 0.0          0.844068            0.155932  \n",
       "...       ...   ...                 ...               ...                 ...  \n",
       "3184       17    17                 0.0          0.000000            1.000000  \n",
       "3185        7    13                 0.0          0.461538            0.538462  \n",
       "3186       10    13                 0.0          0.230769            0.769231  \n",
       "3187        5    45                 0.0          0.888889            0.111111  \n",
       "3188       10    13                 0.0          0.230769            0.769231  \n",
       "\n",
       "[3189 rows x 10 columns]"
      ]
     },
     "execution_count": 90,
     "metadata": {},
     "output_type": "execute_result"
    }
   ],
   "source": [
    "data = pd.read_csv(\"Results_sz__min12_max_None_thresh_0_2_True.csv\")\n",
    "data['Illicit Percentage'] = data[\"Illicit\"] / data[\"size\"]\n",
    "data['Licit Percentage'] = data[\"Licit\"] / data[\"size\"]\n",
    "data['Unknown Percentage'] = data[\"Unknown\"] / data[\"size\"]\n",
    "data"
   ]
  },
  {
   "cell_type": "code",
   "execution_count": 91,
   "metadata": {},
   "outputs": [
    {
     "name": "stdout",
     "output_type": "stream",
     "text": [
      "Mean q1: 4.119209178117684\n",
      "Mean q2: 6.072930576652326\n",
      "(153,) (175,)\n"
     ]
    }
   ],
   "source": [
    "import numpy as np\n",
    "from sklearn import preprocessing\n",
    "\n",
    "quality_group1 =  data[(data['Illicit Percentage'] >= 0.1) & (data['Unknown Percentage'] >= 0.4)]['Quality'].values\n",
    "min_val = quality_group1.min()\n",
    "max_val = quality_group1.max()\n",
    "quality_group2 = data[(data['Illicit Percentage'] < 0.1) & (data['Unknown Percentage'] < 0.2)]['Quality'].values\n",
    "\n",
    "print(f\"Mean q1: {np.mean(quality_group1)}\")\n",
    "print(f\"Mean q2: {np.mean(quality_group2)}\")\n",
    "# Perform min-max scaling\n",
    "quality_group1 = (quality_group1 - min_val) / (max_val - min_val)\n",
    "\n",
    "\n",
    "min_val = quality_group2.min()\n",
    "max_val = quality_group2.max()\n",
    "quality_group2 = (quality_group2 - min_val) / (max_val - min_val)\n",
    "\n",
    "print(quality_group1.shape, quality_group2.shape)\n",
    "\n"
   ]
  },
  {
   "cell_type": "code",
   "execution_count": 92,
   "metadata": {},
   "outputs": [
    {
     "data": {
      "text/plain": [
       "array([0.23099759, 0.21967373, 0.29507928, 0.11250168, 0.3004034 ,\n",
       "       0.        , 0.28780093, 0.40456902, 0.32465273, 0.43996944,\n",
       "       0.13125189, 0.23781477, 0.3558148 , 0.3003822 , 0.34097432,\n",
       "       0.38903111, 0.24345804, 0.34607272, 0.34427767, 0.38138047,\n",
       "       0.284198  , 0.34867697, 0.35087181, 0.58066142, 0.22938334,\n",
       "       0.17752123, 0.40000042, 0.27032987, 0.41214309, 0.22252245,\n",
       "       0.44880716, 0.27564577, 0.27879242, 0.28593119, 0.32373753,\n",
       "       0.40460194, 0.24510473, 0.16646212, 0.49790375, 0.37927345,\n",
       "       0.26639278, 0.3880254 , 0.38733723, 0.50046264, 0.37490558,\n",
       "       0.24772189, 0.3264512 , 0.30110653, 0.37252219, 0.23380877,\n",
       "       0.27746147, 0.25202168, 0.33366131, 0.25307703, 0.15899928,\n",
       "       0.24459457, 0.32272269, 0.41343818, 0.35331478, 0.53545895,\n",
       "       0.16731584, 0.28977781, 0.29268634, 0.60270514, 0.60019   ,\n",
       "       0.09947037, 0.30480414, 0.0735428 , 0.16337939, 0.23126195,\n",
       "       0.31372003, 0.20964346, 0.24864754, 0.29303719, 0.2795635 ,\n",
       "       0.21240263, 0.21871616, 0.35029242, 0.31112146, 0.31707675,\n",
       "       0.35502542, 0.28301172, 0.23879938, 0.25673228, 0.30197708,\n",
       "       0.37525079, 0.17340503, 0.44617979, 0.20438003, 0.37348359,\n",
       "       0.39244925, 0.42590146, 0.33282468, 0.20399945, 0.26284725,\n",
       "       0.28936753, 0.272402  , 0.4224135 , 0.25504166, 0.35593475,\n",
       "       0.40630183, 0.36895508, 0.23497863, 0.33564436, 0.29474295,\n",
       "       0.36776631, 0.20063907, 0.30290039, 0.24100569, 0.20568   ,\n",
       "       1.        , 0.28542327, 0.39386076, 0.42711767, 0.36266059,\n",
       "       0.35228395, 0.29952792, 0.29726394, 0.32696229, 0.29707475,\n",
       "       0.3076556 , 0.29274826, 0.29988959, 0.32249245, 0.29424124,\n",
       "       0.29407209, 0.3053733 , 0.30966993, 0.18503823, 0.42846224,\n",
       "       0.27660639, 0.32779733, 0.33978348, 0.14392638, 0.39630722,\n",
       "       0.35626034, 0.40176734, 0.23284667, 0.2807353 , 0.50368973,\n",
       "       0.32865568, 0.53930969, 0.26863478, 0.31873299, 0.5262511 ,\n",
       "       0.13050945, 0.45382454, 0.44934468, 0.27305534, 0.4346903 ,\n",
       "       0.36208636, 0.38487671, 0.46829083])"
      ]
     },
     "execution_count": 92,
     "metadata": {},
     "output_type": "execute_result"
    }
   ],
   "source": [
    "quality_group1"
   ]
  },
  {
   "cell_type": "code",
   "execution_count": 93,
   "metadata": {},
   "outputs": [
    {
     "data": {
      "text/plain": [
       "array([0.04768192, 0.641965  , 0.04730248, 0.06282817, 0.03577377,\n",
       "       0.05267629, 0.04933178, 0.05699297, 0.01547756, 0.03444528,\n",
       "       0.04845573, 0.05938579, 0.06982989, 0.05339476, 0.03949915,\n",
       "       0.0705305 , 0.05656353, 0.05338961, 0.03679811, 0.0698742 ,\n",
       "       0.05522438, 0.03775976, 0.06220306, 0.05276181, 0.05012357,\n",
       "       0.07075667, 0.04643216, 0.04549737, 0.0378513 , 0.08318913,\n",
       "       0.00786045, 0.02144484, 0.07043168, 0.05989684, 0.09199483,\n",
       "       0.07643764, 0.25033094, 0.10598726, 0.0861626 , 0.08425014,\n",
       "       0.14977531, 0.0444576 , 0.0345235 , 0.07952403, 0.0961921 ,\n",
       "       0.10240017, 0.07045304, 0.05423203, 0.08609963, 0.03291018,\n",
       "       0.04567085, 0.0198602 , 0.19588112, 0.07797934, 0.27237552,\n",
       "       0.03504027, 0.0339186 , 1.        , 0.12827325, 0.17928136,\n",
       "       0.16339123, 0.14618817, 0.05292067, 0.08457811, 0.11276402,\n",
       "       0.09987996, 0.06237589, 0.10563911, 0.03868019, 0.06231392,\n",
       "       0.09454374, 0.08078756, 0.07526087, 0.0707356 , 0.07245968,\n",
       "       0.10002018, 0.09077688, 0.08264015, 0.10580133, 0.10728724,\n",
       "       0.10032341, 0.10454433, 0.2322828 , 0.1409697 , 0.07620273,\n",
       "       0.22746051, 0.07096277, 0.08859607, 0.06456809, 0.19907308,\n",
       "       0.01427826, 0.04837347, 0.01485   , 0.0538595 , 0.03863504,\n",
       "       0.03705815, 0.06893807, 0.08252561, 0.05269636, 0.0547631 ,\n",
       "       0.03408161, 0.03805434, 0.4181248 , 0.24247467, 0.32990307,\n",
       "       0.16684432, 0.09496298, 0.01459456, 0.        , 0.013024  ,\n",
       "       0.26139425, 0.02816494, 0.0152479 , 0.02155171, 0.01267153,\n",
       "       0.16229304, 0.12904932, 0.01165634, 0.02399994, 0.02930653,\n",
       "       0.11715196, 0.10452397, 0.09066666, 0.09029318, 0.00519647,\n",
       "       0.1871334 , 0.13181365, 0.01356578, 0.01337265, 0.02533893,\n",
       "       0.08935522, 0.04996251, 0.18014143, 0.22557626, 0.06185177,\n",
       "       0.36736641, 0.09523204, 0.08183701, 0.32567019, 0.21517827,\n",
       "       0.31268723, 0.26026479, 0.21486805, 0.20865954, 0.20725836,\n",
       "       0.3021404 , 0.31330557, 0.29786025, 0.05394705, 0.08446588,\n",
       "       0.06219331, 0.05545342, 0.07165634, 0.29690717, 0.01746674,\n",
       "       0.07453597, 0.07733381, 0.20555802, 0.08997579, 0.0256694 ,\n",
       "       0.02221188, 0.13491231, 0.01726415, 0.12793259, 0.02740616,\n",
       "       0.18328145, 0.06058387, 0.0575206 , 0.09633988, 0.05942313,\n",
       "       0.02400351, 0.09103729, 0.23635036, 0.09234159, 0.14719477])"
      ]
     },
     "execution_count": 93,
     "metadata": {},
     "output_type": "execute_result"
    }
   ],
   "source": [
    "quality_group2"
   ]
  },
  {
   "cell_type": "markdown",
   "metadata": {},
   "source": [
    "Perform a Shapiro-Wilk to see if the data do not deviate significantly from the normal distribution. "
   ]
  },
  {
   "cell_type": "code",
   "execution_count": 94,
   "metadata": {},
   "outputs": [
    {
     "name": "stdout",
     "output_type": "stream",
     "text": [
      "variances 0.012998069660836198 0.012823451826460929\n",
      "ShapiroResult(statistic=0.9133420586585999, pvalue=6.360758675327816e-08)\n",
      "ShapiroResult(statistic=0.6580181121826172, pvalue=1.3753238395801735e-18)\n"
     ]
    }
   ],
   "source": [
    "print(\"variances\",np.var(quality_group1), np.var(quality_group2))\n",
    "\n",
    "\n",
    "from scipy import stats\n",
    "print(stats.shapiro(quality_group1))\n",
    "print(stats.shapiro(quality_group2))\n"
   ]
  },
  {
   "cell_type": "markdown",
   "metadata": {},
   "source": [
    "Null Hypothesis (H0):\n",
    "The mean score in quality group 1 is equal to the mean score in quality group 2. In other words, there is no significant difference in scores between the two group\n",
    "Alternative Hypothesis (H1):\n",
    "The mean score in quality group 1 is not equal to the mean score in quality group 2. This suggests that there is a significant difference in scores between the two groups."
   ]
  },
  {
   "cell_type": "code",
   "execution_count": 95,
   "metadata": {},
   "outputs": [
    {
     "name": "stdout",
     "output_type": "stream",
     "text": [
      "\n",
      " Welch's t-test= 16.9507 \n",
      " p-value = 2.0083950367102973e-46 \n",
      " Welch-Satterthwaite Degrees of Freedom= 319.5911\n"
     ]
    }
   ],
   "source": [
    "from scipy.stats import ttest_ind\n",
    "from sklearn import preprocessing\n",
    "\n",
    "alpha = 0.05\n",
    "## Welch-Satterthwaite Degrees of Freedom ##\n",
    "dof = (quality_group1.var()/quality_group1.size + quality_group2.var()/quality_group2.size)**2 / ((quality_group1.var()/quality_group1.size)**2 / (quality_group1.size-1) + (quality_group2.var()/quality_group2.size)**2 / (quality_group2.size-1))\n",
    "\n",
    "t, p = ttest_ind(quality_group1, quality_group2, equal_var=False)\n",
    "\n",
    "print(\"\\n\",\n",
    "        f\"Welch's t-test= {t:.4f}\", \"\\n\",\n",
    "        f\"p-value = {p}\", \"\\n\",\n",
    "        f\"Welch-Satterthwaite Degrees of Freedom= {dof:.4f}\")\n"
   ]
  },
  {
   "cell_type": "code",
   "execution_count": 96,
   "metadata": {},
   "outputs": [
    {
     "name": "stdout",
     "output_type": "stream",
     "text": [
      "Reject the null hypothesis. There is a significant difference between the two groups.\n"
     ]
    }
   ],
   "source": [
    "if p < alpha:\n",
    "    print(\"Reject the null hypothesis. There is a significant difference between the two groups.\")\n",
    "else:\n",
    "    print(\"Fail to reject the null hypothesis. There is no significant difference between the two groups.\")"
   ]
  }
 ],
 "metadata": {
  "kernelspec": {
   "display_name": "venv",
   "language": "python",
   "name": "python3"
  },
  "language_info": {
   "codemirror_mode": {
    "name": "ipython",
    "version": 3
   },
   "file_extension": ".py",
   "mimetype": "text/x-python",
   "name": "python",
   "nbconvert_exporter": "python",
   "pygments_lexer": "ipython3",
   "version": "3.10.11"
  }
 },
 "nbformat": 4,
 "nbformat_minor": 2
}
