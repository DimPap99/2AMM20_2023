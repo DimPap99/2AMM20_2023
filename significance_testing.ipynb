{
 "cells": [
  {
   "cell_type": "code",
   "execution_count": 9,
   "metadata": {},
   "outputs": [],
   "source": [
    "import scipy.stats  \n",
    "from helpers import read_csv\n",
    "import pandas as pd\n",
    "import os\n",
    "MINED_SUBGRAPHS_DIR = \"Mined_Subgraphs\"\n",
    "\n",
    "os.makedirs(MINED_SUBGRAPHS_DIR, exist_ok=True)"
   ]
  },
  {
   "cell_type": "code",
   "execution_count": 10,
   "metadata": {},
   "outputs": [
    {
     "data": {
      "text/html": [
       "<div>\n",
       "<style scoped>\n",
       "    .dataframe tbody tr th:only-of-type {\n",
       "        vertical-align: middle;\n",
       "    }\n",
       "\n",
       "    .dataframe tbody tr th {\n",
       "        vertical-align: top;\n",
       "    }\n",
       "\n",
       "    .dataframe thead th {\n",
       "        text-align: right;\n",
       "    }\n",
       "</style>\n",
       "<table border=\"1\" class=\"dataframe\">\n",
       "  <thead>\n",
       "    <tr style=\"text-align: right;\">\n",
       "      <th></th>\n",
       "      <th>TimeStep</th>\n",
       "      <th>Sid</th>\n",
       "      <th>Quality</th>\n",
       "      <th>Illicit</th>\n",
       "      <th>Licit</th>\n",
       "      <th>Unknown</th>\n",
       "      <th>size</th>\n",
       "      <th>Illicit Percentage</th>\n",
       "      <th>Licit Percentage</th>\n",
       "      <th>Unknown Percentage</th>\n",
       "    </tr>\n",
       "  </thead>\n",
       "  <tbody>\n",
       "    <tr>\n",
       "      <th>0</th>\n",
       "      <td>1</td>\n",
       "      <td>cf66311b32a9e6a1b5d2ade6a30017bd</td>\n",
       "      <td>2.729077</td>\n",
       "      <td>0</td>\n",
       "      <td>27</td>\n",
       "      <td>2</td>\n",
       "      <td>29</td>\n",
       "      <td>0.000000</td>\n",
       "      <td>0.931034</td>\n",
       "      <td>0.068966</td>\n",
       "    </tr>\n",
       "    <tr>\n",
       "      <th>1</th>\n",
       "      <td>1</td>\n",
       "      <td>13f16c8b826cae1bf7ff31e0b8a9ea87</td>\n",
       "      <td>3.138902</td>\n",
       "      <td>0</td>\n",
       "      <td>13</td>\n",
       "      <td>10</td>\n",
       "      <td>23</td>\n",
       "      <td>0.000000</td>\n",
       "      <td>0.565217</td>\n",
       "      <td>0.434783</td>\n",
       "    </tr>\n",
       "    <tr>\n",
       "      <th>2</th>\n",
       "      <td>1</td>\n",
       "      <td>3bdc6f74ae35c63e1408475417baf411</td>\n",
       "      <td>2.965540</td>\n",
       "      <td>0</td>\n",
       "      <td>6</td>\n",
       "      <td>13</td>\n",
       "      <td>19</td>\n",
       "      <td>0.000000</td>\n",
       "      <td>0.315789</td>\n",
       "      <td>0.684211</td>\n",
       "    </tr>\n",
       "    <tr>\n",
       "      <th>3</th>\n",
       "      <td>1</td>\n",
       "      <td>2a7faf89212da3095272dbcf82c2f708</td>\n",
       "      <td>2.381386</td>\n",
       "      <td>0</td>\n",
       "      <td>6</td>\n",
       "      <td>10</td>\n",
       "      <td>16</td>\n",
       "      <td>0.000000</td>\n",
       "      <td>0.375000</td>\n",
       "      <td>0.625000</td>\n",
       "    </tr>\n",
       "    <tr>\n",
       "      <th>4</th>\n",
       "      <td>1</td>\n",
       "      <td>04c00a411eeb89c6282425d4593d00c1</td>\n",
       "      <td>2.521175</td>\n",
       "      <td>0</td>\n",
       "      <td>9</td>\n",
       "      <td>13</td>\n",
       "      <td>22</td>\n",
       "      <td>0.000000</td>\n",
       "      <td>0.409091</td>\n",
       "      <td>0.590909</td>\n",
       "    </tr>\n",
       "    <tr>\n",
       "      <th>...</th>\n",
       "      <td>...</td>\n",
       "      <td>...</td>\n",
       "      <td>...</td>\n",
       "      <td>...</td>\n",
       "      <td>...</td>\n",
       "      <td>...</td>\n",
       "      <td>...</td>\n",
       "      <td>...</td>\n",
       "      <td>...</td>\n",
       "      <td>...</td>\n",
       "    </tr>\n",
       "    <tr>\n",
       "      <th>3539</th>\n",
       "      <td>49</td>\n",
       "      <td>fe280d66fd5ca63cc4bdb4fa5bd61f43</td>\n",
       "      <td>1.993354</td>\n",
       "      <td>1</td>\n",
       "      <td>0</td>\n",
       "      <td>11</td>\n",
       "      <td>12</td>\n",
       "      <td>0.083333</td>\n",
       "      <td>0.000000</td>\n",
       "      <td>0.916667</td>\n",
       "    </tr>\n",
       "    <tr>\n",
       "      <th>3540</th>\n",
       "      <td>49</td>\n",
       "      <td>ffdf4a7cbea49c98c207261d23077e05</td>\n",
       "      <td>5.090733</td>\n",
       "      <td>0</td>\n",
       "      <td>6</td>\n",
       "      <td>7</td>\n",
       "      <td>13</td>\n",
       "      <td>0.000000</td>\n",
       "      <td>0.461538</td>\n",
       "      <td>0.538462</td>\n",
       "    </tr>\n",
       "    <tr>\n",
       "      <th>3541</th>\n",
       "      <td>49</td>\n",
       "      <td>3d4fb65ca6b97c40b2db67b6709350ee</td>\n",
       "      <td>3.815668</td>\n",
       "      <td>0</td>\n",
       "      <td>3</td>\n",
       "      <td>10</td>\n",
       "      <td>13</td>\n",
       "      <td>0.000000</td>\n",
       "      <td>0.230769</td>\n",
       "      <td>0.769231</td>\n",
       "    </tr>\n",
       "    <tr>\n",
       "      <th>3542</th>\n",
       "      <td>49</td>\n",
       "      <td>02a24459801710948003c12ab6b64230</td>\n",
       "      <td>2.859441</td>\n",
       "      <td>0</td>\n",
       "      <td>10</td>\n",
       "      <td>3</td>\n",
       "      <td>13</td>\n",
       "      <td>0.000000</td>\n",
       "      <td>0.769231</td>\n",
       "      <td>0.230769</td>\n",
       "    </tr>\n",
       "    <tr>\n",
       "      <th>3543</th>\n",
       "      <td>49</td>\n",
       "      <td>ac9396cf4797fe8d53b1576b25328ce0</td>\n",
       "      <td>4.841092</td>\n",
       "      <td>0</td>\n",
       "      <td>3</td>\n",
       "      <td>10</td>\n",
       "      <td>13</td>\n",
       "      <td>0.000000</td>\n",
       "      <td>0.230769</td>\n",
       "      <td>0.769231</td>\n",
       "    </tr>\n",
       "  </tbody>\n",
       "</table>\n",
       "<p>3544 rows × 10 columns</p>\n",
       "</div>"
      ],
      "text/plain": [
       "      TimeStep                               Sid   Quality  Illicit  Licit  \\\n",
       "0            1  cf66311b32a9e6a1b5d2ade6a30017bd  2.729077        0     27   \n",
       "1            1  13f16c8b826cae1bf7ff31e0b8a9ea87  3.138902        0     13   \n",
       "2            1  3bdc6f74ae35c63e1408475417baf411  2.965540        0      6   \n",
       "3            1  2a7faf89212da3095272dbcf82c2f708  2.381386        0      6   \n",
       "4            1  04c00a411eeb89c6282425d4593d00c1  2.521175        0      9   \n",
       "...        ...                               ...       ...      ...    ...   \n",
       "3539        49  fe280d66fd5ca63cc4bdb4fa5bd61f43  1.993354        1      0   \n",
       "3540        49  ffdf4a7cbea49c98c207261d23077e05  5.090733        0      6   \n",
       "3541        49  3d4fb65ca6b97c40b2db67b6709350ee  3.815668        0      3   \n",
       "3542        49  02a24459801710948003c12ab6b64230  2.859441        0     10   \n",
       "3543        49  ac9396cf4797fe8d53b1576b25328ce0  4.841092        0      3   \n",
       "\n",
       "      Unknown  size  Illicit Percentage  Licit Percentage  Unknown Percentage  \n",
       "0           2    29            0.000000          0.931034            0.068966  \n",
       "1          10    23            0.000000          0.565217            0.434783  \n",
       "2          13    19            0.000000          0.315789            0.684211  \n",
       "3          10    16            0.000000          0.375000            0.625000  \n",
       "4          13    22            0.000000          0.409091            0.590909  \n",
       "...       ...   ...                 ...               ...                 ...  \n",
       "3539       11    12            0.083333          0.000000            0.916667  \n",
       "3540        7    13            0.000000          0.461538            0.538462  \n",
       "3541       10    13            0.000000          0.230769            0.769231  \n",
       "3542        3    13            0.000000          0.769231            0.230769  \n",
       "3543       10    13            0.000000          0.230769            0.769231  \n",
       "\n",
       "[3544 rows x 10 columns]"
      ]
     },
     "execution_count": 10,
     "metadata": {},
     "output_type": "execute_result"
    }
   ],
   "source": [
    "data = pd.read_csv(os.path.join(MINED_SUBGRAPHS_DIR, \"Results_sz__min12_max_None_thresh_0_2_True.csv\"))\n",
    "data['Illicit Percentage'] = data[\"Illicit\"] / data[\"size\"]\n",
    "data['Licit Percentage'] = data[\"Licit\"] / data[\"size\"]\n",
    "data['Unknown Percentage'] = data[\"Unknown\"] / data[\"size\"]\n",
    "data"
   ]
  },
  {
   "cell_type": "code",
   "execution_count": 11,
   "metadata": {},
   "outputs": [
    {
     "name": "stdout",
     "output_type": "stream",
     "text": [
      "Mean q1: 2.6031274859157536\n",
      "Mean q2: 4.035232638817464\n",
      "(152,) (177,)\n"
     ]
    }
   ],
   "source": [
    "import numpy as np\n",
    "from sklearn import preprocessing\n",
    "\n",
    "quality_group1 =  data[(data['Illicit Percentage'] >= 0.1) & (data['Unknown Percentage'] >= 0.4)]['Quality'].values\n",
    "min_val = quality_group1.min()\n",
    "max_val = quality_group1.max()\n",
    "quality_group2 = data[(data['Illicit Percentage'] < 0.1) & (data['Unknown Percentage'] < 0.2)]['Quality'].values\n",
    "\n",
    "print(f\"Mean q1: {np.mean(quality_group1)}\")\n",
    "print(f\"Mean q2: {np.mean(quality_group2)}\")\n",
    "# Perform min-max scaling\n",
    "quality_group1 = (quality_group1 - min_val) / (max_val - min_val)\n",
    "\n",
    "\n",
    "min_val = quality_group2.min()\n",
    "max_val = quality_group2.max()\n",
    "quality_group2 = (quality_group2 - min_val) / (max_val - min_val)\n",
    "\n",
    "print(quality_group1.shape, quality_group2.shape)\n",
    "\n"
   ]
  },
  {
   "cell_type": "code",
   "execution_count": 12,
   "metadata": {},
   "outputs": [
    {
     "data": {
      "text/plain": [
       "array([0.16144769, 0.17333535, 0.18036493, 0.33130519, 0.        ,\n",
       "       0.19730551, 0.30487833, 0.4376424 , 0.29171348, 0.5371286 ,\n",
       "       0.11711406, 0.48568522, 0.22332274, 0.39708782, 0.29687417,\n",
       "       0.41384869, 0.21760046, 0.22549164, 0.2269263 , 0.34210894,\n",
       "       0.29328654, 0.28858037, 0.320064  , 0.34828547, 0.12298895,\n",
       "       0.38019504, 0.50619851, 0.16543395, 0.57733705, 0.43841405,\n",
       "       0.27905487, 0.27672253, 0.23800597, 0.47922449, 0.38564997,\n",
       "       0.22066322, 0.55213071, 0.28222891, 0.49159673, 0.35537876,\n",
       "       0.17498982, 0.39257096, 0.49392294, 0.23980907, 0.32142383,\n",
       "       0.41692151, 0.41446406, 0.27511042, 0.22337316, 0.3303857 ,\n",
       "       0.22436686, 0.36103832, 0.2892421 , 0.1344846 , 0.58125229,\n",
       "       0.30300834, 0.19238823, 0.02790464, 0.32554364, 0.09216678,\n",
       "       0.5985092 , 0.0777865 , 0.28719641, 0.14258577, 0.38960014,\n",
       "       0.2759909 , 0.63241103, 0.66667286, 0.23731801, 0.40981028,\n",
       "       0.08466502, 0.25531976, 0.25590276, 0.29466356, 0.17644319,\n",
       "       0.24134943, 0.2438401 , 0.31378796, 0.13780631, 0.37593859,\n",
       "       0.46696487, 0.29852358, 0.28978486, 0.24377724, 0.25089659,\n",
       "       0.25480316, 0.31122666, 0.10134856, 0.44480645, 0.46605745,\n",
       "       0.16768438, 0.21869525, 0.51371823, 0.3264554 , 0.14445362,\n",
       "       0.23441268, 0.31211941, 0.2433226 , 0.49186839, 0.23328254,\n",
       "       0.3239956 , 0.24708768, 0.41762071, 0.47313382, 0.11904712,\n",
       "       0.41098552, 0.33933187, 0.36819597, 0.13886166, 0.21384207,\n",
       "       0.08981809, 1.        , 0.359012  , 0.3427787 , 0.30701289,\n",
       "       0.4162866 , 0.42650742, 0.43269323, 0.38324328, 0.31409773,\n",
       "       0.34541902, 0.30723851, 0.34036367, 0.31568838, 0.32551147,\n",
       "       0.33078928, 0.31768467, 0.29410649, 0.45283376, 0.24923243,\n",
       "       0.3413422 , 0.25693491, 0.05986212, 0.41931369, 0.35725246,\n",
       "       0.45182533, 0.4990586 , 0.4658941 , 0.3742442 , 0.4258431 ,\n",
       "       0.27460998, 0.31118985, 0.24880415, 0.05744639, 0.61230491,\n",
       "       0.50210878, 0.44693792, 0.37043632, 0.61688317, 0.37013496,\n",
       "       0.35141162, 0.45095474])"
      ]
     },
     "execution_count": 12,
     "metadata": {},
     "output_type": "execute_result"
    }
   ],
   "source": [
    "quality_group1"
   ]
  },
  {
   "cell_type": "code",
   "execution_count": 13,
   "metadata": {},
   "outputs": [
    {
     "data": {
      "text/plain": [
       "array([0.0571223 , 0.63132135, 0.06218261, 0.07821513, 0.04772613,\n",
       "       0.06966624, 0.06500863, 0.06336341, 0.0347288 , 0.05139275,\n",
       "       0.06776901, 0.08949792, 0.07342123, 0.10209904, 0.07133007,\n",
       "       0.0862137 , 0.06944007, 0.04402607, 0.10021578, 0.08345732,\n",
       "       0.10780265, 0.08166835, 0.08436628, 0.0929041 , 0.08533225,\n",
       "       0.08297718, 0.10481594, 0.08188183, 0.07909506, 0.06714526,\n",
       "       0.11641657, 0.01117384, 0.04429747, 0.10857901, 0.09390808,\n",
       "       0.11694297, 0.26541662, 0.13016277, 0.13442405, 0.10943391,\n",
       "       0.17814864, 0.0639064 , 0.07550979, 0.10973451, 0.11702545,\n",
       "       0.14445321, 0.14459779, 0.10722003, 0.08601921, 0.13039835,\n",
       "       0.04782536, 0.14086995, 0.07803485, 0.04209068, 0.12045043,\n",
       "       0.15904795, 0.30806409, 0.06197203, 0.07619701, 0.01989338,\n",
       "       1.        , 0.19371832, 0.14947245, 0.16069419, 0.21964656,\n",
       "       0.08555347, 0.074255  , 0.1026218 , 0.0648115 , 0.08885958,\n",
       "       0.10568932, 0.08877329, 0.1623274 , 0.14076897, 0.11878505,\n",
       "       0.11250795, 0.11036272, 0.09580907, 0.14556859, 0.12131779,\n",
       "       0.12558064, 0.13805996, 0.13652591, 0.12227522, 0.1335597 ,\n",
       "       0.24240107, 0.16842815, 0.23687347, 0.11381958, 0.1093186 ,\n",
       "       0.12212815, 0.07476635, 0.08202449, 0.1010813 , 0.20598241,\n",
       "       0.02616356, 0.05261689, 0.02267456, 0.0883324 , 0.05753763,\n",
       "       0.06290997, 0.04371387, 0.07990765, 0.09882981, 0.0654918 ,\n",
       "       0.07116465, 0.05931801, 0.51103597, 0.26642388, 0.38817752,\n",
       "       0.16110031, 0.12574646, 0.02802346, 0.06541898, 0.09674609,\n",
       "       0.04264668, 0.03034081, 0.02773584, 0.02675294, 0.11934276,\n",
       "       0.09817861, 0.02127494, 0.02139279, 0.12845311, 0.10549031,\n",
       "       0.11498254, 0.05266819, 0.10515678, 0.13655999, 0.11560455,\n",
       "       0.11371341, 0.01634308, 0.18138563, 0.15187386, 0.06260852,\n",
       "       0.0237451 , 0.03047851, 0.11793705, 0.06730099, 0.179618  ,\n",
       "       0.24289099, 0.44034934, 0.12612116, 0.10746711, 0.38228277,\n",
       "       0.22841065, 0.36420258, 0.29119857, 0.22797863, 0.2193326 ,\n",
       "       0.2173813 , 0.34951496, 0.36506369, 0.34355438, 0.06862728,\n",
       "       0.07688923, 0.1325673 , 0.10470237, 0.07636728, 0.34222711,\n",
       "       0.03875752, 0.08414057, 0.12021028, 0.2150134 , 0.        ,\n",
       "       0.02739988, 0.11869102, 0.11117905, 0.0401604 , 0.17951395,\n",
       "       0.09445599, 0.13901712, 0.12155288, 0.03542183, 0.08887712,\n",
       "       0.2256487 , 0.07263925])"
      ]
     },
     "execution_count": 13,
     "metadata": {},
     "output_type": "execute_result"
    }
   ],
   "source": [
    "quality_group2"
   ]
  },
  {
   "cell_type": "markdown",
   "metadata": {},
   "source": [
    "Perform a Shapiro-Wilk to see if the data do not deviate significantly from the normal distribution. "
   ]
  },
  {
   "cell_type": "code",
   "execution_count": 14,
   "metadata": {},
   "outputs": [
    {
     "name": "stdout",
     "output_type": "stream",
     "text": [
      "variances 0.020174470146687787 0.01300002673586025\n",
      "ShapiroResult(statistic=0.9667669534683228, pvalue=0.000987594248726964)\n",
      "ShapiroResult(statistic=0.6769664287567139, pvalue=3.391653510475146e-18)\n"
     ]
    }
   ],
   "source": [
    "print(\"variances\",np.var(quality_group1), np.var(quality_group2))\n",
    "\n",
    "\n",
    "from scipy import stats\n",
    "print(stats.shapiro(quality_group1))\n",
    "print(stats.shapiro(quality_group2))\n"
   ]
  },
  {
   "cell_type": "markdown",
   "metadata": {},
   "source": [
    "Null Hypothesis (H0):\n",
    "The mean score in quality group 1 is equal to the mean score in quality group 2. In other words, there is no significant difference in scores between the two group\n",
    "Alternative Hypothesis (H1):\n",
    "The mean score in quality group 1 is not equal to the mean score in quality group 2. This suggests that there is a significant difference in scores between the two groups."
   ]
  },
  {
   "cell_type": "code",
   "execution_count": 15,
   "metadata": {},
   "outputs": [
    {
     "name": "stdout",
     "output_type": "stream",
     "text": [
      "\n",
      " Welch's t-test= 13.6285 \n",
      " p-value = 5.463610171868643e-33 \n",
      " Welch-Satterthwaite Degrees of Freedom= 288.5481\n"
     ]
    }
   ],
   "source": [
    "from scipy.stats import ttest_ind\n",
    "from sklearn import preprocessing\n",
    "\n",
    "alpha = 0.05\n",
    "## Welch-Satterthwaite Degrees of Freedom ##\n",
    "dof = (quality_group1.var()/quality_group1.size + quality_group2.var()/quality_group2.size)**2 / ((quality_group1.var()/quality_group1.size)**2 / (quality_group1.size-1) + (quality_group2.var()/quality_group2.size)**2 / (quality_group2.size-1))\n",
    "\n",
    "t, p = ttest_ind(quality_group1, quality_group2, equal_var=False)\n",
    "\n",
    "print(\"\\n\",\n",
    "        f\"Welch's t-test= {t:.4f}\", \"\\n\",\n",
    "        f\"p-value = {p}\", \"\\n\",\n",
    "        f\"Welch-Satterthwaite Degrees of Freedom= {dof:.4f}\")\n"
   ]
  },
  {
   "cell_type": "code",
   "execution_count": 16,
   "metadata": {},
   "outputs": [
    {
     "name": "stdout",
     "output_type": "stream",
     "text": [
      "Reject the null hypothesis. There is a significant difference between the two groups.\n"
     ]
    }
   ],
   "source": [
    "if p < alpha:\n",
    "    print(\"Reject the null hypothesis. There is a significant difference between the two groups.\")\n",
    "else:\n",
    "    print(\"Fail to reject the null hypothesis. There is no significant difference between the two groups.\")"
   ]
  }
 ],
 "metadata": {
  "kernelspec": {
   "display_name": "venv",
   "language": "python",
   "name": "python3"
  },
  "language_info": {
   "codemirror_mode": {
    "name": "ipython",
    "version": 3
   },
   "file_extension": ".py",
   "mimetype": "text/x-python",
   "name": "python",
   "nbconvert_exporter": "python",
   "pygments_lexer": "ipython3",
   "version": "3.10.11"
  }
 },
 "nbformat": 4,
 "nbformat_minor": 2
}
