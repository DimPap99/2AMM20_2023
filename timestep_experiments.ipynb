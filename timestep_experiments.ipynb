{
 "cells": [
  {
   "cell_type": "code",
   "execution_count": null,
   "metadata": {},
   "outputs": [],
   "source": [
    "import pandas as pd\n",
    "from helpers import read_csv, load_pickled_data, pickle_data\n",
    "import os\n",
    "import matplotlib.pyplot as plt \n",
    "import plotly\n",
    "import chart_studio.plotly as py\n",
    "import plotly.graph_objects as go\n",
    "import os, sys\n",
    "from helpers import bfs, get_class_pairs, choose_node_based_on_neighbors\n",
    "import numpy as np\n",
    "from Graph import Graph, Node\n",
    "from visualizations import visualize_graph_from_list, visualize_graph_df\n",
    "best_feature_cols = [ \"Local_feature_1\", \"Local_feature_40\", \"Local_feature_42\",\t\"Local_feature_46\",\t\"Local_feature_51\",\t\"Local_feature_52\",\t\"Local_feature_54\",\t\"Local_feature_58\",\t\"Local_feature_60\",\t\"Local_feature_64\",\t\"Local_feature_66\",\t\"Local_feature_76\",\t\"Local_feature_78\",\t\"Local_feature_88\",\t\"total_BTC\"]\n",
    "df_cols = [\"txId\"] + best_feature_cols + [\"class\"]\n",
    "TIMESTEP = 20\n",
    "DATASET_BASE = \"dataset\"\n",
    "PICKLED_TIMESTEPS = os.path.join(\"exports\", \"split_on_timestep.pkl\")\n",
    "\n",
    "txs_classes:pd.DataFrame = read_csv(os.path.join(DATASET_BASE, \"elliptic_txs_classes.csv\"), ret_Dataframe=True)\n",
    "txs_edgelist:pd.DataFrame = read_csv(os.path.join(DATASET_BASE, \"elliptic_txs_edgelist.csv\"), ret_Dataframe=True)\n",
    "txs_features:pd.DataFrame =  read_csv(os.path.join(DATASET_BASE, \"elliptic_txs_features.csv\"), ret_Dataframe=True)\\\n",
    "\n",
    "merge_feats_class = pd.merge(txs_features, txs_classes, on='txId')\n",
    "merge_feats_class.shape\n",
    "\n",
    "print(f\"Total Nodes df shape: {txs_features.shape}\")\n",
    "print(f\"total edges df shape: {txs_edgelist.shape}\")\n",
    "merge_feats_class = pd.merge(txs_features, txs_classes, on='txId')\n",
    "merge_feats_class.shape\n",
    "#timestep_graphs = load_pickled_data(PICKLED_TIMESTEPS)\n",
    "timestep_dataframe = merge_feats_class.loc[merge_feats_class['Time step'] == TIMESTEP].reset_index(drop=True)[df_cols]\n",
    "timestep_edges = txs_edgelist[txs_edgelist['txId1'].isin(timestep_dataframe['txId'])].reset_index(drop=True)\n"
   ]
  },
  {
   "cell_type": "code",
   "execution_count": null,
   "metadata": {},
   "outputs": [],
   "source": [
    "timestep_list = timestep_dataframe.values.tolist()\n",
    "\n",
    "edge_list = timestep_edges.values.tolist()"
   ]
  },
  {
   "cell_type": "code",
   "execution_count": null,
   "metadata": {},
   "outputs": [],
   "source": [
    "\n",
    "\n",
    "graph_of_interest = Graph()\n",
    "graph_of_interest.create_from_lists(timestep_list, edge_list)\n",
    "#check node with max children. (ONLY Children)\n",
    "max_children = 0\n",
    "node_of_interest:Node = None\n"
   ]
  },
  {
   "cell_type": "code",
   "execution_count": null,
   "metadata": {},
   "outputs": [],
   "source": [
    "\n",
    "node_of_interest:Node = choose_node_based_on_neighbors(graph_of_interest, 4, label=1, only_children=True)\n",
    "if node_of_interest is not None:\n",
    "    total_disjoint_graphs = []\n",
    "    total_nodes = graph_of_interest.node_txId_set.copy()\n",
    "    result = bfs(graph_of_interest, node_of_interest.txId,keep_direction=True)\n",
    "    pairs = list(result[0])\n",
    "    visited_nodes = list(result[1])\n",
    "    #print(len(pairs), len(visited_nodes))\n",
    "    nodes_n_classes = []\n",
    "    for n in visited_nodes:\n",
    "        nodes_n_classes.append([n, graph_of_interest.nodes[n].label])\n",
    "    df1 = pd.DataFrame(nodes_n_classes, columns=['txId', 'class'])\n",
    "    # print(df1)\n",
    "    visualize_graph_df(df1, txs_edgelist, f\"Plot for node: {node_of_interest.txId} with total neighbours: {node_of_interest.get_num_of_neighbors(only_children=False)}\")\n",
    "    #visualize_graph_from_list(cls_pairs, pairs, f\"Graph in timestep {TIMESTEP} that includes the node {node_of_interest.txId}\")\n",
    "else:\n",
    "    print(\"No such node\")"
   ]
  },
  {
   "cell_type": "code",
   "execution_count": null,
   "metadata": {},
   "outputs": [],
   "source": [
    "from helpers import find_best_fitted_dist_for_features\n",
    "#best_distributions = find_best_fitted_dist_for_features(timestep_dataframe[best_feature_cols], 200)\n"
   ]
  }
 ],
 "metadata": {
  "kernelspec": {
   "display_name": "venv",
   "language": "python",
   "name": "python3"
  },
  "language_info": {
   "codemirror_mode": {
    "name": "ipython",
    "version": 3
   },
   "file_extension": ".py",
   "mimetype": "text/x-python",
   "name": "python",
   "nbconvert_exporter": "python",
   "pygments_lexer": "ipython3",
   "version": "3.10.11"
  }
 },
 "nbformat": 4,
 "nbformat_minor": 2
}
