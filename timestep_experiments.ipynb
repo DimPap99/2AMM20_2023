{
 "cells": [
  {
   "cell_type": "code",
   "execution_count": 1,
   "metadata": {},
   "outputs": [
    {
     "name": "stdout",
     "output_type": "stream",
     "text": [
      "Total Nodes df shape: (203769, 184)\n",
      "total edges df shape: (234355, 2)\n"
     ]
    }
   ],
   "source": [
    "import pandas as pd\n",
    "from helpers import read_csv, load_pickled_data, pickle_data\n",
    "import os\n",
    "import matplotlib.pyplot as plt \n",
    "import plotly\n",
    "import chart_studio.plotly as py\n",
    "import plotly.graph_objects as go\n",
    "import os, sys\n",
    "from helpers import bfs, get_class_pairs, choose_node_based_on_neighbors\n",
    "import numpy as np\n",
    "from Graph import Graph, Node\n",
    "from visualizations import visualize_graph_from_list, visualize_graph_df\n",
    "\n",
    "TIMESTEP = 20\n",
    "DATASET_BASE = \"dataset\"\n",
    "PICKLED_TIMESTEPS = os.path.join(\"exports\", \"split_on_timestep.pkl\")\n",
    "\n",
    "txs_classes:pd.DataFrame = read_csv(os.path.join(DATASET_BASE, \"elliptic_txs_classes.csv\"), ret_Dataframe=True)\n",
    "txs_edgelist:pd.DataFrame = read_csv(os.path.join(DATASET_BASE, \"elliptic_txs_edgelist.csv\"), ret_Dataframe=True)\n",
    "txs_features:pd.DataFrame =  read_csv(os.path.join(DATASET_BASE, \"elliptic_txs_features.csv\"), ret_Dataframe=True)\n",
    "\n",
    "\n",
    "merge_feats_class = pd.merge(txs_features, txs_classes, on='txId')\n",
    "merge_feats_class.shape\n",
    "print(f\"Total Nodes df shape: {txs_features.shape}\")\n",
    "print(f\"total edges df shape: {txs_edgelist.shape}\")\n",
    "#timestep_graphs = load_pickled_data(PICKLED_TIMESTEPS)\n",
    "timestep_dataframe = merge_feats_class.loc[merge_feats_class['Time step'] == TIMESTEP].reset_index(drop=True)\n",
    "timestep_edges = txs_edgelist[txs_edgelist['txId1'].isin(timestep_dataframe['txId'])].reset_index(drop=True)\n"
   ]
  },
  {
   "cell_type": "code",
   "execution_count": 2,
   "metadata": {},
   "outputs": [],
   "source": [
    "timestep_list = timestep_dataframe.values.tolist()\n",
    "\n",
    "edge_list = timestep_edges.values.tolist()"
   ]
  },
  {
   "cell_type": "code",
   "execution_count": 3,
   "metadata": {},
   "outputs": [],
   "source": [
    "\n",
    "\n",
    "graph_of_interest = Graph()\n",
    "graph_of_interest.create_from_lists(timestep_list, edge_list)\n",
    "#check node with max children. (ONLY Children)\n",
    "max_children = 0\n",
    "node_of_interest:Node = None\n"
   ]
  },
  {
   "cell_type": "code",
   "execution_count": 4,
   "metadata": {},
   "outputs": [
    {
     "ename": "TypeError",
     "evalue": "visualize_graph_df() missing 1 required positional argument: 'plot_str'",
     "output_type": "error",
     "traceback": [
      "\u001b[1;31m---------------------------------------------------------------------------\u001b[0m",
      "\u001b[1;31mTypeError\u001b[0m                                 Traceback (most recent call last)",
      "\u001b[1;32mc:\\Users\\torat\\Projects\\2AMM20_2023\\timestep_experiments.ipynb Cell 4\u001b[0m line \u001b[0;36m1\n\u001b[0;32m     <a href='vscode-notebook-cell:/c%3A/Users/torat/Projects/2AMM20_2023/timestep_experiments.ipynb#W3sZmlsZQ%3D%3D?line=11'>12</a>\u001b[0m     df1 \u001b[39m=\u001b[39m pd\u001b[39m.\u001b[39mDataFrame(nodes_n_classes, columns\u001b[39m=\u001b[39m[\u001b[39m'\u001b[39m\u001b[39mtxId\u001b[39m\u001b[39m'\u001b[39m, \u001b[39m'\u001b[39m\u001b[39mclass\u001b[39m\u001b[39m'\u001b[39m])\n\u001b[0;32m     <a href='vscode-notebook-cell:/c%3A/Users/torat/Projects/2AMM20_2023/timestep_experiments.ipynb#W3sZmlsZQ%3D%3D?line=12'>13</a>\u001b[0m     \u001b[39m# print(df1)\u001b[39;00m\n\u001b[1;32m---> <a href='vscode-notebook-cell:/c%3A/Users/torat/Projects/2AMM20_2023/timestep_experiments.ipynb#W3sZmlsZQ%3D%3D?line=13'>14</a>\u001b[0m     visualize_graph_df(df1, txs_edgelist)\n\u001b[0;32m     <a href='vscode-notebook-cell:/c%3A/Users/torat/Projects/2AMM20_2023/timestep_experiments.ipynb#W3sZmlsZQ%3D%3D?line=14'>15</a>\u001b[0m     \u001b[39m#visualize_graph_from_list(cls_pairs, pairs, f\"Graph in timestep {TIMESTEP} that includes the node {node_of_interest.txId}\")\u001b[39;00m\n\u001b[0;32m     <a href='vscode-notebook-cell:/c%3A/Users/torat/Projects/2AMM20_2023/timestep_experiments.ipynb#W3sZmlsZQ%3D%3D?line=15'>16</a>\u001b[0m \u001b[39melse\u001b[39;00m:\n\u001b[0;32m     <a href='vscode-notebook-cell:/c%3A/Users/torat/Projects/2AMM20_2023/timestep_experiments.ipynb#W3sZmlsZQ%3D%3D?line=16'>17</a>\u001b[0m     \u001b[39mprint\u001b[39m(\u001b[39m\"\u001b[39m\u001b[39mNo such node\u001b[39m\u001b[39m\"\u001b[39m)\n",
      "\u001b[1;31mTypeError\u001b[0m: visualize_graph_df() missing 1 required positional argument: 'plot_str'"
     ]
    }
   ],
   "source": [
    "\n",
    "node_of_interest:Node = choose_node_based_on_neighbors(graph_of_interest, 4, label=1)\n",
    "if node_of_interest is not None:\n",
    "    total_disjoint_graphs = []\n",
    "    total_nodes = graph_of_interest.node_txId_set.copy()\n",
    "    result = bfs(graph_of_interest, node_of_interest.txId)\n",
    "    pairs = list(result[0])\n",
    "    visited_nodes = list(result[1])\n",
    "    #print(len(pairs), len(visited_nodes))\n",
    "    nodes_n_classes = []\n",
    "    for n in visited_nodes:\n",
    "        nodes_n_classes.append([n, graph_of_interest.nodes[n].label])\n",
    "    df1 = pd.DataFrame(nodes_n_classes, columns=['txId', 'class'])\n",
    "    # print(df1)\n",
    "    visualize_graph_df(df1, txs_edgelist, f\"Plot for node: {node_of_interest.txId} with total neighbours: {node_of_interest.get_num_of_neighbors(only_children=False)}\")\n",
    "    #visualize_graph_from_list(cls_pairs, pairs, f\"Graph in timestep {TIMESTEP} that includes the node {node_of_interest.txId}\")\n",
    "else:\n",
    "    print(\"No such node\")"
   ]
  }
 ],
 "metadata": {
  "kernelspec": {
   "display_name": "venv",
   "language": "python",
   "name": "python3"
  },
  "language_info": {
   "codemirror_mode": {
    "name": "ipython",
    "version": 3
   },
   "file_extension": ".py",
   "mimetype": "text/x-python",
   "name": "python",
   "nbconvert_exporter": "python",
   "pygments_lexer": "ipython3",
   "version": "3.11.4"
  }
 },
 "nbformat": 4,
 "nbformat_minor": 2
}
